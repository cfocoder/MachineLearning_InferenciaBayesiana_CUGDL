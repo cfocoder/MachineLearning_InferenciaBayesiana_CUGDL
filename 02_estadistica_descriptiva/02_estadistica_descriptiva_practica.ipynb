{
 "cells": [
  {
   "cell_type": "markdown",
   "id": "26d607a6-3f5a-410f-9692-bfca8011fc7a",
   "metadata": {},
   "source": [
    "## Ejercicio: teorema del límite central\n",
    "\n",
    "Se desea simular la distribución de edades de una población ficticia de 8 Millones de personas. La población debe estar dividida en distintos **grupos de edad**, por ejemplo:\n",
    "\n",
    "* Niños 0-12 años\n",
    "* Jóvenes\n",
    "* Adultos\n",
    "* Adultos mayores\n",
    "\n",
    "1. Con python, genera la distribución poblacional completa. La idea es que esta distribución sea irregular.\n",
    "2. A partir de esta población,\n",
    "* Toma muestras aleatorias simples de diferentes tamaños (`n=30,100,500`)\n",
    "* Calcula la media muestral de cada muestra\n",
    "* Repite este proceso varias veces (al menos 1000)\n",
    "* Representa gráficamente con un histograma la distribución de estas medias muestrales, para cada caso de tamaño de muestra `n`\n",
    "* Analiza los resultado ¿Qué tipo de distribución es?\n"
   ]
  },
  {
   "cell_type": "code",
   "execution_count": null,
   "id": "7cecfa0a-a168-4c8e-a1e8-331d3a97bdf9",
   "metadata": {},
   "outputs": [],
   "source": []
  }
 ],
 "metadata": {
  "kernelspec": {
   "display_name": "Python 3 (ipykernel)",
   "language": "python",
   "name": "python3"
  },
  "language_info": {
   "codemirror_mode": {
    "name": "ipython",
    "version": 3
   },
   "file_extension": ".py",
   "mimetype": "text/x-python",
   "name": "python",
   "nbconvert_exporter": "python",
   "pygments_lexer": "ipython3",
   "version": "3.10.16"
  }
 },
 "nbformat": 4,
 "nbformat_minor": 5
}
