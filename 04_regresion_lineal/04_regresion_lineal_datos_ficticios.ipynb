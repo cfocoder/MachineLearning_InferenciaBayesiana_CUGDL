{
 "cells": [
  {
   "cell_type": "markdown",
   "metadata": {},
   "source": [
    "<center> <span style=\"color:indigo\">Machine Learning e Inferencia Bayesiana</span> </center> \n",
    "\n",
    "<div style=\"text-align: center;\">\n",
    "<img src=\"../Imagenes/CUGDL_logo.png\" alt=\"Drawing\" style=\"width: 800px;\"/>\n",
    "</div>\n",
    "\n",
    "<center> <span style=\"color:DarkBlue\">  Tema 4. Regresión lineal: Datos ficticios </span>  </center>\n",
    "<center> <span style=\"color:Blue\"> Profesor: M. en C. Iván A. Toledano Juárez </span>  </center>"
   ]
  },
  {
   "cell_type": "markdown",
   "metadata": {},
   "source": [
    "# Modelo de regresión lineal simple con datos simulados\n",
    "\n",
    "En este notebook exploraremos el comportamiento de datos generados artificialmente a partir de un modelo de **regresión lineal simple**, con ruido gaussiano. Este ejercicio nos permitirá visualizar cómo se relacionan los datos con la recta verdadera subyacente, así como el efecto que tiene el **nivel de variabilidad aleatoria (error)** sobre la dispersión de los puntos.\n",
    "\n",
    "## Ecuación de la recta\n",
    "\n",
    "Recordamos como es la ecuación de una recta, más un error aleatorio  asociado:\n",
    "\n",
    "\\begin{equation}\n",
    "y = \\beta_0 + \\beta_1 x + \\varepsilon\n",
    "\\end{equation}\n",
    "\n",
    "Vamos a ir por pasos:\n",
    "\n",
    "1. Primero creamos $n$ puntos de una variable independiente $x$. Estos valores serán generados de manera aleatoria siguiendo una distribución gaussiana $\\mathcal{N} (\\mu_x, \\sigma_x)$.\n",
    "\n",
    "2. Generamos un error aleatorio $\\varepsilon$ que seguirá una distribución gaussiana de forma $\\mathcal{N} (0, \\sigma_\\varepsilon)$. Recordar que un error o residuo en una regresión lineal debería seguir una distribución normal centrada en cero.\n",
    "\n",
    "3. Generamos $n$ valores correspondientes de la variable dependiente $y$ según la ecuación de la recta.\n",
    "\n",
    "4. Graficamos la recta de referencia, vs los puntos generados a partir de ésta.\n",
    "\n",
    "Por favor, cambien los parámetros antes discutidos para observar como cambian los puntos generados."
   ]
  },
  {
   "cell_type": "code",
   "execution_count": 59,
   "metadata": {},
   "outputs": [],
   "source": [
    "# Importación de librerías\n",
    "import numpy as np\n",
    "import matplotlib.pyplot as plt\n",
    "import pandas as pd\n",
    "\n",
    "# Scikit-learn para regresión lineal\n",
    "from sklearn.linear_model import LinearRegression\n",
    "from sklearn.metrics import r2_score, mean_squared_error"
   ]
  },
  {
   "cell_type": "code",
   "execution_count": 48,
   "metadata": {},
   "outputs": [
    {
     "data": {
      "image/png": "[encoded data removed]",
      "text/plain": [
       "<Figure size 640x480 with 1 Axes>"
      ]
     },
     "metadata": {},
     "output_type": "display_data"
    }
   ],
   "source": [
    "# Parámetros\n",
    "n = 100 # número de puntos\n",
    "mean_x = 1.5 # media de la variable independiente\n",
    "sigma_x = 4.5 # desviación estándar de la variable independiente\n",
    "sigma_e = 3 # desviación estándar del error\n",
    "beta_0 = 5.0\n",
    "beta_1 = 1.9\n",
    "\n",
    "# función de una recta\n",
    "def line(x,beta_0, beta_1, error):\n",
    "    return beta_0 + beta_1*x + error\n",
    "\n",
    "# 1. Generamos valores para la variable independiente x\n",
    "x = np.random.normal(loc = mean_x,\n",
    "                     scale = sigma_x,\n",
    "                     size = n)\n",
    "\n",
    "# 2. Generamos un error aleatorio e\n",
    "e = np.random.normal(loc = 0,\n",
    "                     scale = sigma_e,\n",
    "                     size = n)\n",
    "\n",
    "# 3. Generamos valores de y a partir de la ecuación de la recta\n",
    "y_model = line(x, beta_0, beta_1, 0)\n",
    "y_ficticio = line(x, beta_0, beta_1, e)\n",
    "\n",
    "# 4. Graficamos los valores de la recta (modelo) y los ficticios\n",
    "\n",
    "plt.plot(x,y_model)\n",
    "plt.plot(x,y_ficticio,\"ro\")\n",
    "plt.axhline(np.mean(y_ficticio),color='g') # indica el promedio de y actual\n",
    "plt.title(\"Valor actual vs prediccion\")\n",
    "plt.show()"
   ]
  },
  {
   "cell_type": "markdown",
   "metadata": {},
   "source": [
    "En este gráfico, la **línea verde** representa el **promedio** del conjunto de datos observados (aunque ficticios en este caso), y sirve como referencia base para comparar el ajuste del modelo. Cada **punto rojo** corresopnde a un valor observado, generado con ruido o error. Estos puntos no coinciden necesariamente con las **predicciones del modelo**, que se representa con una **recta de regresión** azul. La diferencia entre cada valor observado y su predicción (la distancia vertical entre el punto rojo y la recta azul) se denomina **residuo**, y refleja el error del modelo al tratar de explicar ese dato observado.  \n",
    "\n",
    "Si elevamos al cuadrado cada uno de esos residuos y los sumamos, obtenemos la **Suma de los Cuadrados del Error (SSD)**, que representa la parte de la variabilidad que el modelo **no puede explicar**:\n",
    "\n",
    "\\begin{equation}\n",
    "\\text{SSD} = \\sum_{i=1}^{n} (y_i - \\hat{y}_i)^2\n",
    "\\end{equation}\n",
    "\n",
    "Por otro lado, la distancia entre cada valor observado y el promedio general (la línea verde) corresponde a la **Suma Total de los Cuadrados (SST)**. Esta mide la **variabilidad total** en los datos:\n",
    "\n",
    "\\begin{equation}\n",
    "\\text{SST} = \\sum_{i=1}^{n} (y_i - \\bar{y})^2\n",
    "\\end{equation}\n",
    "\n",
    "Finalmente, la diferencia entre la predicción del modelo y el promedio de los datos se denomina **Suma de los Cuadrados de la Regresión (SSR)**, que representa la parte **explicada por el modelo**:\n",
    "\n",
    "\\begin{equation}\n",
    "\\text{SSR} = \\sum_{i=1}^{n} (\\hat{y}_i - \\bar{y})^2\n",
    "\\end{equation}\n",
    "\n",
    "Estas tres cantidades están relacionadas por la siguiente identidad fundamental:\n",
    "\n",
    "\\begin{equation}\n",
    "\\text{SST} = \\text{SSR} + \\text{SSD}\n",
    "\\end{equation}\n",
    "\n",
    "En un modelo perfecto (donde todas las predicciones coinciden con los datos observados), el error sería nulo: **SSD = 0**. Por el contrario, si el modelo no aporta ninguna mejora con respecto al simple promedio, entonces **SSR = 0** y **SST = SSD**.\n",
    "\n",
    "A partir de esta relación, podemos definir el **coeficiente de determinación** $R^2$, que indica la proporción de la variabilidad total que es explicada por el modelo. Se calcula como:\n",
    "\n",
    "\\begin{equation}\n",
    "R^2 = \\frac{\\text{SSR}}{\\text{SST}} = 1 - \\frac{\\text{SSD}}{\\text{SST}}\n",
    "\\end{equation}\n",
    "\n",
    "- Si $R^2 = 1$, el modelo explica perfectamente los datos (sin error).\n",
    "- Si $R^2 = 0$, el modelo no mejora respecto a usar simplemente el promedio.\n",
    "- Un valor negativo de $R^2$ puede surgir cuando el modelo es peor que el promedio (en modelos no lineales mal ajustados).\n",
    "\n",
    "Esta métrica es una de las principales formas de evaluar el rendimiento de un modelo de regresión lineal. A continuación, vamos a calcularla directamente."
   ]
  },
  {
   "cell_type": "code",
   "execution_count": 49,
   "metadata": {},
   "outputs": [
    {
     "data": {
      "text/html": [
       "<div>\n",
       "<style scoped>\n",
       "    .dataframe tbody tr th:only-of-type {\n",
       "        vertical-align: middle;\n",
       "    }\n",
       "\n",
       "    .dataframe tbody tr th {\n",
       "        vertical-align: top;\n",
       "    }\n",
       "\n",
       "    .dataframe thead th {\n",
       "        text-align: right;\n",
       "    }\n",
       "</style>\n",
       "<table border=\"1\" class=\"dataframe\">\n",
       "  <thead>\n",
       "    <tr style=\"text-align: right;\">\n",
       "      <th></th>\n",
       "      <th>x</th>\n",
       "      <th>y_actual</th>\n",
       "      <th>y_pred</th>\n",
       "    </tr>\n",
       "  </thead>\n",
       "  <tbody>\n",
       "    <tr>\n",
       "      <th>0</th>\n",
       "      <td>-5.532601</td>\n",
       "      <td>-8.582827</td>\n",
       "      <td>-5.511942</td>\n",
       "    </tr>\n",
       "    <tr>\n",
       "      <th>1</th>\n",
       "      <td>1.537223</td>\n",
       "      <td>11.021243</td>\n",
       "      <td>7.920723</td>\n",
       "    </tr>\n",
       "    <tr>\n",
       "      <th>2</th>\n",
       "      <td>-1.424912</td>\n",
       "      <td>4.572038</td>\n",
       "      <td>2.292667</td>\n",
       "    </tr>\n",
       "    <tr>\n",
       "      <th>3</th>\n",
       "      <td>4.470410</td>\n",
       "      <td>9.570689</td>\n",
       "      <td>13.493780</td>\n",
       "    </tr>\n",
       "    <tr>\n",
       "      <th>4</th>\n",
       "      <td>-1.298855</td>\n",
       "      <td>3.660841</td>\n",
       "      <td>2.532175</td>\n",
       "    </tr>\n",
       "  </tbody>\n",
       "</table>\n",
       "</div>"
      ],
      "text/plain": [
       "          x   y_actual     y_pred\n",
       "0 -5.532601  -8.582827  -5.511942\n",
       "1  1.537223  11.021243   7.920723\n",
       "2 -1.424912   4.572038   2.292667\n",
       "3  4.470410   9.570689  13.493780\n",
       "4 -1.298855   3.660841   2.532175"
      ]
     },
     "execution_count": 49,
     "metadata": {},
     "output_type": "execute_result"
    }
   ],
   "source": [
    "## Ponemos los datos en un DataFrame\n",
    "\n",
    "df = pd.DataFrame(\n",
    "    {\n",
    "        \"x\" : x,\n",
    "        \"y_actual\" : y_ficticio,\n",
    "        \"y_pred\": y_model\n",
    "    }\n",
    ")\n",
    "df.head()"
   ]
  },
  {
   "cell_type": "code",
   "execution_count": 72,
   "metadata": {},
   "outputs": [],
   "source": [
    "# Guardamos los valores individuales de los cuadrados\n",
    "df[\"SSR\"] = (df[\"y_pred\"] - df[\"y_actual\"].mean())**2.\n",
    "df[\"SSD\"] = (df[\"y_pred\"]- df[\"y_actual\"])**2.\n",
    "df[\"SST\"] = (df[\"y_actual\"] - df[\"y_actual\"].mean())**2."
   ]
  },
  {
   "cell_type": "code",
   "execution_count": 73,
   "metadata": {},
   "outputs": [
    {
     "data": {
      "text/html": [
       "<div>\n",
       "<style scoped>\n",
       "    .dataframe tbody tr th:only-of-type {\n",
       "        vertical-align: middle;\n",
       "    }\n",
       "\n",
       "    .dataframe tbody tr th {\n",
       "        vertical-align: top;\n",
       "    }\n",
       "\n",
       "    .dataframe thead th {\n",
       "        text-align: right;\n",
       "    }\n",
       "</style>\n",
       "<table border=\"1\" class=\"dataframe\">\n",
       "  <thead>\n",
       "    <tr style=\"text-align: right;\">\n",
       "      <th></th>\n",
       "      <th>x</th>\n",
       "      <th>y_actual</th>\n",
       "      <th>y_pred</th>\n",
       "      <th>SSR</th>\n",
       "      <th>SSD</th>\n",
       "      <th>SST</th>\n",
       "    </tr>\n",
       "  </thead>\n",
       "  <tbody>\n",
       "    <tr>\n",
       "      <th>0</th>\n",
       "      <td>-5.532601</td>\n",
       "      <td>-8.582827</td>\n",
       "      <td>-5.511942</td>\n",
       "      <td>186.338444</td>\n",
       "      <td>9.430337</td>\n",
       "      <td>279.607537</td>\n",
       "    </tr>\n",
       "    <tr>\n",
       "      <th>1</th>\n",
       "      <td>1.537223</td>\n",
       "      <td>11.021243</td>\n",
       "      <td>7.920723</td>\n",
       "      <td>0.047488</td>\n",
       "      <td>9.613223</td>\n",
       "      <td>8.309390</td>\n",
       "    </tr>\n",
       "    <tr>\n",
       "      <th>2</th>\n",
       "      <td>-1.424912</td>\n",
       "      <td>4.572038</td>\n",
       "      <td>2.292667</td>\n",
       "      <td>34.175418</td>\n",
       "      <td>5.195529</td>\n",
       "      <td>12.720666</td>\n",
       "    </tr>\n",
       "    <tr>\n",
       "      <th>3</th>\n",
       "      <td>4.470410</td>\n",
       "      <td>9.570689</td>\n",
       "      <td>13.493780</td>\n",
       "      <td>28.677501</td>\n",
       "      <td>15.390642</td>\n",
       "      <td>2.050759</td>\n",
       "    </tr>\n",
       "    <tr>\n",
       "      <th>4</th>\n",
       "      <td>-1.298855</td>\n",
       "      <td>3.660841</td>\n",
       "      <td>2.532175</td>\n",
       "      <td>31.432472</td>\n",
       "      <td>1.273887</td>\n",
       "      <td>20.050702</td>\n",
       "    </tr>\n",
       "  </tbody>\n",
       "</table>\n",
       "</div>"
      ],
      "text/plain": [
       "          x   y_actual     y_pred         SSR        SSD         SST\n",
       "0 -5.532601  -8.582827  -5.511942  186.338444   9.430337  279.607537\n",
       "1  1.537223  11.021243   7.920723    0.047488   9.613223    8.309390\n",
       "2 -1.424912   4.572038   2.292667   34.175418   5.195529   12.720666\n",
       "3  4.470410   9.570689  13.493780   28.677501  15.390642    2.050759\n",
       "4 -1.298855   3.660841   2.532175   31.432472   1.273887   20.050702"
      ]
     },
     "execution_count": 73,
     "metadata": {},
     "output_type": "execute_result"
    }
   ],
   "source": [
    "df.head()"
   ]
  },
  {
   "cell_type": "code",
   "execution_count": 74,
   "metadata": {},
   "outputs": [
    {
     "name": "stdout",
     "output_type": "stream",
     "text": [
      "SSR:  6174.6\n",
      "SSD:  1046.6\n",
      "SST:  7295.2\n",
      "SSR + SSD:  7221.2\n"
     ]
    }
   ],
   "source": [
    "# Creamos los valores de la suma de cuadrados\n",
    "SSR = sum(df[\"SSR\"])\n",
    "SSD = sum(df[\"SSD\"])\n",
    "SST = sum(df[\"SST\"])\n",
    "print('SSR: ', round(SSR,2))\n",
    "print('SSD: ', round(SSD,2))\n",
    "print('SST: ', round(SST,2))\n",
    "print('SSR + SSD: ', round(SSR + SSD, 2)) ## Tiene que ser igual a SST"
   ]
  },
  {
   "cell_type": "code",
   "execution_count": 58,
   "metadata": {},
   "outputs": [
    {
     "name": "stdout",
     "output_type": "stream",
     "text": [
      "R2:  0.846\n"
     ]
    }
   ],
   "source": [
    "# Calculamos coeficiente de determinación\n",
    "R2 = SSR/SST\n",
    "print('R2: ', round(R2,3))"
   ]
  },
  {
   "cell_type": "code",
   "execution_count": 54,
   "metadata": {},
   "outputs": [
    {
     "data": {
      "image/png": "[encoded data removed]",
      "text/plain": [
       "<Figure size 640x480 with 1 Axes>"
      ]
     },
     "metadata": {},
     "output_type": "display_data"
    }
   ],
   "source": [
    "# Creamos un histograma de los residuos\n",
    "plt.hist(df[\"y_pred\"] - df[\"y_actual\"])\n",
    "plt.show()\n",
    "# Vemos que tiene que ser normal"
   ]
  },
  {
   "cell_type": "markdown",
   "metadata": {},
   "source": [
    "## Comparación con el modelo estimado mediante scikit-learn\n",
    "\n",
    "Una vez generado el conjunto de datos sintéticos, podemos ajustar un modelo de regresión lineal utilizando la librería `scikit-learn`. Este modelo busca estimar los coeficientes (pendiente e intercepto) que mejor se ajustan a los datos observados, minimizando la suma de los cuadrados del error (SSD). \n",
    "\n",
    "Al comparar los parámetros estimados por `LinearRegression` con los valores reales usados para generar los datos, podemos evaluar qué tan bien fue capaz el modelo de \"recuperar\" la relación lineal subyacente a pesar del ruido. Cuando el nivel de error es bajo, el modelo suele estimar valores muy cercanos a los verdaderos coeficientes. Sin embargo, conforme aumenta la varianza del error, las estimaciones pueden volverse menos precisas, lo que se refleja también en una disminución del coeficiente de determinación $R^2$.\n",
    "\n",
    "Esta comparación permite desarrollar intuición sobre la sensibilidad de los modelos de regresión lineal ante el ruido y sobre la relación entre el ajuste visual y las métricas cuantitativas como $R^2$, los coeficientes estimados y el error.\n",
    "\n",
    "Agregamos también otra métrica relevante, MSE (mean squared error), dada por la siguiente ecuación:\n",
    "\n",
    "\\begin{equation}\n",
    "\\text{MSE} = \\frac{1}{n} \\sum_{i=1}^{n} (y_i - \\hat{y}_i)^2\n",
    "\\end{equation}\n",
    "\n",
    "esta mide el promedio del cuadrado de los errores entre las predicciones y los valores reales.\n"
   ]
  },
  {
   "cell_type": "code",
   "execution_count": 87,
   "metadata": {},
   "outputs": [
    {
     "name": "stdout",
     "output_type": "stream",
     "text": [
      "R2:  0.8375709708609451\n",
      "MSE:  10.193757920271727\n",
      "RMSE:  3.192766499490955\n",
      "Parámetros del ajuste\n",
      "beta_0:  4.446794471498098\n",
      "beta_1:  [1.9196441]\n"
     ]
    }
   ],
   "source": [
    "model = LinearRegression(fit_intercept=True) # 1. Instanciamos el modelo, junto con sus parametros\n",
    "model.fit(df['x'].to_frame(),df['y_actual']) # 2. \"Entrenamos el modelo\", ajustamos el modelo a los datos\n",
    "y_pred = model.predict(df['x'].to_frame()) # 3. Hacemos predicciones con el modelo entrenado\n",
    "\n",
    "# 4. Evaluación del modelo con métricas\n",
    "r2 = r2_score(y_pred, df['y_actual'])\n",
    "mse = mean_squared_error(y_pred, df['y_actual'])\n",
    "rmse = np.sqrt(mse)\n",
    "\n",
    "print('R2: ', r2)\n",
    "print('MSE: ', mse)\n",
    "print('RMSE: ', rmse)\n",
    "\n",
    "print('Parámetros del ajuste')\n",
    "print('beta_0: ', model.intercept_)\n",
    "print('beta_1: ', model.coef_)"
   ]
  },
  {
   "cell_type": "markdown",
   "metadata": {},
   "source": [
    "Vemos que el ajuste por Scikit-Learn es muy parecido a los parámetros que utilizamos para generar estos datos ficticios. Con métricas adecuadas para su ajuste.\n",
    "\n",
    "## Error Estándar de los Residuos (RSE)\n",
    "\n",
    "El **Error Estándar de los Residuos (RSE, por sus siglas en inglés)** es una medida que estima la **desviación típica de los errores de predicción** en un modelo de regresión lineal. Representa, en promedio, **cuánto se desvían los valores observados de la línea de regresión ajustada**. A diferencia del MSE, el RSE toma en cuenta los **grados de libertad** del modelo, dividiendo la suma de los residuos al cuadrado entre $n - p - 1$, donde $n$ es el número de observaciones y $p$ el número de predictores (1 en este caso).\n",
    "\n",
    "\\begin{equation}\n",
    "\\text{RSE} = \\sqrt{\\frac{1}{n - p - 1} \\sum_{i=1}^{n} (y_i - \\hat{y}_i)^2}\n",
    "\\end{equation}\n",
    "\n",
    "Un RSE más bajo indica un mejor ajuste del modelo a los datos. Sin embargo, su interpretación absoluta depende de la escala de la variable respuesta, por lo que a menudo se expresa como un **porcentaje del promedio de \\( y \\)** para facilitar su evaluación.\n"
   ]
  },
  {
   "cell_type": "code",
   "execution_count": 88,
   "metadata": {},
   "outputs": [
    {
     "data": {
      "text/plain": [
       "np.float64(3.2679635344070674)"
      ]
     },
     "execution_count": 88,
     "metadata": {},
     "output_type": "execute_result"
    }
   ],
   "source": [
    "p=1 # solo tenemos una variable predictora\n",
    "RSE = np.sqrt(SSD/(len(df)-p-1))\n",
    "RSE\n",
    "## Esta desviacion tipica de los residuos, cuanto menor sea es mejor el modelo\n",
    "# Comparar con el promedio"
   ]
  },
  {
   "cell_type": "code",
   "execution_count": 89,
   "metadata": {},
   "outputs": [
    {
     "data": {
      "text/plain": [
       "np.float64(0.40153671449015277)"
      ]
     },
     "execution_count": 89,
     "metadata": {},
     "output_type": "execute_result"
    }
   ],
   "source": [
    "# Usamos la media de los valores para definir un porcentaje de este error\n",
    "RSE / np.mean(df[\"y_actual\"]) # Hay un 40% de error"
   ]
  },
  {
   "cell_type": "markdown",
   "metadata": {},
   "source": [
    "## Conclusiones\n",
    "\n",
    "En este notebook generamos un conjunto de datos sintéticos a partir de una ecuación lineal con ruido gaussiano, con el objetivo de visualizar cómo se comportan los datos cuando existe una relación lineal imperfecta. Ajustamos un modelo de regresión lineal usando `scikit-learn` y analizamos su capacidad para recuperar los coeficientes originales. Además, exploramos métricas fundamentales como el **coeficiente de determinación** $R^2$, el **Error Cuadrático Medio (MSE)** y el **Error Estándar de los Residuos (RSE)**, junto con la descomposición de la varianza con las sumas al cuadrado.\n",
    "\n",
    "Este ejercicio nos permitió entender, desde una perspectiva visual y cuantitativa, cómo el ruido afecta la calidad del modelo y cómo evaluar el ajuste de una regresión lineal. Lo aprendido aquí sienta las bases para el análisis de datos reales, donde estos conceptos serán clave para interpretar modelos más complejos.\n"
   ]
  },
  {
   "cell_type": "code",
   "execution_count": null,
   "metadata": {},
   "outputs": [],
   "source": []
  }
 ],
 "metadata": {
  "kernelspec": {
   "display_name": "Python 3 (ipykernel)",
   "language": "python",
   "name": "python3"
  },
  "language_info": {
   "codemirror_mode": {
    "name": "ipython",
    "version": 3
   },
   "file_extension": ".py",
   "mimetype": "text/x-python",
   "name": "python",
   "nbconvert_exporter": "python",
   "pygments_lexer": "ipython3",
   "version": "3.10.16"
  }
 },
 "nbformat": 4,
 "nbformat_minor": 4
}
