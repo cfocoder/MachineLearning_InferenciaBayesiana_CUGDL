{
 "cells": [
  {
   "cell_type": "markdown",
   "metadata": {},
   "source": [
    "<center> <span style=\"color:indigo\">Machine Learning e Inferencia Bayesiana</span> </center> \n",
    "\n",
    "<div style=\"text-align: center;\">\n",
    "<img src=\"../Imagenes/CUGDL_logo.png\" alt=\"Drawing\" style=\"width: 800px;\"/>\n",
    "</div>\n",
    "\n",
    "<center> <span style=\"color:DarkBlue\">  Tema 4. Regresión lineal: simple y múltiple </span>  </center>\n",
    "<center> <span style=\"color:Blue\"> Profesor: M. en C. Iván A. Toledano Juárez </span>  </center>"
   ]
  },
  {
   "cell_type": "markdown",
   "metadata": {},
   "source": [
    "# Regresión lineal simple del dataset Advertising\n",
    "\n",
    "En este notebook exploraremos los fundamentos de la **regresión lineal**, utilizando el clásico conjunto de datos `Advertising` del libro *An Introduction to Statistical Learning*. El contexto de este dataset puede revisarse en el [repositorio](https://github.com/IvTole/MachineLearning_InferenciaBayesiana_CUGDL/tree/main/data/advertising) del curso. Este dataset contiene información sobre el gasto en publicidad en distintos medios (TV, radio, periódico) y las ventas de un producto. A través de este ejemplo práctico, construiremos modelos de **regresión lineal simple y múltiple**, y aprenderemos a interpretar sus coeficientes, evaluar su desempeño y diagnosticar sus supuestos.\n",
    "\n",
    "Además de utilizar librerías como `scikit-learn` para ajustar modelos, realizaremos también el ajuste **manualmente paso a paso**, calculando los coeficientes, los residuos, el **coeficiente de determinación $R^2$**, y el **error estándar de los residuos (RSE)**. Esto nos permitirá entender más a fondo los mecanismos internos del modelo y desarrollar una intuición sólida sobre su funcionamiento. Este enfoque práctico y comparativo servirá como base para modelar relaciones lineales en problemas reales de ciencia de datos.\n"
   ]
  },
  {
   "cell_type": "code",
   "execution_count": 1,
   "metadata": {},
   "outputs": [],
   "source": [
    "# Importación de librerías\n",
    "\n",
    "import numpy as np\n",
    "import matplotlib.pyplot as plt\n",
    "import seaborn as sns\n",
    "import pandas as pd\n",
    "import scipy.stats as st\n",
    "import os\n",
    "\n",
    "# para combinaciones\n",
    "from itertools import combinations\n",
    "\n",
    "#statsmodels\n",
    "import statsmodels.formula.api as smf\n",
    "\n",
    "#scikit-learn\n",
    "from sklearn.linear_model import LinearRegression\n",
    "from sklearn.metrics import r2_score, mean_squared_error"
   ]
  },
  {
   "cell_type": "markdown",
   "metadata": {},
   "source": [
    "## Importación de datos"
   ]
  },
  {
   "cell_type": "code",
   "execution_count": 2,
   "metadata": {},
   "outputs": [
    {
     "data": {
      "text/html": [
       "<div>\n",
       "<style scoped>\n",
       "    .dataframe tbody tr th:only-of-type {\n",
       "        vertical-align: middle;\n",
       "    }\n",
       "\n",
       "    .dataframe tbody tr th {\n",
       "        vertical-align: top;\n",
       "    }\n",
       "\n",
       "    .dataframe thead th {\n",
       "        text-align: right;\n",
       "    }\n",
       "</style>\n",
       "<table border=\"1\" class=\"dataframe\">\n",
       "  <thead>\n",
       "    <tr style=\"text-align: right;\">\n",
       "      <th></th>\n",
       "      <th>TV</th>\n",
       "      <th>Radio</th>\n",
       "      <th>Newspaper</th>\n",
       "      <th>Sales</th>\n",
       "    </tr>\n",
       "  </thead>\n",
       "  <tbody>\n",
       "    <tr>\n",
       "      <th>0</th>\n",
       "      <td>230.1</td>\n",
       "      <td>37.8</td>\n",
       "      <td>69.2</td>\n",
       "      <td>22.1</td>\n",
       "    </tr>\n",
       "    <tr>\n",
       "      <th>1</th>\n",
       "      <td>44.5</td>\n",
       "      <td>39.3</td>\n",
       "      <td>45.1</td>\n",
       "      <td>10.4</td>\n",
       "    </tr>\n",
       "    <tr>\n",
       "      <th>2</th>\n",
       "      <td>17.2</td>\n",
       "      <td>45.9</td>\n",
       "      <td>69.3</td>\n",
       "      <td>9.3</td>\n",
       "    </tr>\n",
       "    <tr>\n",
       "      <th>3</th>\n",
       "      <td>151.5</td>\n",
       "      <td>41.3</td>\n",
       "      <td>58.5</td>\n",
       "      <td>18.5</td>\n",
       "    </tr>\n",
       "    <tr>\n",
       "      <th>4</th>\n",
       "      <td>180.8</td>\n",
       "      <td>10.8</td>\n",
       "      <td>58.4</td>\n",
       "      <td>12.9</td>\n",
       "    </tr>\n",
       "  </tbody>\n",
       "</table>\n",
       "</div>"
      ],
      "text/plain": [
       "      TV  Radio  Newspaper  Sales\n",
       "0  230.1   37.8       69.2   22.1\n",
       "1   44.5   39.3       45.1   10.4\n",
       "2   17.2   45.9       69.3    9.3\n",
       "3  151.5   41.3       58.5   18.5\n",
       "4  180.8   10.8       58.4   12.9"
      ]
     },
     "metadata": {},
     "output_type": "display_data"
    },
    {
     "name": "stdout",
     "output_type": "stream",
     "text": [
      "Dimensiones de los datos:  (200, 4)\n"
     ]
    }
   ],
   "source": [
    "# Carga de datos\n",
    "\n",
    "mainpath = \"../data\" \n",
    "filename = \"advertising/advertising.csv\"\n",
    "fullpath = os.path.join(mainpath,filename)\n",
    "\n",
    "df_advertising = pd.read_csv(fullpath)\n",
    "display(df_advertising.head())  # se checa que esté cargado bien\n",
    "print(\"Dimensiones de los datos: \", df_advertising.shape)"
   ]
  },
  {
   "cell_type": "code",
   "execution_count": 3,
   "metadata": {},
   "outputs": [
    {
     "name": "stdout",
     "output_type": "stream",
     "text": [
      "<class 'pandas.core.frame.DataFrame'>\n",
      "RangeIndex: 200 entries, 0 to 199\n",
      "Data columns (total 4 columns):\n",
      " #   Column     Non-Null Count  Dtype  \n",
      "---  ------     --------------  -----  \n",
      " 0   TV         200 non-null    float64\n",
      " 1   Radio      200 non-null    float64\n",
      " 2   Newspaper  200 non-null    float64\n",
      " 3   Sales      200 non-null    float64\n",
      "dtypes: float64(4)\n",
      "memory usage: 6.4 KB\n"
     ]
    }
   ],
   "source": [
    "# información del dataframe\n",
    "df_advertising.info()"
   ]
  },
  {
   "cell_type": "code",
   "execution_count": 4,
   "metadata": {},
   "outputs": [
    {
     "data": {
      "text/plain": [
       "TV           False\n",
       "Radio        False\n",
       "Newspaper    False\n",
       "Sales        False\n",
       "dtype: bool"
      ]
     },
     "execution_count": 4,
     "metadata": {},
     "output_type": "execute_result"
    }
   ],
   "source": [
    "df_advertising.isna().any() ## para checar que no haya valores nulos"
   ]
  },
  {
   "cell_type": "markdown",
   "metadata": {},
   "source": [
    "Observamos que no tenemos valores nulos. Este dataset es para practicar y los datos ya vienen limpios.Ç"
   ]
  },
  {
   "cell_type": "code",
   "execution_count": 5,
   "metadata": {},
   "outputs": [
    {
     "data": {
      "text/html": [
       "<div>\n",
       "<style scoped>\n",
       "    .dataframe tbody tr th:only-of-type {\n",
       "        vertical-align: middle;\n",
       "    }\n",
       "\n",
       "    .dataframe tbody tr th {\n",
       "        vertical-align: top;\n",
       "    }\n",
       "\n",
       "    .dataframe thead th {\n",
       "        text-align: right;\n",
       "    }\n",
       "</style>\n",
       "<table border=\"1\" class=\"dataframe\">\n",
       "  <thead>\n",
       "    <tr style=\"text-align: right;\">\n",
       "      <th></th>\n",
       "      <th>TV</th>\n",
       "      <th>Radio</th>\n",
       "      <th>Newspaper</th>\n",
       "      <th>Sales</th>\n",
       "    </tr>\n",
       "  </thead>\n",
       "  <tbody>\n",
       "    <tr>\n",
       "      <th>count</th>\n",
       "      <td>200.000000</td>\n",
       "      <td>200.000000</td>\n",
       "      <td>200.000000</td>\n",
       "      <td>200.000000</td>\n",
       "    </tr>\n",
       "    <tr>\n",
       "      <th>mean</th>\n",
       "      <td>147.042500</td>\n",
       "      <td>23.264000</td>\n",
       "      <td>30.554000</td>\n",
       "      <td>14.022500</td>\n",
       "    </tr>\n",
       "    <tr>\n",
       "      <th>std</th>\n",
       "      <td>85.854236</td>\n",
       "      <td>14.846809</td>\n",
       "      <td>21.778621</td>\n",
       "      <td>5.217457</td>\n",
       "    </tr>\n",
       "    <tr>\n",
       "      <th>min</th>\n",
       "      <td>0.700000</td>\n",
       "      <td>0.000000</td>\n",
       "      <td>0.300000</td>\n",
       "      <td>1.600000</td>\n",
       "    </tr>\n",
       "    <tr>\n",
       "      <th>25%</th>\n",
       "      <td>74.375000</td>\n",
       "      <td>9.975000</td>\n",
       "      <td>12.750000</td>\n",
       "      <td>10.375000</td>\n",
       "    </tr>\n",
       "    <tr>\n",
       "      <th>50%</th>\n",
       "      <td>149.750000</td>\n",
       "      <td>22.900000</td>\n",
       "      <td>25.750000</td>\n",
       "      <td>12.900000</td>\n",
       "    </tr>\n",
       "    <tr>\n",
       "      <th>75%</th>\n",
       "      <td>218.825000</td>\n",
       "      <td>36.525000</td>\n",
       "      <td>45.100000</td>\n",
       "      <td>17.400000</td>\n",
       "    </tr>\n",
       "    <tr>\n",
       "      <th>max</th>\n",
       "      <td>296.400000</td>\n",
       "      <td>49.600000</td>\n",
       "      <td>114.000000</td>\n",
       "      <td>27.000000</td>\n",
       "    </tr>\n",
       "  </tbody>\n",
       "</table>\n",
       "</div>"
      ],
      "text/plain": [
       "               TV       Radio   Newspaper       Sales\n",
       "count  200.000000  200.000000  200.000000  200.000000\n",
       "mean   147.042500   23.264000   30.554000   14.022500\n",
       "std     85.854236   14.846809   21.778621    5.217457\n",
       "min      0.700000    0.000000    0.300000    1.600000\n",
       "25%     74.375000    9.975000   12.750000   10.375000\n",
       "50%    149.750000   22.900000   25.750000   12.900000\n",
       "75%    218.825000   36.525000   45.100000   17.400000\n",
       "max    296.400000   49.600000  114.000000   27.000000"
      ]
     },
     "execution_count": 5,
     "metadata": {},
     "output_type": "execute_result"
    }
   ],
   "source": [
    "# Estadísticos básicos\n",
    "df_advertising.describe()"
   ]
  },
  {
   "cell_type": "markdown",
   "metadata": {},
   "source": [
    "### Valores atípicos\n",
    "\n",
    "Si bien estos datos ya se encuentran limpios, no está de más explorar si existen **valores atípicos** de las variables predictoras. Estos valores extremos pueden influir de manera significativa en los coeficientes de ajuste del modelo y afectar su interpretación. En este caso vamos a detectarlos mediante diagramas de caja y bigote (boxplots), pero uno también podría intuirlos haciendo un análisis sobre los residuos una vez ajustado el modelo."
   ]
  },
  {
   "cell_type": "code",
   "execution_count": 6,
   "metadata": {},
   "outputs": [
    {
     "data": {
      "image/png": "[encoded data removed]",
      "text/plain": [
       "<Figure size 500x500 with 3 Axes>"
      ]
     },
     "metadata": {},
     "output_type": "display_data"
    }
   ],
   "source": [
    "fig, axs = plt.subplots(3, figsize = (5,5))\n",
    "plt1 = sns.boxplot(x = df_advertising['TV'], ax = axs[0])\n",
    "plt2 = sns.boxplot(x = df_advertising['Newspaper'], ax = axs[1])\n",
    "plt3 = sns.boxplot(x = df_advertising['Radio'], ax = axs[2])\n",
    "plt.tight_layout()\n",
    "plt.show()"
   ]
  },
  {
   "cell_type": "markdown",
   "metadata": {},
   "source": [
    "Podemos observar con estos gráficos que hay algunos valores atípicos en el caso de los datos de la variable `Newspaper`, la inversión que se hace en campañas de períodico. Como no son muchos, los ignoramos por el momento. A continuación, podemos hacer diagramas de dispersión, para ver la relación entre las variables predictoras y la variable objetivo `Sales`."
   ]
  },
  {
   "cell_type": "code",
   "execution_count": 7,
   "metadata": {},
   "outputs": [
    {
     "data": {
      "image/png": "[encoded data removed]",
      "text/plain": [
       "<Figure size 640x480 with 3 Axes>"
      ]
     },
     "metadata": {},
     "output_type": "display_data"
    }
   ],
   "source": [
    "fig = plt.figure()\n",
    "\n",
    "ax1 = fig.add_subplot(221)\n",
    "ax1.scatter(x=df_advertising['TV'],\n",
    "            y=df_advertising['Sales'])\n",
    "ax1.set_xlabel('TV')\n",
    "ax1.set_ylabel('Sales')\n",
    "\n",
    "ax2 = fig.add_subplot(222)\n",
    "ax2.scatter(x=df_advertising['TV'],\n",
    "            y=df_advertising['Newspaper'])\n",
    "ax2.set_xlabel('Newspaper')\n",
    "ax2.set_ylabel('Sales')\n",
    "\n",
    "ax3 = fig.add_subplot(223)\n",
    "ax3.scatter(x=df_advertising['TV'],\n",
    "            y=df_advertising['Radio'])\n",
    "ax3.set_xlabel('Radio')\n",
    "ax3.set_ylabel('Sales')\n",
    "\n",
    "fig.tight_layout() # para agregar una separación entre subplots\n",
    "\n",
    "plt.show()"
   ]
  },
  {
   "cell_type": "markdown",
   "metadata": {},
   "source": [
    "Visualmente, podemos observar que hay una gran correlación entre la variable predictora `TV` y la variable objetivo `Sales`. En este punto, es importante cuantificar este comportamiento con algún coeficiente de correlación. \n",
    "\n",
    "La **matriz de correlación** es una herramienta fundamental en el análisis exploratorio de datos, ya que nos permite identificar la **fuerza y dirección de la relación lineal** entre variables. En el contexto de regresión, resulta especialmente útil para seleccionar variables predictoras que tengan una relación significativa con la variable respuesta. También ayuda a detectar posibles casos de **colinealidad** entre predictores, lo cual puede afectar la estabilidad y la interpretación del modelo. Observar esta matriz antes de ajustar una regresión múltiple nos permite tomar decisiones más informadas sobre qué variables incluir y cómo pueden interactuar entre sí."
   ]
  },
  {
   "cell_type": "code",
   "execution_count": 8,
   "metadata": {},
   "outputs": [
    {
     "data": {
      "image/png": "[encoded data removed]",
      "text/plain": [
       "<Figure size 640x480 with 2 Axes>"
      ]
     },
     "metadata": {},
     "output_type": "display_data"
    }
   ],
   "source": [
    "# Matriz de correlaciones\n",
    "# Hacemos uso del heatmap de la librería de Seaborn\n",
    "sns.heatmap(df_advertising.corr(), cmap=\"YlGnBu\", annot = True)\n",
    "plt.show()"
   ]
  },
  {
   "cell_type": "markdown",
   "metadata": {},
   "source": [
    "De esta matriz de correlación podemos observar que el factor de correlación de Pearson entre la variable `TV` y `Sales` es de 0.78, que es la más alta correlación que se muestra. Además, la variable `Radio` también tiene un factor de correlación de 0.58 considerable con respecto a `Sales`. Sin embargo, también vemos un problema de multicolinealidad, pues hay una correlación de 0.35 que no podemos ignorar entre dos variables predictoras `Newspaper` y `Radio`. Esto significa, que de alguna manera una de estas variables podría explicar a la otra hasta cierto punto. Todavía no cuantificamos esta multicolinealidad, pero de haberla, normalmente solo se tomaría en el modelo una de las variables predictoras, puesto que las dos nos estarían dando información similar. "
   ]
  },
  {
   "cell_type": "markdown",
   "metadata": {},
   "source": [
    "## Regresión lineal simple con publicidad en TV\n",
    "\n",
    "La **regresión lineal simple** es un modelo que busca describir la relación entre una variable predictora $x$ y una variable respuesta continua $y$, mediante una ecuación lineal de la forma:\n",
    "\n",
    "\\begin{equation}\n",
    "\\hat{y} = \\beta_0 + \\beta_1 x\n",
    "\\end{equation}\n",
    "\n",
    "En este caso, utilizaremos el gasto en **publicidad en TV** como variable predictora ($x$) y las **ventas** como variable respuesta ($y $). Como primer paso, vamos a **calcular manualmente** los parámetros del modelo, utilizando las fórmulas estadísticas clásicas, antes de recurrir a herramientas automatizadas como `scikit-learn`. Esto nos permitirá comprender en profundidad cómo se ajusta una recta a los datos y cómo se relacionan los cálculos con la geometría del modelo.\n",
    "\n",
    "Los parámetros $\\beta_0$ (intercepto) y $\\beta_1$ (pendiente) se ajustan de forma que se **minimice la suma de los cuadrados de los errores (residuos)**, es decir, la diferencia entre los valores observados y los predichos por el modelo. Las fórmulas para obtener los valores óptimos son:\n",
    "\n",
    "\\begin{equation}\n",
    "\\beta_1 = \\frac{\\sum (x_i - \\bar{x})(y_i - \\bar{y})}{\\sum (x_i - \\bar{x})^2} = \\frac{\\rm{Cov}(x,y)}{\\sigma_x^2}, \\quad \\beta_0 = \\bar{y} - \\beta_1 \\bar{x}\n",
    "\\end{equation}\n",
    "\n",
    "Este modelo nos permitirá evaluar si existe una relación lineal entre el gasto en televisión y el nivel de ventas, y en qué magnitud cambia $y$ ante un cambio unitario en $x$."
   ]
  },
  {
   "cell_type": "code",
   "execution_count": 9,
   "metadata": {},
   "outputs": [],
   "source": [
    "# Para mayor facilidad lo dividimos en arrays de variables x=TV, y=ventas\n",
    "x = df_advertising['TV'].to_numpy() # Datos de TV\n",
    "y = df_advertising['Sales'].to_numpy() # Datos de Ventas"
   ]
  },
  {
   "cell_type": "code",
   "execution_count": 10,
   "metadata": {},
   "outputs": [
    {
     "data": {
      "image/png": "[encoded data removed]",
      "text/plain": [
       "<Figure size 640x480 with 1 Axes>"
      ]
     },
     "metadata": {},
     "output_type": "display_data"
    }
   ],
   "source": [
    "plt.plot(x,y,'.') # Se observa la correlacion\n",
    "plt.title('Sales vs TV')\n",
    "plt.show()"
   ]
  },
  {
   "cell_type": "code",
   "execution_count": 11,
   "metadata": {},
   "outputs": [
    {
     "name": "stdout",
     "output_type": "stream",
     "text": [
      "Media x =  147.0425 Media y = 14.0225\n"
     ]
    }
   ],
   "source": [
    "# Calculamos medias \n",
    "\n",
    "Mu_x = np.mean(x)\n",
    "Mu_y = np.mean(y)\n",
    "\n",
    "print('Media x = ', Mu_x, 'Media y =', Mu_y)"
   ]
  },
  {
   "cell_type": "code",
   "execution_count": 12,
   "metadata": {},
   "outputs": [
    {
     "name": "stdout",
     "output_type": "stream",
     "text": [
      "Varianza Sx^2 =  7370.94989321608 Sy^2 = 27.22185301507538\n",
      "Desviacion estandar Sx = 85.85423631490808  Sy = 5.217456565710478\n"
     ]
    }
   ],
   "source": [
    "# Calculamos varianzas y desviación estandar\n",
    "\n",
    "Var_x = np.var(x,ddof=1) ##ddof=1 para especificar que es una muestra\n",
    "Var_y = np.var(y,ddof=1)\n",
    "\n",
    "S_x = np.sqrt(Var_x)\n",
    "S_y = np.sqrt(Var_y)\n",
    "\n",
    "print('Varianza Sx^2 = ', Var_x, 'Sy^2 =', Var_y)\n",
    "print ('Desviacion estandar Sx =', S_x, ' Sy =', S_y)"
   ]
  },
  {
   "cell_type": "code",
   "execution_count": 13,
   "metadata": {},
   "outputs": [
    {
     "name": "stdout",
     "output_type": "stream",
     "text": [
      "Covarianza Sxy = 350.39019472361804\n"
     ]
    }
   ],
   "source": [
    "# Calculamos la covarianza (con numpy)\n",
    "\n",
    "S_xy = np.cov(x,y)[0][1] ## Corresponde al factor [0][1] de salida, y \n",
    "# por default calcula la covarianza de muestra así que no hay que especificar grados de libertad\n",
    "print('Covarianza Sxy =', S_xy)"
   ]
  },
  {
   "cell_type": "code",
   "execution_count": 14,
   "metadata": {},
   "outputs": [
    {
     "name": "stdout",
     "output_type": "stream",
     "text": [
      "Coeficiente de correlacion r = 0.782\n"
     ]
    }
   ],
   "source": [
    "# Calculamos el coeficiente de Correlación de Pearson\n",
    "\n",
    "r = (S_xy)/(S_x*S_y)\n",
    "print('Coeficiente de correlacion r =',round(r,3))"
   ]
  },
  {
   "cell_type": "code",
   "execution_count": 15,
   "metadata": {},
   "outputs": [
    {
     "name": "stdout",
     "output_type": "stream",
     "text": [
      "Beta0:  7.033\n",
      "Beta1:  0.048\n"
     ]
    },
    {
     "data": {
      "image/png": "[encoded data removed]",
      "text/plain": [
       "<Figure size 640x480 with 1 Axes>"
      ]
     },
     "metadata": {},
     "output_type": "display_data"
    }
   ],
   "source": [
    "# Hacer la regresión lineal manualmente\n",
    "\n",
    "def line(x,beta_0,beta_1): # Definición de la ecuación de una recta\n",
    "    return beta_0 + beta_1*x\n",
    "\n",
    "beta_1 = S_xy/(S_x**2.)\n",
    "beta_0 = Mu_y - (beta_1*Mu_x)\n",
    "\n",
    "print('Beta0: ', round(beta_0,3))\n",
    "print('Beta1: ', round(beta_1,3))\n",
    "\n",
    "# Graficamos esta recta\n",
    "\n",
    "plt.scatter(x, y, label='datos')\n",
    "plt.plot(x, line(x, beta_0, beta_1), '--r', label='Recta ajustada')\n",
    "plt.xlabel('TV')\n",
    "plt.ylabel('Ventas')\n",
    "plt.legend()\n",
    "plt.show()"
   ]
  },
  {
   "cell_type": "markdown",
   "metadata": {},
   "source": [
    "De esta forma, de acuerdo a los parámetros de la recta ajustada, podemos escribir nuestro modelo de la siguiente forma:\n",
    "\n",
    "\\begin{equation}\n",
    "\\rm{Ventas} = 7.03 + 0.047 * \\rm{TV}\n",
    "\\end{equation}"
   ]
  },
  {
   "cell_type": "code",
   "execution_count": 16,
   "metadata": {
    "scrolled": true
   },
   "outputs": [
    {
     "data": {
      "text/plain": [
       "[np.float64(17.970774512765537),\n",
       " np.float64(9.147974048397074),\n",
       " np.float64(7.850223764575636),\n",
       " np.float64(14.234394574730185),\n",
       " np.float64(15.627218139417664),\n",
       " np.float64(7.446162320894969),\n",
       " np.float64(9.765950374026332),\n",
       " np.float64(12.746497729176669),\n",
       " np.float64(7.441408656851667),\n",
       " np.float64(16.53041430764504),\n",
       " np.float64(10.1747654817503),\n",
       " np.float64(17.238710250097032),\n",
       " np.float64(8.163965591433566),\n",
       " np.float64(11.66741599134712),\n",
       " np.float64(16.734821861507022),\n",
       " np.float64(16.321253089739752),\n",
       " np.float64(10.255577770486434),\n",
       " np.float64(20.40940416697945),\n",
       " np.float64(10.322129067092662),\n",
       " np.float64(14.034740684911505),\n",
       " np.float64(17.414595819699205),\n",
       " np.float64(18.317791987926583),\n",
       " np.float64(7.660077202843558),\n",
       " np.float64(17.8852085599861),\n",
       " np.float64(9.994126248104827),\n",
       " np.float64(19.529976318968583),\n",
       " np.float64(13.825579467006218),\n",
       " np.float64(18.446140917095732),\n",
       " np.float64(18.859709688863006),\n",
       " np.float64(10.38868036369889),\n",
       " np.float64(20.956075531959176),\n",
       " np.float64(12.399480254015625),\n",
       " np.float64(11.653154999217215),\n",
       " np.float64(19.65832524813774),\n",
       " np.float64(11.581850038567685),\n",
       " np.float64(20.85149492300653),\n",
       " np.float64(19.72012288070066),\n",
       " np.float64(10.583580589474272),\n",
       " np.float64(9.081422751790848),\n",
       " np.float64(17.870947567856195),\n",
       " np.float64(16.658763236814192),\n",
       " np.float64(15.446578905772189),\n",
       " np.float64(20.98935118026229),\n",
       " np.float64(16.86792445471948),\n",
       " np.float64(8.225763223996493),\n",
       " np.float64(15.356259288949452),\n",
       " np.float64(11.296630195969566),\n",
       " np.float64(18.43663358900913),\n",
       " np.float64(17.832918255509778),\n",
       " np.float64(10.212794794096718),\n",
       " np.float64(16.53041430764504),\n",
       " np.float64(11.80527224860288),\n",
       " np.float64(17.319522538833166),\n",
       " np.float64(15.7127840921971),\n",
       " np.float64(19.52046899088198),\n",
       " np.float64(16.487631331255322),\n",
       " np.float64(7.379611024288741),\n",
       " np.float64(13.507083976104983),\n",
       " np.float64(17.053317352408257),\n",
       " np.float64(17.048563688364954),\n",
       " np.float64(9.575803812294254),\n",
       " np.float64(19.453917694275752),\n",
       " np.float64(18.40811160474932),\n",
       " np.float64(11.914606521598824),\n",
       " np.float64(13.264647109896583),\n",
       " np.float64(10.312621739006058),\n",
       " np.float64(8.529997722767819),\n",
       " np.float64(13.654447561447347),\n",
       " np.float64(18.317791987926583),\n",
       " np.float64(17.338537195006374),\n",
       " np.float64(16.497138659341925),\n",
       " np.float64(12.252116668673263),\n",
       " np.float64(8.306575512732627),\n",
       " np.float64(13.18383482116045),\n",
       " np.float64(17.176912617534107),\n",
       " np.float64(7.835962772445731),\n",
       " np.float64(8.33985116103574),\n",
       " np.float64(12.760758721306575),\n",
       " np.float64(7.289291407466004),\n",
       " np.float64(12.546843839357987),\n",
       " np.float64(10.664392878210405),\n",
       " np.float64(18.43187992496583),\n",
       " np.float64(10.612102573734083),\n",
       " np.float64(10.284099754746247),\n",
       " np.float64(17.18166628157741),\n",
       " np.float64(16.216672480787107),\n",
       " np.float64(10.659639214167102),\n",
       " np.float64(12.294899645062982),\n",
       " np.float64(11.230078899363338),\n",
       " np.float64(12.252116668673263),\n",
       " np.float64(13.416764359282247),\n",
       " np.float64(8.392141465512061),\n",
       " np.float64(17.38132017139609),\n",
       " np.float64(18.95953663377235),\n",
       " np.float64(12.138028731634016),\n",
       " np.float64(14.79532693183982),\n",
       " np.float64(16.425833698692397),\n",
       " np.float64(15.822118365193045),\n",
       " np.float64(20.80395828257351),\n",
       " np.float64(13.459547335671964),\n",
       " np.float64(17.604742381431286),\n",
       " np.float64(21.122453773474746),\n",
       " np.float64(20.352360198459824),\n",
       " np.float64(15.964728286492104),\n",
       " np.float64(18.355821300272996),\n",
       " np.float64(13.587896264841119),\n",
       " np.float64(8.22100955995319),\n",
       " np.float64(11.32990584427268),\n",
       " np.float64(7.655323538800256),\n",
       " np.float64(19.173451515720938),\n",
       " np.float64(17.766366958903554),\n",
       " np.float64(18.522199541788567),\n",
       " np.float64(15.384781273209263),\n",
       " np.float64(16.99627338388863),\n",
       " np.float64(10.74995883098984),\n",
       " np.float64(10.602595245647478),\n",
       " np.float64(13.649693897404044),\n",
       " np.float64(10.664392878210405),\n",
       " np.float64(13.007949251558276),\n",
       " np.float64(7.95480437352828),\n",
       " np.float64(13.749520842313386),\n",
       " np.float64(7.926282389268469),\n",
       " np.float64(17.680801006124117),\n",
       " np.float64(12.884353986432426),\n",
       " np.float64(17.942252528505726),\n",
       " np.float64(11.17778859488702),\n",
       " np.float64(7.403379344505251),\n",
       " np.float64(10.845032111855879),\n",
       " np.float64(17.504915436521944),\n",
       " np.float64(9.865777318935674),\n",
       " np.float64(7.065869197430811),\n",
       " np.float64(19.63931059196453),\n",
       " np.float64(7.431901328765063),\n",
       " np.float64(17.481147116305433),\n",
       " np.float64(8.786695581106125),\n",
       " np.float64(9.32861328204255),\n",
       " np.float64(8.249531544213003),\n",
       " np.float64(20.0433720356452),\n",
       " np.float64(9.076669087747545),\n",
       " np.float64(15.822118365193045),\n",
       " np.float64(10.521782956911345),\n",
       " np.float64(16.24044080100362),\n",
       " np.float64(17.514422764608547),\n",
       " np.float64(12.00492613842156),\n",
       " np.float64(11.605618358784195),\n",
       " np.float64(13.701984201880366),\n",
       " np.float64(18.446140917095732),\n",
       " np.float64(18.593504502438094),\n",
       " np.float64(8.838985885582447),\n",
       " np.float64(9.15748137648368),\n",
       " np.float64(20.376128518676335),\n",
       " np.float64(12.784527041523084),\n",
       " np.float64(16.425833698692397),\n",
       " np.float64(15.175620055303977),\n",
       " np.float64(15.959974622448804),\n",
       " np.float64(7.2274937749030785),\n",
       " np.float64(11.49628408578825),\n",
       " np.float64(14.153582285994053),\n",
       " np.float64(7.588772242194028),\n",
       " np.float64(13.293169094156395),\n",
       " np.float64(15.232664023823602),\n",
       " np.float64(11.106483634237488),\n",
       " np.float64(15.988496606708615),\n",
       " np.float64(14.804834259926423),\n",
       " np.float64(12.603887807877609),\n",
       " np.float64(18.179935730670824),\n",
       " np.float64(7.88349941287875),\n",
       " np.float64(16.86317079067618),\n",
       " np.float64(17.271985898400146),\n",
       " np.float64(20.54726042423521),\n",
       " np.float64(9.409425570778684),\n",
       " np.float64(14.852370900359443),\n",
       " np.float64(7.964311701614884),\n",
       " np.float64(15.037763798048221),\n",
       " np.float64(17.604742381431286),\n",
       " np.float64(20.19548928503086),\n",
       " np.float64(18.840695032689798),\n",
       " np.float64(15.123329750827654),\n",
       " np.float64(20.185981956944257),\n",
       " np.float64(14.904661204835765),\n",
       " np.float64(14.476831440938586),\n",
       " np.float64(17.419349483742508),\n",
       " np.float64(9.704152741463407),\n",
       " np.float64(20.704131337664172),\n",
       " np.float64(19.097392891028104),\n",
       " np.float64(16.777604837896742),\n",
       " np.float64(13.66395488953395),\n",
       " np.float64(16.11684553587777),\n",
       " np.float64(20.62807271297134),\n",
       " np.float64(7.9215287252251665),\n",
       " np.float64(8.910290846231977),\n",
       " np.float64(10.621609901820687),\n",
       " np.float64(7.850223764575636),\n",
       " np.float64(14.961705173355389),\n",
       " np.float64(14.14882862195075),\n",
       " np.float64(8.848493213669052),\n",
       " np.float64(11.510545077918156),\n",
       " np.float64(15.446578905772189),\n",
       " np.float64(20.513984775932094),\n",
       " np.float64(18.065847793631576)]"
      ]
     },
     "execution_count": 16,
     "metadata": {},
     "output_type": "execute_result"
    }
   ],
   "source": [
    "# Hacemos una lista con los valores predecidos por nuestro modelo para cada x_i de nuestro set de datos\n",
    "y_pred = []\n",
    "\n",
    "for value in x:\n",
    "    y_pred.append(line(value, beta_0, beta_1))\n",
    "y_pred"
   ]
  },
  {
   "cell_type": "code",
   "execution_count": 17,
   "metadata": {},
   "outputs": [
    {
     "data": {
      "text/html": [
       "<div>\n",
       "<style scoped>\n",
       "    .dataframe tbody tr th:only-of-type {\n",
       "        vertical-align: middle;\n",
       "    }\n",
       "\n",
       "    .dataframe tbody tr th {\n",
       "        vertical-align: top;\n",
       "    }\n",
       "\n",
       "    .dataframe thead th {\n",
       "        text-align: right;\n",
       "    }\n",
       "</style>\n",
       "<table border=\"1\" class=\"dataframe\">\n",
       "  <thead>\n",
       "    <tr style=\"text-align: right;\">\n",
       "      <th></th>\n",
       "      <th>x</th>\n",
       "      <th>y_actual</th>\n",
       "      <th>y_model</th>\n",
       "    </tr>\n",
       "  </thead>\n",
       "  <tbody>\n",
       "    <tr>\n",
       "      <th>0</th>\n",
       "      <td>230.1</td>\n",
       "      <td>22.1</td>\n",
       "      <td>17.970775</td>\n",
       "    </tr>\n",
       "    <tr>\n",
       "      <th>1</th>\n",
       "      <td>44.5</td>\n",
       "      <td>10.4</td>\n",
       "      <td>9.147974</td>\n",
       "    </tr>\n",
       "    <tr>\n",
       "      <th>2</th>\n",
       "      <td>17.2</td>\n",
       "      <td>9.3</td>\n",
       "      <td>7.850224</td>\n",
       "    </tr>\n",
       "    <tr>\n",
       "      <th>3</th>\n",
       "      <td>151.5</td>\n",
       "      <td>18.5</td>\n",
       "      <td>14.234395</td>\n",
       "    </tr>\n",
       "    <tr>\n",
       "      <th>4</th>\n",
       "      <td>180.8</td>\n",
       "      <td>12.9</td>\n",
       "      <td>15.627218</td>\n",
       "    </tr>\n",
       "  </tbody>\n",
       "</table>\n",
       "</div>"
      ],
      "text/plain": [
       "       x  y_actual    y_model\n",
       "0  230.1      22.1  17.970775\n",
       "1   44.5      10.4   9.147974\n",
       "2   17.2       9.3   7.850224\n",
       "3  151.5      18.5  14.234395\n",
       "4  180.8      12.9  15.627218"
      ]
     },
     "execution_count": 17,
     "metadata": {},
     "output_type": "execute_result"
    }
   ],
   "source": [
    "# Hacemos un dataset de x, y ,y lo predicho por el modelo y_model\n",
    "df_TVS = pd.DataFrame(\n",
    "    {\n",
    "        \"x\":x,\n",
    "        \"y_actual\":y,\n",
    "        \"y_model\":y_pred\n",
    "    }\n",
    ")\n",
    "df_TVS.head()"
   ]
  },
  {
   "cell_type": "code",
   "execution_count": 20,
   "metadata": {},
   "outputs": [
    {
     "name": "stdout",
     "output_type": "stream",
     "text": [
      "3314.618 2102.531 5417.149\n"
     ]
    }
   ],
   "source": [
    "# Calculamos las sumas al cuadrado\n",
    "SSR = sum((df_TVS[\"y_model\"] - Mu_y)**2.) ## Regresion y promedio\n",
    "SSD = sum((df_TVS[\"y_model\"]-df_TVS[\"y_actual\"])**2.) # Regresion y Observacion\n",
    "SST = sum((df_TVS[\"y_actual\"] - Mu_y)**2.) # Observacion y promedio\n",
    "print(round(SSR,3),round(SSD,3),round(SST,3))"
   ]
  },
  {
   "cell_type": "code",
   "execution_count": 21,
   "metadata": {},
   "outputs": [
    {
     "name": "stdout",
     "output_type": "stream",
     "text": [
      "R2:  0.6118750508500711\n"
     ]
    }
   ],
   "source": [
    "# Calculo de R2\n",
    "R2 = SSR / SST\n",
    "print('R2: ', R2)"
   ]
  },
  {
   "cell_type": "code",
   "execution_count": 22,
   "metadata": {},
   "outputs": [
    {
     "name": "stdout",
     "output_type": "stream",
     "text": [
      "RSE:  3.2586563686504624\n"
     ]
    }
   ],
   "source": [
    "## Error residual\n",
    "p = 1 # 1 variable predictora\n",
    "RSE = np.sqrt(SSD/(len(df_advertising) - 1 - p))\n",
    "print('RSE: ', RSE)"
   ]
  },
  {
   "cell_type": "code",
   "execution_count": 23,
   "metadata": {},
   "outputs": [
    {
     "name": "stdout",
     "output_type": "stream",
     "text": [
      "RSE porcentual:  0.23 %\n"
     ]
    }
   ],
   "source": [
    "## Error residual porcentual\n",
    "print('RSE porcentual: ', round(RSE / df_TVS['y_actual'].mean(),2), '%')"
   ]
  },
  {
   "cell_type": "code",
   "execution_count": 24,
   "metadata": {},
   "outputs": [
    {
     "data": {
      "image/png": "[encoded data removed]",
      "text/plain": [
       "<Figure size 640x480 with 1 Axes>"
      ]
     },
     "metadata": {},
     "output_type": "display_data"
    },
    {
     "data": {
      "image/png": "[encoded data removed]",
      "text/plain": [
       "<Figure size 640x480 with 1 Axes>"
      ]
     },
     "metadata": {},
     "output_type": "display_data"
    },
    {
     "name": "stdout",
     "output_type": "stream",
     "text": [
      "Prueba de Shapiro-Wilk\n",
      "estadístico W=0.991, p-valor=0.213\n",
      "Probablemente es gaussiano\n",
      "\n",
      "\n"
     ]
    }
   ],
   "source": [
    "# Creamos un histograma de los residuos\n",
    "plt.hist(df_TVS[\"y_model\"] - df_TVS[\"y_actual\"])\n",
    "plt.show()\n",
    "\n",
    "# Vemos que tiene que ser normal\n",
    "# Podemos aplicar pruebas de normalidad\n",
    "\n",
    "## Q-Q plot\n",
    "st.probplot(df_TVS[\"y_model\"] - df_TVS[\"y_actual\"],\n",
    "            dist='norm',\n",
    "            plot=plt)\n",
    "plt.show()\n",
    "\n",
    "# prueba de normalidad de Shapiro-Wilk\n",
    "significance = 0.05\n",
    "standardized_var = st.zscore(df_TVS[\"y_model\"] - df_TVS[\"y_actual\"])\n",
    "stat, p = st.shapiro(standardized_var)\n",
    "print('Prueba de Shapiro-Wilk')\n",
    "print('estadístico W=%.3f, p-valor=%.3f' % (stat,p))\n",
    "if p > significance:\n",
    "    print('Probablemente es gaussiano')\n",
    "else:\n",
    "    print('Probablemente no es gaussiano')\n",
    "print('\\n')"
   ]
  },
  {
   "cell_type": "markdown",
   "metadata": {},
   "source": [
    "Los residulos parece que sí siguen una distribución normal, lo cuál nos dice que es una buena regresión lineal. Observamos un error residual porcentual del 23%, que nos da una medida de cuánto se desvían en promedio los datos observados respecto a las predicciones, tomando en cuenta la escala del problema. En este caso, es un valor moderado.\n",
    "\n",
    "## Ajuste del modelo con librerías de Python\n",
    "\n",
    "Después de realizar los cálculos de regresión lineal **manualmente**, ahora utilizaremos herramientas de Python para **ajustar el modelo de forma automatizada**. En particular, usaremos dos librerías ampliamente utilizadas en ciencia de datos y estadística: `scikit-learn` y `statsmodels`.\n",
    "\n",
    "- **`scikit-learn`** está orientada principalmente al **aprendizaje automático**. Su enfoque es práctico y centrado en la predicción: ofrece una interfaz uniforme para entrenar modelos, hacer predicciones y evaluar el rendimiento, pero no proporciona detalles estadísticos del ajuste (como errores estándar o pruebas de hipótesis).\n",
    "  \n",
    "- **`statsmodels`**, en cambio, está más enfocada al **análisis estadístico clásico**. Permite ajustar modelos lineales y obtener un resumen completo con coeficientes, errores estándar, intervalos de confianza, valores p, $R^2$, entre otros. Es ideal cuando se busca interpretar el modelo y evaluar la significancia estadística de los predictores.\n",
    "\n",
    "Utilizar ambos enfoques nos permitirá entender el mismo modelo desde dos perspectivas complementarias: la predictiva y la inferencial.\n",
    "\n",
    "## Regresión lineal simpole con `statsmodels`"
   ]
  },
  {
   "cell_type": "code",
   "execution_count": 25,
   "metadata": {},
   "outputs": [
    {
     "data": {
      "text/html": [
       "<div>\n",
       "<style scoped>\n",
       "    .dataframe tbody tr th:only-of-type {\n",
       "        vertical-align: middle;\n",
       "    }\n",
       "\n",
       "    .dataframe tbody tr th {\n",
       "        vertical-align: top;\n",
       "    }\n",
       "\n",
       "    .dataframe thead th {\n",
       "        text-align: right;\n",
       "    }\n",
       "</style>\n",
       "<table border=\"1\" class=\"dataframe\">\n",
       "  <thead>\n",
       "    <tr style=\"text-align: right;\">\n",
       "      <th></th>\n",
       "      <th>TV</th>\n",
       "      <th>Radio</th>\n",
       "      <th>Newspaper</th>\n",
       "      <th>Sales</th>\n",
       "    </tr>\n",
       "  </thead>\n",
       "  <tbody>\n",
       "    <tr>\n",
       "      <th>0</th>\n",
       "      <td>230.1</td>\n",
       "      <td>37.8</td>\n",
       "      <td>69.2</td>\n",
       "      <td>22.1</td>\n",
       "    </tr>\n",
       "    <tr>\n",
       "      <th>1</th>\n",
       "      <td>44.5</td>\n",
       "      <td>39.3</td>\n",
       "      <td>45.1</td>\n",
       "      <td>10.4</td>\n",
       "    </tr>\n",
       "    <tr>\n",
       "      <th>2</th>\n",
       "      <td>17.2</td>\n",
       "      <td>45.9</td>\n",
       "      <td>69.3</td>\n",
       "      <td>9.3</td>\n",
       "    </tr>\n",
       "    <tr>\n",
       "      <th>3</th>\n",
       "      <td>151.5</td>\n",
       "      <td>41.3</td>\n",
       "      <td>58.5</td>\n",
       "      <td>18.5</td>\n",
       "    </tr>\n",
       "    <tr>\n",
       "      <th>4</th>\n",
       "      <td>180.8</td>\n",
       "      <td>10.8</td>\n",
       "      <td>58.4</td>\n",
       "      <td>12.9</td>\n",
       "    </tr>\n",
       "  </tbody>\n",
       "</table>\n",
       "</div>"
      ],
      "text/plain": [
       "      TV  Radio  Newspaper  Sales\n",
       "0  230.1   37.8       69.2   22.1\n",
       "1   44.5   39.3       45.1   10.4\n",
       "2   17.2   45.9       69.3    9.3\n",
       "3  151.5   41.3       58.5   18.5\n",
       "4  180.8   10.8       58.4   12.9"
      ]
     },
     "execution_count": 25,
     "metadata": {},
     "output_type": "execute_result"
    }
   ],
   "source": [
    "# Carga de datos\n",
    "filename = \"advertising/advertising.csv\"\n",
    "fullpath = os.path.join(mainpath,filename)\n",
    "\n",
    "df_advertising = pd.read_csv(fullpath)\n",
    "df_advertising.head()"
   ]
  },
  {
   "cell_type": "code",
   "execution_count": 26,
   "metadata": {},
   "outputs": [],
   "source": [
    "# Con la paquetería statsmodels podemos crear un modelo lineal\n",
    "\n",
    "# Hacemos la instancia del modelo y el entrenamiento (fit)\n",
    "lm = smf.ols(formula = \"Sales~TV\", data = df_advertising).fit() #formula de la regresion Ventas en funcion de TV\n",
    "#fit ajusta el modelo de acuerdo a estas condiciones (ols, ordinary least squares)"
   ]
  },
  {
   "cell_type": "code",
   "execution_count": 27,
   "metadata": {},
   "outputs": [
    {
     "data": {
      "text/plain": [
       "statsmodels.regression.linear_model.RegressionResultsWrapper"
      ]
     },
     "execution_count": 27,
     "metadata": {},
     "output_type": "execute_result"
    }
   ],
   "source": [
    "type(lm)"
   ]
  },
  {
   "cell_type": "code",
   "execution_count": 28,
   "metadata": {},
   "outputs": [
    {
     "data": {
      "text/plain": [
       "Intercept    7.032594\n",
       "TV           0.047537\n",
       "dtype: float64"
      ]
     },
     "execution_count": 28,
     "metadata": {},
     "output_type": "execute_result"
    }
   ],
   "source": [
    "lm.params # Nos regresa los parametros (beta0, beta1)"
   ]
  },
  {
   "cell_type": "markdown",
   "metadata": {},
   "source": [
    "Observamos que los parámetros de ajuste $\\beta_0$ y $\\beta_1$ son idénticos a los que teníamos al hacerlo manualmente. Adicionalmente, esta paquetería también puede calcular diferentes pruebas de hipótesis útiles de los parámetros para evaluación."
   ]
  },
  {
   "cell_type": "code",
   "execution_count": 29,
   "metadata": {},
   "outputs": [
    {
     "data": {
      "text/plain": [
       "Intercept    1.406300e-35\n",
       "TV           1.467390e-42\n",
       "dtype: float64"
      ]
     },
     "execution_count": 29,
     "metadata": {},
     "output_type": "execute_result"
    }
   ],
   "source": [
    "lm.pvalues\n",
    "# pvales para hacer el test de hipotesis y verificar que nuestros parámetros no son cero\n",
    "# La hipotesis alternativa (que si son diferentes de cero) se toma si los p values son menores a 5%"
   ]
  },
  {
   "cell_type": "code",
   "execution_count": 30,
   "metadata": {},
   "outputs": [
    {
     "data": {
      "text/plain": [
       "np.float64(0.611875050850071)"
      ]
     },
     "execution_count": 30,
     "metadata": {},
     "output_type": "execute_result"
    }
   ],
   "source": [
    "lm.rsquared # Calculo de R2\n",
    "## Tenemos 0.61"
   ]
  },
  {
   "cell_type": "markdown",
   "metadata": {},
   "source": [
    "El valor de $R^2$ es idéntico al que calculamos a mano."
   ]
  },
  {
   "cell_type": "code",
   "execution_count": 31,
   "metadata": {},
   "outputs": [
    {
     "data": {
      "text/plain": [
       "np.float64(0.6099148238341623)"
      ]
     },
     "execution_count": 31,
     "metadata": {},
     "output_type": "execute_result"
    }
   ],
   "source": [
    "lm.rsquared_adj\n",
    "# Modificacion de R2 al penalizar por la inclusión de varias variables predictoras."
   ]
  },
  {
   "cell_type": "code",
   "execution_count": 32,
   "metadata": {},
   "outputs": [
    {
     "data": {
      "text/html": [
       "<table class=\"simpletable\">\n",
       "<caption>OLS Regression Results</caption>\n",
       "<tr>\n",
       "  <th>Dep. Variable:</th>          <td>Sales</td>      <th>  R-squared:         </th> <td>   0.612</td>\n",
       "</tr>\n",
       "<tr>\n",
       "  <th>Model:</th>                   <td>OLS</td>       <th>  Adj. R-squared:    </th> <td>   0.610</td>\n",
       "</tr>\n",
       "<tr>\n",
       "  <th>Method:</th>             <td>Least Squares</td>  <th>  F-statistic:       </th> <td>   312.1</td>\n",
       "</tr>\n",
       "<tr>\n",
       "  <th>Date:</th>             <td>Sun, 27 Jul 2025</td> <th>  Prob (F-statistic):</th> <td>1.47e-42</td>\n",
       "</tr>\n",
       "<tr>\n",
       "  <th>Time:</th>                 <td>23:35:39</td>     <th>  Log-Likelihood:    </th> <td> -519.05</td>\n",
       "</tr>\n",
       "<tr>\n",
       "  <th>No. Observations:</th>      <td>   200</td>      <th>  AIC:               </th> <td>   1042.</td>\n",
       "</tr>\n",
       "<tr>\n",
       "  <th>Df Residuals:</th>          <td>   198</td>      <th>  BIC:               </th> <td>   1049.</td>\n",
       "</tr>\n",
       "<tr>\n",
       "  <th>Df Model:</th>              <td>     1</td>      <th>                     </th>     <td> </td>   \n",
       "</tr>\n",
       "<tr>\n",
       "  <th>Covariance Type:</th>      <td>nonrobust</td>    <th>                     </th>     <td> </td>   \n",
       "</tr>\n",
       "</table>\n",
       "<table class=\"simpletable\">\n",
       "<tr>\n",
       "      <td></td>         <th>coef</th>     <th>std err</th>      <th>t</th>      <th>P>|t|</th>  <th>[0.025</th>    <th>0.975]</th>  \n",
       "</tr>\n",
       "<tr>\n",
       "  <th>Intercept</th> <td>    7.0326</td> <td>    0.458</td> <td>   15.360</td> <td> 0.000</td> <td>    6.130</td> <td>    7.935</td>\n",
       "</tr>\n",
       "<tr>\n",
       "  <th>TV</th>        <td>    0.0475</td> <td>    0.003</td> <td>   17.668</td> <td> 0.000</td> <td>    0.042</td> <td>    0.053</td>\n",
       "</tr>\n",
       "</table>\n",
       "<table class=\"simpletable\">\n",
       "<tr>\n",
       "  <th>Omnibus:</th>       <td> 0.531</td> <th>  Durbin-Watson:     </th> <td>   1.935</td>\n",
       "</tr>\n",
       "<tr>\n",
       "  <th>Prob(Omnibus):</th> <td> 0.767</td> <th>  Jarque-Bera (JB):  </th> <td>   0.669</td>\n",
       "</tr>\n",
       "<tr>\n",
       "  <th>Skew:</th>          <td>-0.089</td> <th>  Prob(JB):          </th> <td>   0.716</td>\n",
       "</tr>\n",
       "<tr>\n",
       "  <th>Kurtosis:</th>      <td> 2.779</td> <th>  Cond. No.          </th> <td>    338.</td>\n",
       "</tr>\n",
       "</table><br/><br/>Notes:<br/>[1] Standard Errors assume that the covariance matrix of the errors is correctly specified."
      ],
      "text/latex": [
       "\\begin{center}\n",
       "\\begin{tabular}{lclc}\n",
       "\\toprule\n",
       "\\textbf{Dep. Variable:}    &      Sales       & \\textbf{  R-squared:         } &     0.612   \\\\\n",
       "\\textbf{Model:}            &       OLS        & \\textbf{  Adj. R-squared:    } &     0.610   \\\\\n",
       "\\textbf{Method:}           &  Least Squares   & \\textbf{  F-statistic:       } &     312.1   \\\\\n",
       "\\textbf{Date:}             & Sun, 27 Jul 2025 & \\textbf{  Prob (F-statistic):} &  1.47e-42   \\\\\n",
       "\\textbf{Time:}             &     23:35:39     & \\textbf{  Log-Likelihood:    } &   -519.05   \\\\\n",
       "\\textbf{No. Observations:} &         200      & \\textbf{  AIC:               } &     1042.   \\\\\n",
       "\\textbf{Df Residuals:}     &         198      & \\textbf{  BIC:               } &     1049.   \\\\\n",
       "\\textbf{Df Model:}         &           1      & \\textbf{                     } &             \\\\\n",
       "\\textbf{Covariance Type:}  &    nonrobust     & \\textbf{                     } &             \\\\\n",
       "\\bottomrule\n",
       "\\end{tabular}\n",
       "\\begin{tabular}{lcccccc}\n",
       "                   & \\textbf{coef} & \\textbf{std err} & \\textbf{t} & \\textbf{P$> |$t$|$} & \\textbf{[0.025} & \\textbf{0.975]}  \\\\\n",
       "\\midrule\n",
       "\\textbf{Intercept} &       7.0326  &        0.458     &    15.360  &         0.000        &        6.130    &        7.935     \\\\\n",
       "\\textbf{TV}        &       0.0475  &        0.003     &    17.668  &         0.000        &        0.042    &        0.053     \\\\\n",
       "\\bottomrule\n",
       "\\end{tabular}\n",
       "\\begin{tabular}{lclc}\n",
       "\\textbf{Omnibus:}       &  0.531 & \\textbf{  Durbin-Watson:     } &    1.935  \\\\\n",
       "\\textbf{Prob(Omnibus):} &  0.767 & \\textbf{  Jarque-Bera (JB):  } &    0.669  \\\\\n",
       "\\textbf{Skew:}          & -0.089 & \\textbf{  Prob(JB):          } &    0.716  \\\\\n",
       "\\textbf{Kurtosis:}      &  2.779 & \\textbf{  Cond. No.          } &     338.  \\\\\n",
       "\\bottomrule\n",
       "\\end{tabular}\n",
       "%\\caption{OLS Regression Results}\n",
       "\\end{center}\n",
       "\n",
       "Notes: \\newline\n",
       " [1] Standard Errors assume that the covariance matrix of the errors is correctly specified."
      ],
      "text/plain": [
       "<class 'statsmodels.iolib.summary.Summary'>\n",
       "\"\"\"\n",
       "                            OLS Regression Results                            \n",
       "==============================================================================\n",
       "Dep. Variable:                  Sales   R-squared:                       0.612\n",
       "Model:                            OLS   Adj. R-squared:                  0.610\n",
       "Method:                 Least Squares   F-statistic:                     312.1\n",
       "Date:                Sun, 27 Jul 2025   Prob (F-statistic):           1.47e-42\n",
       "Time:                        23:35:39   Log-Likelihood:                -519.05\n",
       "No. Observations:                 200   AIC:                             1042.\n",
       "Df Residuals:                     198   BIC:                             1049.\n",
       "Df Model:                           1                                         \n",
       "Covariance Type:            nonrobust                                         \n",
       "==============================================================================\n",
       "                 coef    std err          t      P>|t|      [0.025      0.975]\n",
       "------------------------------------------------------------------------------\n",
       "Intercept      7.0326      0.458     15.360      0.000       6.130       7.935\n",
       "TV             0.0475      0.003     17.668      0.000       0.042       0.053\n",
       "==============================================================================\n",
       "Omnibus:                        0.531   Durbin-Watson:                   1.935\n",
       "Prob(Omnibus):                  0.767   Jarque-Bera (JB):                0.669\n",
       "Skew:                          -0.089   Prob(JB):                        0.716\n",
       "Kurtosis:                       2.779   Cond. No.                         338.\n",
       "==============================================================================\n",
       "\n",
       "Notes:\n",
       "[1] Standard Errors assume that the covariance matrix of the errors is correctly specified.\n",
       "\"\"\""
      ]
     },
     "execution_count": 32,
     "metadata": {},
     "output_type": "execute_result"
    }
   ],
   "source": [
    "lm.summary() #resumen del modelo"
   ]
  },
  {
   "cell_type": "markdown",
   "metadata": {},
   "source": [
    "Una de las principales ventajas de utilizar `statsmodels` para ajustar modelos de regresión es su capacidad de generar un **resumen estadístico completo** mediante el método `.summary()`. Este resumen no solo muestra los coeficientes estimados del modelo, sino también información esencial para su interpretación: **errores estándar**, **valores t**, **valores p** para pruebas de hipótesis, **intervalos de confianza**, y medidas de calidad del ajuste como $R^2$, $R^2$ ajustado, AIC y BIC. Además, incluye diagnósticos de normalidad de residuos y estadísticos globales del modelo como la prueba F. Esta información permite evaluar no solo si el modelo predice bien, sino también si **los predictores son estadísticamente significativos**, lo cual es fundamental en contextos donde se requiere una justificación formal del modelo y sus variables."
   ]
  },
  {
   "cell_type": "code",
   "execution_count": 33,
   "metadata": {},
   "outputs": [
    {
     "data": {
      "text/plain": [
       "0      17.970775\n",
       "1       9.147974\n",
       "2       7.850224\n",
       "3      14.234395\n",
       "4      15.627218\n",
       "         ...    \n",
       "195     8.848493\n",
       "196    11.510545\n",
       "197    15.446579\n",
       "198    20.513985\n",
       "199    18.065848\n",
       "Length: 200, dtype: float64"
      ]
     },
     "execution_count": 33,
     "metadata": {},
     "output_type": "execute_result"
    }
   ],
   "source": [
    "sales_pred = lm.predict(df_advertising[\"TV\"]) # generar una columna con una prediccion del modelo en hase a la columna x\n",
    "sales_pred"
   ]
  },
  {
   "cell_type": "code",
   "execution_count": 34,
   "metadata": {},
   "outputs": [
    {
     "data": {
      "text/plain": [
       "pandas.core.series.Series"
      ]
     },
     "execution_count": 34,
     "metadata": {},
     "output_type": "execute_result"
    }
   ],
   "source": [
    "type(sales_pred)"
   ]
  },
  {
   "cell_type": "code",
   "execution_count": 35,
   "metadata": {},
   "outputs": [
    {
     "data": {
      "image/png": "[encoded data removed]",
      "text/plain": [
       "<Figure size 640x480 with 1 Axes>"
      ]
     },
     "metadata": {},
     "output_type": "display_data"
    }
   ],
   "source": [
    "# Graficamos para comparar\n",
    "plt.scatter(df_advertising['TV'], df_advertising['Sales'])\n",
    "plt.plot(df_advertising[\"TV\"], sales_pred, c=\"red\", linewidth = 2)\n",
    "plt.xlabel('TV')\n",
    "plt.ylabel('Sales')\n",
    "plt.show()"
   ]
  },
  {
   "cell_type": "code",
   "execution_count": 36,
   "metadata": {},
   "outputs": [],
   "source": [
    "## Error estadar residual\n",
    "## Agregamos una columa con los valores predecidos por el modelo\n",
    "df_advertising[\"sales_pred\"] = 7.032594 + 0.047537*df_advertising[\"TV\"]"
   ]
  },
  {
   "cell_type": "code",
   "execution_count": 37,
   "metadata": {},
   "outputs": [],
   "source": [
    "#añadir columna de residual (la diferencia entre lo observado y lo predicho al cuadrado)\n",
    "df_advertising[\"RSE\"] = (df_advertising[\"Sales\"] - df_advertising[\"sales_pred\"])**2."
   ]
  },
  {
   "cell_type": "code",
   "execution_count": 38,
   "metadata": {},
   "outputs": [
    {
     "data": {
      "text/html": [
       "<div>\n",
       "<style scoped>\n",
       "    .dataframe tbody tr th:only-of-type {\n",
       "        vertical-align: middle;\n",
       "    }\n",
       "\n",
       "    .dataframe tbody tr th {\n",
       "        vertical-align: top;\n",
       "    }\n",
       "\n",
       "    .dataframe thead th {\n",
       "        text-align: right;\n",
       "    }\n",
       "</style>\n",
       "<table border=\"1\" class=\"dataframe\">\n",
       "  <thead>\n",
       "    <tr style=\"text-align: right;\">\n",
       "      <th></th>\n",
       "      <th>TV</th>\n",
       "      <th>Radio</th>\n",
       "      <th>Newspaper</th>\n",
       "      <th>Sales</th>\n",
       "      <th>sales_pred</th>\n",
       "      <th>RSE</th>\n",
       "    </tr>\n",
       "  </thead>\n",
       "  <tbody>\n",
       "    <tr>\n",
       "      <th>0</th>\n",
       "      <td>230.1</td>\n",
       "      <td>37.8</td>\n",
       "      <td>69.2</td>\n",
       "      <td>22.1</td>\n",
       "      <td>17.970858</td>\n",
       "      <td>17.049816</td>\n",
       "    </tr>\n",
       "    <tr>\n",
       "      <th>1</th>\n",
       "      <td>44.5</td>\n",
       "      <td>39.3</td>\n",
       "      <td>45.1</td>\n",
       "      <td>10.4</td>\n",
       "      <td>9.147990</td>\n",
       "      <td>1.567528</td>\n",
       "    </tr>\n",
       "    <tr>\n",
       "      <th>2</th>\n",
       "      <td>17.2</td>\n",
       "      <td>45.9</td>\n",
       "      <td>69.3</td>\n",
       "      <td>9.3</td>\n",
       "      <td>7.850230</td>\n",
       "      <td>2.101832</td>\n",
       "    </tr>\n",
       "    <tr>\n",
       "      <th>3</th>\n",
       "      <td>151.5</td>\n",
       "      <td>41.3</td>\n",
       "      <td>58.5</td>\n",
       "      <td>18.5</td>\n",
       "      <td>14.234450</td>\n",
       "      <td>18.194921</td>\n",
       "    </tr>\n",
       "    <tr>\n",
       "      <th>4</th>\n",
       "      <td>180.8</td>\n",
       "      <td>10.8</td>\n",
       "      <td>58.4</td>\n",
       "      <td>12.9</td>\n",
       "      <td>15.627284</td>\n",
       "      <td>7.438076</td>\n",
       "    </tr>\n",
       "  </tbody>\n",
       "</table>\n",
       "</div>"
      ],
      "text/plain": [
       "      TV  Radio  Newspaper  Sales  sales_pred        RSE\n",
       "0  230.1   37.8       69.2   22.1   17.970858  17.049816\n",
       "1   44.5   39.3       45.1   10.4    9.147990   1.567528\n",
       "2   17.2   45.9       69.3    9.3    7.850230   2.101832\n",
       "3  151.5   41.3       58.5   18.5   14.234450  18.194921\n",
       "4  180.8   10.8       58.4   12.9   15.627284   7.438076"
      ]
     },
     "execution_count": 38,
     "metadata": {},
     "output_type": "execute_result"
    }
   ],
   "source": [
    "df_advertising.head()"
   ]
  },
  {
   "cell_type": "code",
   "execution_count": 39,
   "metadata": {},
   "outputs": [
    {
     "data": {
      "text/plain": [
       "2102.5305838896525"
      ]
     },
     "execution_count": 39,
     "metadata": {},
     "output_type": "execute_result"
    }
   ],
   "source": [
    "SSD = sum(df_advertising[\"RSE\"]) ### sumamos todas las diferencias al cuadrado para calcular SSD\n",
    "SSD"
   ]
  },
  {
   "cell_type": "code",
   "execution_count": 40,
   "metadata": {},
   "outputs": [
    {
     "name": "stdout",
     "output_type": "stream",
     "text": [
      "RSE:  3.258656369238098\n"
     ]
    }
   ],
   "source": [
    "## Calculamos el error residual\n",
    "p = 1 # variables predictoras\n",
    "RSE = np.sqrt(SSD/(len(df_advertising) - 1 - p))\n",
    "print('RSE: ', RSE)"
   ]
  },
  {
   "cell_type": "code",
   "execution_count": 41,
   "metadata": {},
   "outputs": [
    {
     "data": {
      "text/plain": [
       "np.float64(14.0225)"
      ]
     },
     "execution_count": 41,
     "metadata": {},
     "output_type": "execute_result"
    }
   ],
   "source": [
    " # cuanto represetnta con respecto al numero total de ventas\n",
    "sales_m = np.mean(df_advertising[\"Sales\"])\n",
    "sales_m #el promedio de ventas"
   ]
  },
  {
   "cell_type": "code",
   "execution_count": 42,
   "metadata": {},
   "outputs": [
    {
     "data": {
      "text/plain": [
       "np.float64(0.23238768901680143)"
      ]
     },
     "execution_count": 42,
     "metadata": {},
     "output_type": "execute_result"
    }
   ],
   "source": [
    "# RSE porcentual\n",
    "error = RSE/sales_m\n",
    "error # erro 23% que no queda explicado por el modelo"
   ]
  },
  {
   "cell_type": "code",
   "execution_count": 43,
   "metadata": {},
   "outputs": [
    {
     "data": {
      "image/png": "[encoded data removed]",
      "text/plain": [
       "<Figure size 640x480 with 1 Axes>"
      ]
     },
     "metadata": {},
     "output_type": "display_data"
    }
   ],
   "source": [
    "plt.hist(df_advertising[\"Sales\"] - df_advertising[\"sales_pred\"]) # es mas o menos una distribución normal\n",
    "plt.show()"
   ]
  },
  {
   "cell_type": "markdown",
   "metadata": {},
   "source": [
    "Vemos que la distribucion del error si tiene una forma normal, como tendría que comportarse. Los p-values son bajitos, no son cero, lo que nos dice que el modelo es sólido, aunque es incapaz de explicar la discrepancia que hay del 23%. Esto se puede reducir incluyendo más variables.\n",
    "\n",
    "El coeficiente $R^2$ ajustado se calcula de la siguiente forma:\n",
    "\n",
    "\\begin{equation}\n",
    "R^2 \\ \\rm{adj} = 1 - \\frac{(1-R^2) (n-1)}{n-k-1}\n",
    "\\end{equation}\n",
    "\n",
    "siendo $k$ el número de variables predictoras.\n"
   ]
  },
  {
   "cell_type": "markdown",
   "metadata": {},
   "source": [
    "## Regresión lineal simple con `scikit-learn`\n",
    "\n",
    "Seguimos los pasos típicos que ya vimos anteriormente, para trabajar con la librería `scikit-learn`."
   ]
  },
  {
   "cell_type": "code",
   "execution_count": 44,
   "metadata": {},
   "outputs": [
    {
     "data": {
      "text/html": [
       "<div>\n",
       "<style scoped>\n",
       "    .dataframe tbody tr th:only-of-type {\n",
       "        vertical-align: middle;\n",
       "    }\n",
       "\n",
       "    .dataframe tbody tr th {\n",
       "        vertical-align: top;\n",
       "    }\n",
       "\n",
       "    .dataframe thead th {\n",
       "        text-align: right;\n",
       "    }\n",
       "</style>\n",
       "<table border=\"1\" class=\"dataframe\">\n",
       "  <thead>\n",
       "    <tr style=\"text-align: right;\">\n",
       "      <th></th>\n",
       "      <th>TV</th>\n",
       "      <th>Radio</th>\n",
       "      <th>Newspaper</th>\n",
       "      <th>Sales</th>\n",
       "    </tr>\n",
       "  </thead>\n",
       "  <tbody>\n",
       "    <tr>\n",
       "      <th>0</th>\n",
       "      <td>230.1</td>\n",
       "      <td>37.8</td>\n",
       "      <td>69.2</td>\n",
       "      <td>22.1</td>\n",
       "    </tr>\n",
       "    <tr>\n",
       "      <th>1</th>\n",
       "      <td>44.5</td>\n",
       "      <td>39.3</td>\n",
       "      <td>45.1</td>\n",
       "      <td>10.4</td>\n",
       "    </tr>\n",
       "    <tr>\n",
       "      <th>2</th>\n",
       "      <td>17.2</td>\n",
       "      <td>45.9</td>\n",
       "      <td>69.3</td>\n",
       "      <td>9.3</td>\n",
       "    </tr>\n",
       "    <tr>\n",
       "      <th>3</th>\n",
       "      <td>151.5</td>\n",
       "      <td>41.3</td>\n",
       "      <td>58.5</td>\n",
       "      <td>18.5</td>\n",
       "    </tr>\n",
       "    <tr>\n",
       "      <th>4</th>\n",
       "      <td>180.8</td>\n",
       "      <td>10.8</td>\n",
       "      <td>58.4</td>\n",
       "      <td>12.9</td>\n",
       "    </tr>\n",
       "  </tbody>\n",
       "</table>\n",
       "</div>"
      ],
      "text/plain": [
       "      TV  Radio  Newspaper  Sales\n",
       "0  230.1   37.8       69.2   22.1\n",
       "1   44.5   39.3       45.1   10.4\n",
       "2   17.2   45.9       69.3    9.3\n",
       "3  151.5   41.3       58.5   18.5\n",
       "4  180.8   10.8       58.4   12.9"
      ]
     },
     "metadata": {},
     "output_type": "display_data"
    },
    {
     "name": "stdout",
     "output_type": "stream",
     "text": [
      "R2:  0.611875050850071\n",
      "MSE:  10.512652915656757\n",
      "RMSE:  3.2423221486546887\n",
      "\n",
      "Parámetros del ajuste\n",
      "beta_0:  7.032593549127695\n",
      "beta_1:  [0.04753664]\n"
     ]
    },
    {
     "data": {
      "image/png": "[encoded data removed]",
      "text/plain": [
       "<Figure size 640x480 with 1 Axes>"
      ]
     },
     "metadata": {},
     "output_type": "display_data"
    },
    {
     "data": {
      "image/png": "[encoded data removed]",
      "text/plain": [
       "<Figure size 640x480 with 1 Axes>"
      ]
     },
     "metadata": {},
     "output_type": "display_data"
    },
    {
     "data": {
      "image/png": "[encoded data removed]",
      "text/plain": [
       "<Figure size 640x480 with 1 Axes>"
      ]
     },
     "metadata": {},
     "output_type": "display_data"
    },
    {
     "name": "stdout",
     "output_type": "stream",
     "text": [
      "Prueba de Shapiro-Wilk\n",
      "estadístico W=0.991, p-valor=0.213\n",
      "Probablemente es gaussiano\n",
      "\n",
      "\n"
     ]
    }
   ],
   "source": [
    "# Carga de datos\n",
    "filename = \"advertising/advertising.csv\"\n",
    "fullpath = os.path.join(mainpath,filename)\n",
    "\n",
    "df_advertising = pd.read_csv(fullpath)\n",
    "display(df_advertising.head())\n",
    "\n",
    "##\n",
    "X = df_advertising['TV'].to_frame() ## matriz de caracteristicas, si solo tenemos una caracteristica, se tiene que transformar a DataFrame\n",
    "y = df_advertising['Sales'] ## variable objetivo\n",
    "\n",
    "## Modelado con scikit-learn\n",
    "\n",
    "# 1. instancia el modelo\n",
    "model_lm = LinearRegression(fit_intercept=True)\n",
    "\n",
    "# 2. entrenar el modelo\n",
    "model_lm.fit(X,y)\n",
    "\n",
    "# 3. hacer predicciones\n",
    "y_pred = model_lm.predict(X)\n",
    "\n",
    "# 4. evaluacion con metricas\n",
    "r2 = r2_score(y, y_pred) # para r2 si importa el orden de los argumentos (y_real, y_predicha)\n",
    "mse = mean_squared_error(y, y_pred)\n",
    "rmse = np.sqrt(mse)\n",
    "\n",
    "print('R2: ', r2)\n",
    "print('MSE: ', mse)\n",
    "print('RMSE: ', rmse)\n",
    "print('')\n",
    "print('Parámetros del ajuste')\n",
    "print('beta_0: ', model_lm.intercept_)\n",
    "print('beta_1: ', model_lm.coef_)\n",
    "\n",
    "# Plot\n",
    "plt.scatter(X, y, label='Data')\n",
    "plt.scatter(X, y_pred, c=\"red\", label='LinearRegression')\n",
    "plt.xlabel('TV')\n",
    "plt.ylabel('Sales')\n",
    "plt.legend()\n",
    "plt.show()\n",
    "\n",
    "# residuos\n",
    "res = y - y_pred\n",
    "\n",
    "# plot residuos\n",
    "plt.hist(res)\n",
    "plt.title(\"Histograma de los residuos\")\n",
    "plt.show()\n",
    "\n",
    "## Q-Q plot\n",
    "st.probplot(res,\n",
    "            dist='norm',\n",
    "            plot=plt)\n",
    "plt.show()\n",
    "\n",
    "# prueba de normalidad de Shapiro-Wilk\n",
    "significance = 0.05\n",
    "standardized_var = st.zscore(res)\n",
    "stat, p = st.shapiro(standardized_var)\n",
    "print('Prueba de Shapiro-Wilk')\n",
    "print('estadístico W=%.3f, p-valor=%.3f' % (stat,p))\n",
    "if p > significance:\n",
    "    print('Probablemente es gaussiano')\n",
    "else:\n",
    "    print('Probablemente no es gaussiano')\n",
    "print('\\n')"
   ]
  },
  {
   "cell_type": "markdown",
   "metadata": {},
   "source": [
    "Como vemos, los parámetros que se obtienen con `scikit-learn` son exactamente los mismos.\n",
    "\n",
    "Tanto `scikit-learn` como `statsmodels` nos permiten ajustar modelos de regresión lineal simple de forma eficiente, pero con enfoques distintos. `scikit-learn` está diseñado principalmente para tareas de **predicción automática**, por lo que su interfaz es simple y directa: entrenar el modelo, hacer predicciones y evaluar el rendimiento con métricas como $R^2$ o el error cuadrático medio. Por otro lado, `statsmodels` está más enfocado en el **análisis estadístico detallado**: proporciona un resumen completo del modelo con coeficientes, errores estándar, valores p, intervalos de confianza y métricas de ajuste como AIC y BIC.\n",
    "\n",
    "Ambas herramientas producen los mismos coeficientes numéricos cuando el modelo es el mismo, pero su salida y enfoque responden a necesidades diferentes: `scikit-learn` para predicción eficiente en pipelines de machine learning, y `statsmodels` para análisis inferencial y evaluación de la significancia estadística de las variables. Utilizar ambos complementa la comprensión teórica y práctica del modelo de regresión.\n"
   ]
  },
  {
   "cell_type": "markdown",
   "metadata": {},
   "source": [
    "# Regresión lineal múltiple\n",
    "\n",
    "La regresión lineal por mínimos cuadrados ordinarios (OLS, por sus siglas en inglés: *Ordinary Least Squares*) es uno de los modelos estadísticos más utilizados para **explicar la relación entre una variable dependiente y una o más variables independientes**.\n",
    "\n",
    "En su forma más simple, OLS asume una relación lineal entre los predictores y la respuesta, y busca encontrar la línea (o hiperplano) que **minimiza la suma de los errores al cuadrado** entre las predicciones del modelo y los valores observados.\n",
    "\n",
    "---\n",
    "\n",
    "### Forma general del modelo\n",
    "\n",
    "\\begin{equation}\n",
    "\\hat{y}_i = \\beta_0 + \\beta_1 x_{i1} + \\beta_2 x_{i2} + \\dots + \\beta_p x_{ip} + \\varepsilon_i\n",
    "\\end{equation}\n",
    "\n",
    "donde,\n",
    "\n",
    "- $y_i$: valor observado de la variable dependiente para la observación $i$. \n",
    "- $x_{ij}$: valor del predictor $j$ en la observación $i$.  \n",
    "- $\\beta_j$: coeficientes del modelo (parámetros estimados)  \n",
    "- $\\varepsilon_i$: término de error (ruido no explicado por el modelo)  \n",
    "\n",
    "El objetivo del modelo es encontrar los valores de $\\beta_0, \\beta_1, \\dots, \\beta_p$ que **mejor ajustan** los datos, minimizando la suma de errores al cuadrado o residuos:\n",
    "\n",
    "\\begin{equation}\n",
    "\\sum_{i=1}^n (y_i - \\hat{y}_i)^2\n",
    "\\end{equation}\n",
    "\n",
    "donde $\\hat{y}_i$ son los valores predichos por dicho modelo\n",
    "\n",
    "### Dataset de advertising\n",
    "Siguiendo está línea, en este caso vamos a considerar el gasto de radio y periodico. Vamos a incrementar la eficacia del modelo introduciendo más variables. Para esto tendríamos 7 modelos distintos:\n",
    "* Sales - TV\n",
    "* Sales - Radio\n",
    "* Sales - Periodico\n",
    "* Sales - TV + Periodico\n",
    "* Sales - TV + Radio\n",
    "* Sales - Periodico + Radio\n",
    "* Sales - TV + Periodico + Radio\n",
    "Siete modelos lineales, uno por cada combinación de variables.\n",
    "\n",
    "Las reglas recomendadas que empecemos con un modelo que empieze con todas las variables y veamos los p valores pequeño. Todo lo que este por arriba no nos sirven. No es un indicador bueno pero es un punto de partida. **Queremos que el R2 ajustado aumente.**.\n",
    "\n",
    "De la misma forma que lo hicimos para **regresión lineal simple**, vamos a empezar por el caso manual.\n",
    "\n",
    "El modelo lineal también se puede expresar de forma matricial por $Y = X \\beta + \\epsilon$ (cada variables es una matriz), expresada de la siguiente forma:\n",
    "\n",
    "\\begin{equation}\n",
    "\\begin{pmatrix}\n",
    "y_1 \\\\\n",
    "y_2 \\\\\n",
    "\\vdots \\\\\n",
    "y_n\n",
    "\\end{pmatrix} =\n",
    "\\begin{pmatrix}\n",
    "1 & x_{11} & x_{12} & \\cdots & x_{1q} \\\\\n",
    "1 & x_{21} & x_{22} & \\cdots & x_{2q} \\\\\n",
    "\\vdots & \\vdots & \\vdots & & \\vdots \\\\\n",
    "1 & x_{n1} & x_{n2} & \\cdots & x_{nq} \\\\\n",
    "\\end{pmatrix}\n",
    "\\begin{pmatrix}\n",
    "\\beta_0 \\\\\n",
    "\\beta_1 \\\\\n",
    "\\vdots \\\\\n",
    "\\beta_q\n",
    "\\end{pmatrix}\n",
    "+\n",
    "\\begin{pmatrix}\n",
    "\\varepsilon_1 \\\\\n",
    "\\varepsilon_2 \\\\\n",
    "\\vdots \\\\\n",
    "\\varepsilon_n\n",
    "\\end{pmatrix}\n",
    "\\end{equation}\n",
    "\n",
    "El número de filas $n$ corresponde al número de observaciones de los datos. El número de variables de entrada está dado por $q$, y este valor nos resulta en el número de variables a ajustar para el modelo lineal $\\beta_0, \\beta_1 \\ldots \\beta_q$. Por lo tanto, las dimensiones de las matrices son las siguientes, $Y (n \\times 1)$, $X (n \\times (q+1))$, $\\beta ((q+1) \\times 1)$, $\\epsilon (n \\times 1)$. Recordar que una operación entre matrices tiene que tomar en cuenta las dimensiones entre ellas, y normalmente no es conmutativa $(XY \\ne YX)$.\n",
    "\n",
    "**Solución al problema de regresión lineal múltiple por mínimos cuadrados ordinarios (OLS)**\n",
    "En un problema de regresión lineal multivariable, el vector de parámetros óptimos $\\beta$ se encuentra utilizando normalmente el método de mínimos cuadrados ordinarios (OLS), utilizando la siguiente ecuación,\n",
    "\n",
    "\\begin{equation}\n",
    "\\beta = (X^TX)^{-1}X^TY\n",
    "\\end{equation}\n",
    "\n",
    "Podemos ir construyendo estas matrices utilizando la librería de `numpy`en python. Vamos a empezar, por un caso simple, el modelo Sales = TV + Newspaper"
   ]
  },
  {
   "cell_type": "code",
   "execution_count": 45,
   "metadata": {},
   "outputs": [
    {
     "data": {
      "text/html": [
       "<div>\n",
       "<style scoped>\n",
       "    .dataframe tbody tr th:only-of-type {\n",
       "        vertical-align: middle;\n",
       "    }\n",
       "\n",
       "    .dataframe tbody tr th {\n",
       "        vertical-align: top;\n",
       "    }\n",
       "\n",
       "    .dataframe thead th {\n",
       "        text-align: right;\n",
       "    }\n",
       "</style>\n",
       "<table border=\"1\" class=\"dataframe\">\n",
       "  <thead>\n",
       "    <tr style=\"text-align: right;\">\n",
       "      <th></th>\n",
       "      <th>TV</th>\n",
       "      <th>Radio</th>\n",
       "      <th>Newspaper</th>\n",
       "      <th>Sales</th>\n",
       "    </tr>\n",
       "  </thead>\n",
       "  <tbody>\n",
       "    <tr>\n",
       "      <th>0</th>\n",
       "      <td>230.1</td>\n",
       "      <td>37.8</td>\n",
       "      <td>69.2</td>\n",
       "      <td>22.1</td>\n",
       "    </tr>\n",
       "    <tr>\n",
       "      <th>1</th>\n",
       "      <td>44.5</td>\n",
       "      <td>39.3</td>\n",
       "      <td>45.1</td>\n",
       "      <td>10.4</td>\n",
       "    </tr>\n",
       "    <tr>\n",
       "      <th>2</th>\n",
       "      <td>17.2</td>\n",
       "      <td>45.9</td>\n",
       "      <td>69.3</td>\n",
       "      <td>9.3</td>\n",
       "    </tr>\n",
       "    <tr>\n",
       "      <th>3</th>\n",
       "      <td>151.5</td>\n",
       "      <td>41.3</td>\n",
       "      <td>58.5</td>\n",
       "      <td>18.5</td>\n",
       "    </tr>\n",
       "    <tr>\n",
       "      <th>4</th>\n",
       "      <td>180.8</td>\n",
       "      <td>10.8</td>\n",
       "      <td>58.4</td>\n",
       "      <td>12.9</td>\n",
       "    </tr>\n",
       "  </tbody>\n",
       "</table>\n",
       "</div>"
      ],
      "text/plain": [
       "      TV  Radio  Newspaper  Sales\n",
       "0  230.1   37.8       69.2   22.1\n",
       "1   44.5   39.3       45.1   10.4\n",
       "2   17.2   45.9       69.3    9.3\n",
       "3  151.5   41.3       58.5   18.5\n",
       "4  180.8   10.8       58.4   12.9"
      ]
     },
     "metadata": {},
     "output_type": "display_data"
    }
   ],
   "source": [
    "# Carga de datos\n",
    "filename = \"advertising/advertising.csv\"\n",
    "fullpath = os.path.join(mainpath,filename)\n",
    "\n",
    "df_advertising = pd.read_csv(fullpath)\n",
    "display(df_advertising.head())"
   ]
  },
  {
   "cell_type": "code",
   "execution_count": 46,
   "metadata": {
    "scrolled": true
   },
   "outputs": [
    {
     "name": "stdout",
     "output_type": "stream",
     "text": [
      "[1.0, 230.1, 69.2]\n",
      "[1.0, 44.5, 45.1]\n",
      "[1.0, 17.2, 69.3]\n",
      "[1.0, 151.5, 58.5]\n",
      "[1.0, 180.8, 58.4]\n",
      "[1.0, 8.7, 75.0]\n",
      "[1.0, 57.5, 23.5]\n",
      "[1.0, 120.2, 11.6]\n",
      "[1.0, 8.6, 1.0]\n",
      "[1.0, 199.8, 21.2]\n",
      "[1.0, 66.1, 24.2]\n",
      "[1.0, 214.7, 4.0]\n",
      "[1.0, 23.8, 65.9]\n",
      "[1.0, 97.5, 7.2]\n",
      "[1.0, 204.1, 46.0]\n",
      "[1.0, 195.4, 52.9]\n",
      "[1.0, 67.8, 114.0]\n",
      "[1.0, 281.4, 55.8]\n",
      "[1.0, 69.2, 18.3]\n",
      "[1.0, 147.3, 19.1]\n",
      "[1.0, 218.4, 53.4]\n",
      "[1.0, 237.4, 23.5]\n",
      "[1.0, 13.2, 49.6]\n",
      "[1.0, 228.3, 26.2]\n",
      "[1.0, 62.3, 18.3]\n",
      "[1.0, 262.9, 19.5]\n",
      "[1.0, 142.9, 12.6]\n",
      "[1.0, 240.1, 22.9]\n",
      "[1.0, 248.8, 22.9]\n",
      "[1.0, 70.6, 40.8]\n",
      "[1.0, 292.9, 43.2]\n",
      "[1.0, 112.9, 38.6]\n",
      "[1.0, 97.2, 30.0]\n",
      "[1.0, 265.6, 0.3]\n",
      "[1.0, 95.7, 7.4]\n",
      "[1.0, 290.7, 8.5]\n",
      "[1.0, 266.9, 5.0]\n",
      "[1.0, 74.7, 45.7]\n",
      "[1.0, 43.1, 35.1]\n",
      "[1.0, 228.0, 32.0]\n",
      "[1.0, 202.5, 31.6]\n",
      "[1.0, 177.0, 38.7]\n",
      "[1.0, 293.6, 1.8]\n",
      "[1.0, 206.9, 26.4]\n",
      "[1.0, 25.1, 43.3]\n",
      "[1.0, 175.1, 31.5]\n",
      "[1.0, 89.7, 35.7]\n",
      "[1.0, 239.9, 18.5]\n",
      "[1.0, 227.2, 49.9]\n",
      "[1.0, 66.9, 36.8]\n",
      "[1.0, 199.8, 34.6]\n",
      "[1.0, 100.4, 3.6]\n",
      "[1.0, 216.4, 39.6]\n",
      "[1.0, 182.6, 58.7]\n",
      "[1.0, 262.7, 15.9]\n",
      "[1.0, 198.9, 60.0]\n",
      "[1.0, 7.3, 41.4]\n",
      "[1.0, 136.2, 16.6]\n",
      "[1.0, 210.8, 37.7]\n",
      "[1.0, 210.7, 9.3]\n",
      "[1.0, 53.5, 21.4]\n",
      "[1.0, 261.3, 54.7]\n",
      "[1.0, 239.3, 27.3]\n",
      "[1.0, 102.7, 8.4]\n",
      "[1.0, 131.1, 28.9]\n",
      "[1.0, 69.0, 0.9]\n",
      "[1.0, 31.5, 2.2]\n",
      "[1.0, 139.3, 10.2]\n",
      "[1.0, 237.4, 11.0]\n",
      "[1.0, 216.8, 27.2]\n",
      "[1.0, 199.1, 38.7]\n",
      "[1.0, 109.8, 31.7]\n",
      "[1.0, 26.8, 19.3]\n",
      "[1.0, 129.4, 31.3]\n",
      "[1.0, 213.4, 13.1]\n",
      "[1.0, 16.9, 89.4]\n",
      "[1.0, 27.5, 20.7]\n",
      "[1.0, 120.5, 14.2]\n",
      "[1.0, 5.4, 9.4]\n",
      "[1.0, 116.0, 23.1]\n",
      "[1.0, 76.4, 22.3]\n",
      "[1.0, 239.8, 36.9]\n",
      "[1.0, 75.3, 32.5]\n",
      "[1.0, 68.4, 35.6]\n",
      "[1.0, 213.5, 33.8]\n",
      "[1.0, 193.2, 65.7]\n",
      "[1.0, 76.3, 16.0]\n",
      "[1.0, 110.7, 63.2]\n",
      "[1.0, 88.3, 73.4]\n",
      "[1.0, 109.8, 51.4]\n",
      "[1.0, 134.3, 9.3]\n",
      "[1.0, 28.6, 33.0]\n",
      "[1.0, 217.7, 59.0]\n",
      "[1.0, 250.9, 72.3]\n",
      "[1.0, 107.4, 10.9]\n",
      "[1.0, 163.3, 52.9]\n",
      "[1.0, 197.6, 5.9]\n",
      "[1.0, 184.9, 22.0]\n",
      "[1.0, 289.7, 51.2]\n",
      "[1.0, 135.2, 45.9]\n",
      "[1.0, 222.4, 49.8]\n",
      "[1.0, 296.4, 100.9]\n",
      "[1.0, 280.2, 21.4]\n",
      "[1.0, 187.9, 17.9]\n",
      "[1.0, 238.2, 5.3]\n",
      "[1.0, 137.9, 59.0]\n",
      "[1.0, 25.0, 29.7]\n",
      "[1.0, 90.4, 23.2]\n",
      "[1.0, 13.1, 25.6]\n",
      "[1.0, 255.4, 5.5]\n",
      "[1.0, 225.8, 56.5]\n",
      "[1.0, 241.7, 23.2]\n",
      "[1.0, 175.7, 2.4]\n",
      "[1.0, 209.6, 10.7]\n",
      "[1.0, 78.2, 34.5]\n",
      "[1.0, 75.1, 52.7]\n",
      "[1.0, 139.2, 25.6]\n",
      "[1.0, 76.4, 14.8]\n",
      "[1.0, 125.7, 79.2]\n",
      "[1.0, 19.4, 22.3]\n",
      "[1.0, 141.3, 46.2]\n",
      "[1.0, 18.8, 50.4]\n",
      "[1.0, 224.0, 15.6]\n",
      "[1.0, 123.1, 12.4]\n",
      "[1.0, 229.5, 74.2]\n",
      "[1.0, 87.2, 25.9]\n",
      "[1.0, 7.8, 50.6]\n",
      "[1.0, 80.2, 9.2]\n",
      "[1.0, 220.3, 3.2]\n",
      "[1.0, 59.6, 43.1]\n",
      "[1.0, 0.7, 8.7]\n",
      "[1.0, 265.2, 43.0]\n",
      "[1.0, 8.4, 2.1]\n",
      "[1.0, 219.8, 45.1]\n",
      "[1.0, 36.9, 65.6]\n",
      "[1.0, 48.3, 8.5]\n",
      "[1.0, 25.6, 9.3]\n",
      "[1.0, 273.7, 59.7]\n",
      "[1.0, 43.0, 20.5]\n",
      "[1.0, 184.9, 1.7]\n",
      "[1.0, 73.4, 12.9]\n",
      "[1.0, 193.7, 75.6]\n",
      "[1.0, 220.5, 37.9]\n",
      "[1.0, 104.6, 34.4]\n",
      "[1.0, 96.2, 38.9]\n",
      "[1.0, 140.3, 9.0]\n",
      "[1.0, 240.1, 8.7]\n",
      "[1.0, 243.2, 44.3]\n",
      "[1.0, 38.0, 11.9]\n",
      "[1.0, 44.7, 20.6]\n",
      "[1.0, 280.7, 37.0]\n",
      "[1.0, 121.0, 48.7]\n",
      "[1.0, 197.6, 14.2]\n",
      "[1.0, 171.3, 37.7]\n",
      "[1.0, 187.8, 9.5]\n",
      "[1.0, 4.1, 5.7]\n",
      "[1.0, 93.9, 50.5]\n",
      "[1.0, 149.8, 24.3]\n",
      "[1.0, 11.7, 45.2]\n",
      "[1.0, 131.7, 34.6]\n",
      "[1.0, 172.5, 30.7]\n",
      "[1.0, 85.7, 49.3]\n",
      "[1.0, 188.4, 25.6]\n",
      "[1.0, 163.5, 7.4]\n",
      "[1.0, 117.2, 5.4]\n",
      "[1.0, 234.5, 84.8]\n",
      "[1.0, 17.9, 21.6]\n",
      "[1.0, 206.8, 19.4]\n",
      "[1.0, 215.4, 57.6]\n",
      "[1.0, 284.3, 6.4]\n",
      "[1.0, 50.0, 18.4]\n",
      "[1.0, 164.5, 47.4]\n",
      "[1.0, 19.6, 17.0]\n",
      "[1.0, 168.4, 12.8]\n",
      "[1.0, 222.4, 13.1]\n",
      "[1.0, 276.9, 41.8]\n",
      "[1.0, 248.4, 20.3]\n",
      "[1.0, 170.2, 35.2]\n",
      "[1.0, 276.7, 23.7]\n",
      "[1.0, 165.6, 17.6]\n",
      "[1.0, 156.6, 8.3]\n",
      "[1.0, 218.5, 27.4]\n",
      "[1.0, 56.2, 29.7]\n",
      "[1.0, 287.6, 71.8]\n",
      "[1.0, 253.8, 30.0]\n",
      "[1.0, 205.0, 19.6]\n",
      "[1.0, 139.5, 26.6]\n",
      "[1.0, 191.1, 18.2]\n",
      "[1.0, 286.0, 3.7]\n",
      "[1.0, 18.7, 23.4]\n",
      "[1.0, 39.5, 5.8]\n",
      "[1.0, 75.5, 6.0]\n",
      "[1.0, 17.2, 31.6]\n",
      "[1.0, 166.8, 3.6]\n",
      "[1.0, 149.7, 6.0]\n",
      "[1.0, 38.2, 13.8]\n",
      "[1.0, 94.2, 8.1]\n",
      "[1.0, 177.0, 6.4]\n",
      "[1.0, 283.6, 66.2]\n",
      "[1.0, 232.1, 8.7]\n"
     ]
    }
   ],
   "source": [
    "# Creamos la matriz X\n",
    "# Cremos una lista de 1's que tenga la misma longitud que los datos\n",
    "x = []\n",
    "for i in range(0,df_advertising.shape[0]):\n",
    "    x.append(1.0)\n",
    "\n",
    "# Creamos lista con la primer variable\n",
    "x1 = df_advertising['TV'].values.tolist()\n",
    "# Creamos una lista con la segunda variable\n",
    "x2 = df_advertising['Newspaper'].values.tolist()\n",
    "\n",
    "# Creamos la matriz X\n",
    "X = []\n",
    "for i in range(0,df_advertising.shape[0]):\n",
    "    X.append([x[i],x1[i],x2[i]])\n",
    "    print([x[i],x1[i],x2[i]])"
   ]
  },
  {
   "cell_type": "code",
   "execution_count": 47,
   "metadata": {},
   "outputs": [
    {
     "name": "stdout",
     "output_type": "stream",
     "text": [
      "[22.1]\n",
      "[10.4]\n",
      "[9.3]\n",
      "[18.5]\n",
      "[12.9]\n",
      "[7.2]\n",
      "[11.8]\n",
      "[13.2]\n",
      "[4.8]\n",
      "[10.6]\n",
      "[8.6]\n",
      "[17.4]\n",
      "[9.2]\n",
      "[9.7]\n",
      "[19.0]\n",
      "[22.4]\n",
      "[12.5]\n",
      "[24.4]\n",
      "[11.3]\n",
      "[14.6]\n",
      "[18.0]\n",
      "[12.5]\n",
      "[5.6]\n",
      "[15.5]\n",
      "[9.7]\n",
      "[12.0]\n",
      "[15.0]\n",
      "[15.9]\n",
      "[18.9]\n",
      "[10.5]\n",
      "[21.4]\n",
      "[11.9]\n",
      "[9.6]\n",
      "[17.4]\n",
      "[9.5]\n",
      "[12.8]\n",
      "[25.4]\n",
      "[14.7]\n",
      "[10.1]\n",
      "[21.5]\n",
      "[16.6]\n",
      "[17.1]\n",
      "[20.7]\n",
      "[12.9]\n",
      "[8.5]\n",
      "[14.9]\n",
      "[10.6]\n",
      "[23.2]\n",
      "[14.8]\n",
      "[9.7]\n",
      "[11.4]\n",
      "[10.7]\n",
      "[22.6]\n",
      "[21.2]\n",
      "[20.2]\n",
      "[23.7]\n",
      "[5.5]\n",
      "[13.2]\n",
      "[23.8]\n",
      "[18.4]\n",
      "[8.1]\n",
      "[24.2]\n",
      "[15.7]\n",
      "[14.0]\n",
      "[18.0]\n",
      "[9.3]\n",
      "[9.5]\n",
      "[13.4]\n",
      "[18.9]\n",
      "[22.3]\n",
      "[18.3]\n",
      "[12.4]\n",
      "[8.8]\n",
      "[11.0]\n",
      "[17.0]\n",
      "[8.7]\n",
      "[6.9]\n",
      "[14.2]\n",
      "[5.3]\n",
      "[11.0]\n",
      "[11.8]\n",
      "[12.3]\n",
      "[11.3]\n",
      "[13.6]\n",
      "[21.7]\n",
      "[15.2]\n",
      "[12.0]\n",
      "[16.0]\n",
      "[12.9]\n",
      "[16.7]\n",
      "[11.2]\n",
      "[7.3]\n",
      "[19.4]\n",
      "[22.2]\n",
      "[11.5]\n",
      "[16.9]\n",
      "[11.7]\n",
      "[15.5]\n",
      "[25.4]\n",
      "[17.2]\n",
      "[11.7]\n",
      "[23.8]\n",
      "[14.8]\n",
      "[14.7]\n",
      "[20.7]\n",
      "[19.2]\n",
      "[7.2]\n",
      "[8.7]\n",
      "[5.3]\n",
      "[19.8]\n",
      "[13.4]\n",
      "[21.8]\n",
      "[14.1]\n",
      "[15.9]\n",
      "[14.6]\n",
      "[12.6]\n",
      "[12.2]\n",
      "[9.4]\n",
      "[15.9]\n",
      "[6.6]\n",
      "[15.5]\n",
      "[7.0]\n",
      "[11.6]\n",
      "[15.2]\n",
      "[19.7]\n",
      "[10.6]\n",
      "[6.6]\n",
      "[8.8]\n",
      "[24.7]\n",
      "[9.7]\n",
      "[1.6]\n",
      "[12.7]\n",
      "[5.7]\n",
      "[19.6]\n",
      "[10.8]\n",
      "[11.6]\n",
      "[9.5]\n",
      "[20.8]\n",
      "[9.6]\n",
      "[20.7]\n",
      "[10.9]\n",
      "[19.2]\n",
      "[20.1]\n",
      "[10.4]\n",
      "[11.4]\n",
      "[10.3]\n",
      "[13.2]\n",
      "[25.4]\n",
      "[10.9]\n",
      "[10.1]\n",
      "[16.1]\n",
      "[11.6]\n",
      "[16.6]\n",
      "[19.0]\n",
      "[15.6]\n",
      "[3.2]\n",
      "[15.3]\n",
      "[10.1]\n",
      "[7.3]\n",
      "[12.9]\n",
      "[14.4]\n",
      "[13.3]\n",
      "[14.9]\n",
      "[18.0]\n",
      "[11.9]\n",
      "[11.9]\n",
      "[8.0]\n",
      "[12.2]\n",
      "[17.1]\n",
      "[15.0]\n",
      "[8.4]\n",
      "[14.5]\n",
      "[7.6]\n",
      "[11.7]\n",
      "[11.5]\n",
      "[27.0]\n",
      "[20.2]\n",
      "[11.7]\n",
      "[11.8]\n",
      "[12.6]\n",
      "[10.5]\n",
      "[12.2]\n",
      "[8.7]\n",
      "[26.2]\n",
      "[17.6]\n",
      "[22.6]\n",
      "[10.3]\n",
      "[17.3]\n",
      "[15.9]\n",
      "[6.7]\n",
      "[10.8]\n",
      "[9.9]\n",
      "[5.9]\n",
      "[19.6]\n",
      "[17.3]\n",
      "[7.6]\n",
      "[9.7]\n",
      "[12.8]\n",
      "[25.5]\n",
      "[13.4]\n"
     ]
    }
   ],
   "source": [
    "# Creamos Matriz Y\n",
    "y = df_advertising['Sales'].values.tolist()\n",
    "Y = []\n",
    "for i in range(0,df_advertising.shape[0]):\n",
    "        Y.append([y[i]])\n",
    "        print([y[i]])"
   ]
  },
  {
   "cell_type": "code",
   "execution_count": 48,
   "metadata": {},
   "outputs": [
    {
     "name": "stdout",
     "output_type": "stream",
     "text": [
      "[[  1.    1.    1.    1.    1.    1.    1.    1.    1.    1.    1.    1.\n",
      "    1.    1.    1.    1.    1.    1.    1.    1.    1.    1.    1.    1.\n",
      "    1.    1.    1.    1.    1.    1.    1.    1.    1.    1.    1.    1.\n",
      "    1.    1.    1.    1.    1.    1.    1.    1.    1.    1.    1.    1.\n",
      "    1.    1.    1.    1.    1.    1.    1.    1.    1.    1.    1.    1.\n",
      "    1.    1.    1.    1.    1.    1.    1.    1.    1.    1.    1.    1.\n",
      "    1.    1.    1.    1.    1.    1.    1.    1.    1.    1.    1.    1.\n",
      "    1.    1.    1.    1.    1.    1.    1.    1.    1.    1.    1.    1.\n",
      "    1.    1.    1.    1.    1.    1.    1.    1.    1.    1.    1.    1.\n",
      "    1.    1.    1.    1.    1.    1.    1.    1.    1.    1.    1.    1.\n",
      "    1.    1.    1.    1.    1.    1.    1.    1.    1.    1.    1.    1.\n",
      "    1.    1.    1.    1.    1.    1.    1.    1.    1.    1.    1.    1.\n",
      "    1.    1.    1.    1.    1.    1.    1.    1.    1.    1.    1.    1.\n",
      "    1.    1.    1.    1.    1.    1.    1.    1.    1.    1.    1.    1.\n",
      "    1.    1.    1.    1.    1.    1.    1.    1.    1.    1.    1.    1.\n",
      "    1.    1.    1.    1.    1.    1.    1.    1.    1.    1.    1.    1.\n",
      "    1.    1.    1.    1.    1.    1.    1.    1. ]\n",
      " [230.1  44.5  17.2 151.5 180.8   8.7  57.5 120.2   8.6 199.8  66.1 214.7\n",
      "   23.8  97.5 204.1 195.4  67.8 281.4  69.2 147.3 218.4 237.4  13.2 228.3\n",
      "   62.3 262.9 142.9 240.1 248.8  70.6 292.9 112.9  97.2 265.6  95.7 290.7\n",
      "  266.9  74.7  43.1 228.  202.5 177.  293.6 206.9  25.1 175.1  89.7 239.9\n",
      "  227.2  66.9 199.8 100.4 216.4 182.6 262.7 198.9   7.3 136.2 210.8 210.7\n",
      "   53.5 261.3 239.3 102.7 131.1  69.   31.5 139.3 237.4 216.8 199.1 109.8\n",
      "   26.8 129.4 213.4  16.9  27.5 120.5   5.4 116.   76.4 239.8  75.3  68.4\n",
      "  213.5 193.2  76.3 110.7  88.3 109.8 134.3  28.6 217.7 250.9 107.4 163.3\n",
      "  197.6 184.9 289.7 135.2 222.4 296.4 280.2 187.9 238.2 137.9  25.   90.4\n",
      "   13.1 255.4 225.8 241.7 175.7 209.6  78.2  75.1 139.2  76.4 125.7  19.4\n",
      "  141.3  18.8 224.  123.1 229.5  87.2   7.8  80.2 220.3  59.6   0.7 265.2\n",
      "    8.4 219.8  36.9  48.3  25.6 273.7  43.  184.9  73.4 193.7 220.5 104.6\n",
      "   96.2 140.3 240.1 243.2  38.   44.7 280.7 121.  197.6 171.3 187.8   4.1\n",
      "   93.9 149.8  11.7 131.7 172.5  85.7 188.4 163.5 117.2 234.5  17.9 206.8\n",
      "  215.4 284.3  50.  164.5  19.6 168.4 222.4 276.9 248.4 170.2 276.7 165.6\n",
      "  156.6 218.5  56.2 287.6 253.8 205.  139.5 191.1 286.   18.7  39.5  75.5\n",
      "   17.2 166.8 149.7  38.2  94.2 177.  283.6 232.1]\n",
      " [ 69.2  45.1  69.3  58.5  58.4  75.   23.5  11.6   1.   21.2  24.2   4.\n",
      "   65.9   7.2  46.   52.9 114.   55.8  18.3  19.1  53.4  23.5  49.6  26.2\n",
      "   18.3  19.5  12.6  22.9  22.9  40.8  43.2  38.6  30.    0.3   7.4   8.5\n",
      "    5.   45.7  35.1  32.   31.6  38.7   1.8  26.4  43.3  31.5  35.7  18.5\n",
      "   49.9  36.8  34.6   3.6  39.6  58.7  15.9  60.   41.4  16.6  37.7   9.3\n",
      "   21.4  54.7  27.3   8.4  28.9   0.9   2.2  10.2  11.   27.2  38.7  31.7\n",
      "   19.3  31.3  13.1  89.4  20.7  14.2   9.4  23.1  22.3  36.9  32.5  35.6\n",
      "   33.8  65.7  16.   63.2  73.4  51.4   9.3  33.   59.   72.3  10.9  52.9\n",
      "    5.9  22.   51.2  45.9  49.8 100.9  21.4  17.9   5.3  59.   29.7  23.2\n",
      "   25.6   5.5  56.5  23.2   2.4  10.7  34.5  52.7  25.6  14.8  79.2  22.3\n",
      "   46.2  50.4  15.6  12.4  74.2  25.9  50.6   9.2   3.2  43.1   8.7  43.\n",
      "    2.1  45.1  65.6   8.5   9.3  59.7  20.5   1.7  12.9  75.6  37.9  34.4\n",
      "   38.9   9.    8.7  44.3  11.9  20.6  37.   48.7  14.2  37.7   9.5   5.7\n",
      "   50.5  24.3  45.2  34.6  30.7  49.3  25.6   7.4   5.4  84.8  21.6  19.4\n",
      "   57.6   6.4  18.4  47.4  17.   12.8  13.1  41.8  20.3  35.2  23.7  17.6\n",
      "    8.3  27.4  29.7  71.8  30.   19.6  26.6  18.2   3.7  23.4   5.8   6.\n",
      "   31.6   3.6   6.   13.8   8.1   6.4  66.2   8.7]]\n"
     ]
    }
   ],
   "source": [
    "# Calculamos la matriz X transpuesta con numpy\n",
    "X_T = np.transpose(X)\n",
    "print(X_T)"
   ]
  },
  {
   "cell_type": "code",
   "execution_count": 49,
   "metadata": {},
   "outputs": [
    {
     "name": "stdout",
     "output_type": "stream",
     "text": [
      "[[2.00000000e+02 2.94085000e+04 6.11080000e+03]\n",
      " [2.94085000e+04 5.79111839e+06 9.19625280e+05]\n",
      " [6.11080000e+03 9.19625280e+05 2.81096740e+05]]\n"
     ]
    }
   ],
   "source": [
    "# Calculamos el producto de X^T X\n",
    "M = X_T.dot(X)\n",
    "print(M)"
   ]
  },
  {
   "cell_type": "code",
   "execution_count": 50,
   "metadata": {},
   "outputs": [
    {
     "name": "stdout",
     "output_type": "stream",
     "text": [
      "[[ 2.83379032e-02 -9.59019392e-05 -3.02292412e-04]\n",
      " [-9.59019392e-05  6.83942117e-07 -1.52733508e-07]\n",
      " [-3.02292412e-04 -1.52733508e-07  1.06287468e-05]]\n"
     ]
    }
   ],
   "source": [
    "# calculamos matriz inversa (X^T X)^-1\n",
    "M_i = np.linalg.inv(M)\n",
    "print(M_i)"
   ]
  },
  {
   "cell_type": "code",
   "execution_count": 51,
   "metadata": {},
   "outputs": [
    {
     "name": "stdout",
     "output_type": "stream",
     "text": [
      "[[5.77494797]\n",
      " [0.04690121]\n",
      " [0.04421942]]\n"
     ]
    }
   ],
   "source": [
    "# calculamos toda la ecuación completa de los parametros optimos (X^T X)^-1 X^T Y\n",
    "\n",
    "# primero X^T * Y\n",
    "B = X_T.dot(Y)\n",
    "\n",
    "# luego (X^T X)^-1 por lo anterior\n",
    "Beta = M_i.dot(B)\n",
    "\n",
    "print(Beta)"
   ]
  },
  {
   "cell_type": "markdown",
   "metadata": {},
   "source": [
    "Este es el vector de parámetros óptimos, cuyas entradas son $\\beta_0, \\beta_1, \\beta_2, \\ldots$. Veamos si nos salen los mismos parámetros óptimos utilizando scikit-learn. Podemos reutilizar el código que hicimos para el caso de regresión lineal simple, pues sólo tenemos que agregar una variable predictora adicional.\n",
    "\n",
    "### Regresión lineal múltiple con scikit-learn"
   ]
  },
  {
   "cell_type": "code",
   "execution_count": 52,
   "metadata": {},
   "outputs": [
    {
     "data": {
      "text/html": [
       "<div>\n",
       "<style scoped>\n",
       "    .dataframe tbody tr th:only-of-type {\n",
       "        vertical-align: middle;\n",
       "    }\n",
       "\n",
       "    .dataframe tbody tr th {\n",
       "        vertical-align: top;\n",
       "    }\n",
       "\n",
       "    .dataframe thead th {\n",
       "        text-align: right;\n",
       "    }\n",
       "</style>\n",
       "<table border=\"1\" class=\"dataframe\">\n",
       "  <thead>\n",
       "    <tr style=\"text-align: right;\">\n",
       "      <th></th>\n",
       "      <th>TV</th>\n",
       "      <th>Radio</th>\n",
       "      <th>Newspaper</th>\n",
       "      <th>Sales</th>\n",
       "    </tr>\n",
       "  </thead>\n",
       "  <tbody>\n",
       "    <tr>\n",
       "      <th>0</th>\n",
       "      <td>230.1</td>\n",
       "      <td>37.8</td>\n",
       "      <td>69.2</td>\n",
       "      <td>22.1</td>\n",
       "    </tr>\n",
       "    <tr>\n",
       "      <th>1</th>\n",
       "      <td>44.5</td>\n",
       "      <td>39.3</td>\n",
       "      <td>45.1</td>\n",
       "      <td>10.4</td>\n",
       "    </tr>\n",
       "    <tr>\n",
       "      <th>2</th>\n",
       "      <td>17.2</td>\n",
       "      <td>45.9</td>\n",
       "      <td>69.3</td>\n",
       "      <td>9.3</td>\n",
       "    </tr>\n",
       "    <tr>\n",
       "      <th>3</th>\n",
       "      <td>151.5</td>\n",
       "      <td>41.3</td>\n",
       "      <td>58.5</td>\n",
       "      <td>18.5</td>\n",
       "    </tr>\n",
       "    <tr>\n",
       "      <th>4</th>\n",
       "      <td>180.8</td>\n",
       "      <td>10.8</td>\n",
       "      <td>58.4</td>\n",
       "      <td>12.9</td>\n",
       "    </tr>\n",
       "  </tbody>\n",
       "</table>\n",
       "</div>"
      ],
      "text/plain": [
       "      TV  Radio  Newspaper  Sales\n",
       "0  230.1   37.8       69.2   22.1\n",
       "1   44.5   39.3       45.1   10.4\n",
       "2   17.2   45.9       69.3    9.3\n",
       "3  151.5   41.3       58.5   18.5\n",
       "4  180.8   10.8       58.4   12.9"
      ]
     },
     "metadata": {},
     "output_type": "display_data"
    },
    {
     "name": "stdout",
     "output_type": "stream",
     "text": [
      "Resultados para Sales ~ TV + Newspaper\n",
      "R2:  0.6458354938293271\n",
      "MSE:  9.59280905948414\n",
      "RMSE:  3.097226026541192\n",
      "\n",
      "Parámetros del ajuste\n",
      "beta_0:  5.7749479679116344\n",
      "beta_1:  0.04690121389190707\n",
      "beta_2:  0.04421942424519282\n"
     ]
    }
   ],
   "source": [
    "# Carga de datos\n",
    "filename = \"advertising/advertising.csv\"\n",
    "fullpath = os.path.join(mainpath,filename)\n",
    "\n",
    "df_advertising = pd.read_csv(fullpath)\n",
    "display(df_advertising.head())\n",
    "\n",
    "##\n",
    "X = df_advertising[['TV','Newspaper']] ## matriz de caracteristicas, aquí incluimos variables adicionales, ya no es necesario transformar a dataframe\n",
    "y = df_advertising['Sales'] ## variable objetivo\n",
    "\n",
    "## Modelado con scikit-learn\n",
    "\n",
    "# 1. instancia el modelo\n",
    "model_lm = LinearRegression(fit_intercept=True)\n",
    "\n",
    "# 2. entrenar el modelo\n",
    "model_lm.fit(X,y)\n",
    "\n",
    "# 3. hacer predicciones\n",
    "y_pred = model_lm.predict(X)\n",
    "\n",
    "# 4. evaluacion con metricas\n",
    "r2 = r2_score(y, y_pred) # para r2 si importa el orden de los argumentos (y_real, y_predicha)\n",
    "mse = mean_squared_error(y, y_pred)\n",
    "rmse = np.sqrt(mse)\n",
    "\n",
    "print('Resultados para Sales ~ TV + Newspaper')\n",
    "print('R2: ', r2)\n",
    "print('MSE: ', mse)\n",
    "print('RMSE: ', rmse)\n",
    "print('')\n",
    "print('Parámetros del ajuste')\n",
    "print('beta_0: ', model_lm.intercept_)\n",
    "print('beta_1: ', model_lm.coef_[0])\n",
    "print('beta_2: ', model_lm.coef_[1])"
   ]
  },
  {
   "cell_type": "markdown",
   "metadata": {},
   "source": [
    "Como podemos observar, son exactamente los mismos parámetros $\\beta_i$ de ajuste.\n",
    "\n",
    "## 🧠 Importancia de entender el modelo más allá de la caja negra\n",
    "\n",
    "En el aprendizaje automático, es común utilizar herramientas que nos permiten entrenar modelos y obtener predicciones rápidamente. Sin embargo, tratar estos modelos como **\"cajas negras\"** —es decir, aplicar algoritmos sin comprender su lógica interna— puede llevar a interpretaciones erróneas, decisiones mal fundamentadas o incluso modelos inadecuados para el problema. Comprender cómo funciona un modelo de regresión lineal, cómo se calculan sus parámetros, qué suposiciones implica y cómo interpretar sus salidas, nos permite **diagnosticar su comportamiento**, **identificar errores** y **comunicar sus resultados de manera responsable**. Esta comprensión es fundamental, sobre todo en contextos donde la interpretabilidad y la justificación de las decisiones basadas en datos son tan importantes como la predicción misma.\n",
    "\n",
    "Sabiendo esto, ahora sí podemos pasar a aplicar de manera iterada la metodología de la paquetería de scikit-learn, para todas las combinaciones de variables posible para este problema. Para esto, vamos a modificar un poco el código que teníamos anteriormente.\n",
    "\n",
    "**NOTA** A diferencia de `statsmodels`, `scikit-learn` no incluye directamente el cálculo del R2 ajustado, así que hay que calcularlo manualmente."
   ]
  },
  {
   "cell_type": "code",
   "execution_count": 53,
   "metadata": {},
   "outputs": [
    {
     "data": {
      "text/html": [
       "<div>\n",
       "<style scoped>\n",
       "    .dataframe tbody tr th:only-of-type {\n",
       "        vertical-align: middle;\n",
       "    }\n",
       "\n",
       "    .dataframe tbody tr th {\n",
       "        vertical-align: top;\n",
       "    }\n",
       "\n",
       "    .dataframe thead th {\n",
       "        text-align: right;\n",
       "    }\n",
       "</style>\n",
       "<table border=\"1\" class=\"dataframe\">\n",
       "  <thead>\n",
       "    <tr style=\"text-align: right;\">\n",
       "      <th></th>\n",
       "      <th>TV</th>\n",
       "      <th>Radio</th>\n",
       "      <th>Newspaper</th>\n",
       "      <th>Sales</th>\n",
       "    </tr>\n",
       "  </thead>\n",
       "  <tbody>\n",
       "    <tr>\n",
       "      <th>0</th>\n",
       "      <td>230.1</td>\n",
       "      <td>37.8</td>\n",
       "      <td>69.2</td>\n",
       "      <td>22.1</td>\n",
       "    </tr>\n",
       "    <tr>\n",
       "      <th>1</th>\n",
       "      <td>44.5</td>\n",
       "      <td>39.3</td>\n",
       "      <td>45.1</td>\n",
       "      <td>10.4</td>\n",
       "    </tr>\n",
       "    <tr>\n",
       "      <th>2</th>\n",
       "      <td>17.2</td>\n",
       "      <td>45.9</td>\n",
       "      <td>69.3</td>\n",
       "      <td>9.3</td>\n",
       "    </tr>\n",
       "    <tr>\n",
       "      <th>3</th>\n",
       "      <td>151.5</td>\n",
       "      <td>41.3</td>\n",
       "      <td>58.5</td>\n",
       "      <td>18.5</td>\n",
       "    </tr>\n",
       "    <tr>\n",
       "      <th>4</th>\n",
       "      <td>180.8</td>\n",
       "      <td>10.8</td>\n",
       "      <td>58.4</td>\n",
       "      <td>12.9</td>\n",
       "    </tr>\n",
       "  </tbody>\n",
       "</table>\n",
       "</div>"
      ],
      "text/plain": [
       "      TV  Radio  Newspaper  Sales\n",
       "0  230.1   37.8       69.2   22.1\n",
       "1   44.5   39.3       45.1   10.4\n",
       "2   17.2   45.9       69.3    9.3\n",
       "3  151.5   41.3       58.5   18.5\n",
       "4  180.8   10.8       58.4   12.9"
      ]
     },
     "metadata": {},
     "output_type": "display_data"
    },
    {
     "name": "stdout",
     "output_type": "stream",
     "text": [
      "\n",
      "Modelo con variables: ('TV',)\n",
      "R2: 0.6119 | R2 ajustado: 0.6099 | MSE: 10.5127 | RMSE: 3.2423\n",
      "Coeficientes:\n",
      "  Beta_0 (intercepto): 7.0326\n",
      "  Beta_1 (TV): 0.0475\n",
      "\n",
      "Modelo con variables: ('Radio',)\n",
      "R2: 0.3320 | R2 ajustado: 0.3287 | MSE: 18.0924 | RMSE: 4.2535\n",
      "Coeficientes:\n",
      "  Beta_0 (intercepto): 9.3116\n",
      "  Beta_1 (Radio): 0.2025\n",
      "\n",
      "Modelo con variables: ('Newspaper',)\n",
      "R2: 0.0521 | R2 ajustado: 0.0473 | MSE: 25.6740 | RMSE: 5.0670\n",
      "Coeficientes:\n",
      "  Beta_0 (intercepto): 12.3514\n",
      "  Beta_1 (Newspaper): 0.0547\n",
      "\n",
      "Modelo con variables: ('TV', 'Radio')\n",
      "R2: 0.8972 | R2 ajustado: 0.8962 | MSE: 2.7846 | RMSE: 1.6687\n",
      "Coeficientes:\n",
      "  Beta_0 (intercepto): 2.9211\n",
      "  Beta_1 (TV): 0.0458\n",
      "  Beta_2 (Radio): 0.1880\n",
      "\n",
      "Modelo con variables: ('TV', 'Newspaper')\n",
      "R2: 0.6458 | R2 ajustado: 0.6422 | MSE: 9.5928 | RMSE: 3.0972\n",
      "Coeficientes:\n",
      "  Beta_0 (intercepto): 5.7749\n",
      "  Beta_1 (TV): 0.0469\n",
      "  Beta_2 (Newspaper): 0.0442\n",
      "\n",
      "Modelo con variables: ('Radio', 'Newspaper')\n",
      "R2: 0.3327 | R2 ajustado: 0.3259 | MSE: 18.0742 | RMSE: 4.2514\n",
      "Coeficientes:\n",
      "  Beta_0 (intercepto): 9.1889\n",
      "  Beta_1 (Radio): 0.1990\n",
      "  Beta_2 (Newspaper): 0.0066\n",
      "\n",
      "Modelo con variables: ('TV', 'Radio', 'Newspaper')\n",
      "R2: 0.8972 | R2 ajustado: 0.8956 | MSE: 2.7841 | RMSE: 1.6686\n",
      "Coeficientes:\n",
      "  Beta_0 (intercepto): 2.9389\n",
      "  Beta_1 (TV): 0.0458\n",
      "  Beta_2 (Radio): 0.1885\n",
      "  Beta_3 (Newspaper): -0.0010\n"
     ]
    }
   ],
   "source": [
    "# Carga de datos\n",
    "filename = \"advertising/advertising.csv\"\n",
    "fullpath = os.path.join(mainpath, filename)\n",
    "\n",
    "df_advertising = pd.read_csv(fullpath)\n",
    "display(df_advertising.head())\n",
    "\n",
    "# Variables predictoras y objetivo\n",
    "predictors = ['TV', 'Radio', 'Newspaper']\n",
    "y = df_advertising['Sales']\n",
    "\n",
    "# Loop sobre combinaciones de 1 a 3 predictores\n",
    "for k in range(1, len(predictors)+1):\n",
    "    for combo in combinations(predictors, k):\n",
    "        X = df_advertising[list(combo)]\n",
    "\n",
    "        # Modelado\n",
    "        model_lm = LinearRegression(fit_intercept=True)\n",
    "        model_lm.fit(X, y)\n",
    "        y_pred = model_lm.predict(X)\n",
    "\n",
    "        # Métricas\n",
    "        r2 = r2_score(y, y_pred)\n",
    "        n = X.shape[0]  # número de observaciones\n",
    "        p = X.shape[1]  # número de predictores\n",
    "        r2_adj = 1 - (1 - r2) * (n - 1) / (n - p - 1)\n",
    "        mse = mean_squared_error(y, y_pred)\n",
    "        rmse = np.sqrt(mse)\n",
    "\n",
    "        # Resultados\n",
    "        print(f\"\\nModelo con variables: {combo}\")\n",
    "        print(f\"R2: {r2:.4f} | R2 ajustado: {r2_adj:.4f} | MSE: {mse:.4f} | RMSE: {rmse:.4f}\")\n",
    "        print(\"Coeficientes:\")\n",
    "        print(f\"  Beta_0 (intercepto): {model_lm.intercept_:.4f}\")\n",
    "        for i, var in enumerate(combo):\n",
    "            print(f\"  Beta_{i+1} ({var}): {model_lm.coef_[i]:.4f}\")"
   ]
  },
  {
   "cell_type": "markdown",
   "metadata": {},
   "source": [
    "Entonces, de todas las combinaciones de todos los modelos, la combinación que resulta con una mejor métrica de $R^2=$0.8962 ajustado es aquella que incluye `TV` y `Radio`. Esta métrica, de hecho, no es muy diferente a aquella de $R^2=$0.8956, que incluye las tres variables.\n",
    "\n",
    "## ⚠️ Mito: \"Más variables siempre mejoran el modelo\"\n",
    "\n",
    "Es común pensar que incluir más variables predictoras en un modelo de regresión siempre resultará en un mejor desempeño. Sin embargo, esto es un **mito estadístico**. Aunque el coeficiente $R^2$ tiende a aumentar al añadir más variables (incluso irrelevantes), esto no significa que el modelo sea realmente mejor. Incluir variables innecesarias puede llevar a **sobreajuste**, dificultar la interpretación del modelo, aumentar la **colinealidad** y disminuir la **capacidad de generalización** a nuevos datos. Por eso se utiliza el **$R^2$ ajustado**, que penaliza el número de variables y permite identificar cuándo una nueva variable realmente aporta valor. Un buen modelo no es el que más variables incluye, sino el que logra **equilibrar simplicidad, interpretabilidad y rendimiento predictivo**. Como comparación, vamos a ver como sale el summary del modelo de tres variables predictivas con `statsmodels`.\n"
   ]
  },
  {
   "cell_type": "code",
   "execution_count": 54,
   "metadata": {},
   "outputs": [
    {
     "data": {
      "text/html": [
       "<table class=\"simpletable\">\n",
       "<caption>OLS Regression Results</caption>\n",
       "<tr>\n",
       "  <th>Dep. Variable:</th>          <td>Sales</td>      <th>  R-squared:         </th> <td>   0.897</td>\n",
       "</tr>\n",
       "<tr>\n",
       "  <th>Model:</th>                   <td>OLS</td>       <th>  Adj. R-squared:    </th> <td>   0.896</td>\n",
       "</tr>\n",
       "<tr>\n",
       "  <th>Method:</th>             <td>Least Squares</td>  <th>  F-statistic:       </th> <td>   570.3</td>\n",
       "</tr>\n",
       "<tr>\n",
       "  <th>Date:</th>             <td>Sun, 27 Jul 2025</td> <th>  Prob (F-statistic):</th> <td>1.58e-96</td>\n",
       "</tr>\n",
       "<tr>\n",
       "  <th>Time:</th>                 <td>23:36:06</td>     <th>  Log-Likelihood:    </th> <td> -386.18</td>\n",
       "</tr>\n",
       "<tr>\n",
       "  <th>No. Observations:</th>      <td>   200</td>      <th>  AIC:               </th> <td>   780.4</td>\n",
       "</tr>\n",
       "<tr>\n",
       "  <th>Df Residuals:</th>          <td>   196</td>      <th>  BIC:               </th> <td>   793.6</td>\n",
       "</tr>\n",
       "<tr>\n",
       "  <th>Df Model:</th>              <td>     3</td>      <th>                     </th>     <td> </td>   \n",
       "</tr>\n",
       "<tr>\n",
       "  <th>Covariance Type:</th>      <td>nonrobust</td>    <th>                     </th>     <td> </td>   \n",
       "</tr>\n",
       "</table>\n",
       "<table class=\"simpletable\">\n",
       "<tr>\n",
       "      <td></td>         <th>coef</th>     <th>std err</th>      <th>t</th>      <th>P>|t|</th>  <th>[0.025</th>    <th>0.975]</th>  \n",
       "</tr>\n",
       "<tr>\n",
       "  <th>Intercept</th> <td>    2.9389</td> <td>    0.312</td> <td>    9.422</td> <td> 0.000</td> <td>    2.324</td> <td>    3.554</td>\n",
       "</tr>\n",
       "<tr>\n",
       "  <th>TV</th>        <td>    0.0458</td> <td>    0.001</td> <td>   32.809</td> <td> 0.000</td> <td>    0.043</td> <td>    0.049</td>\n",
       "</tr>\n",
       "<tr>\n",
       "  <th>Newspaper</th> <td>   -0.0010</td> <td>    0.006</td> <td>   -0.177</td> <td> 0.860</td> <td>   -0.013</td> <td>    0.011</td>\n",
       "</tr>\n",
       "<tr>\n",
       "  <th>Radio</th>     <td>    0.1885</td> <td>    0.009</td> <td>   21.893</td> <td> 0.000</td> <td>    0.172</td> <td>    0.206</td>\n",
       "</tr>\n",
       "</table>\n",
       "<table class=\"simpletable\">\n",
       "<tr>\n",
       "  <th>Omnibus:</th>       <td>60.414</td> <th>  Durbin-Watson:     </th> <td>   2.084</td>\n",
       "</tr>\n",
       "<tr>\n",
       "  <th>Prob(Omnibus):</th> <td> 0.000</td> <th>  Jarque-Bera (JB):  </th> <td> 151.241</td>\n",
       "</tr>\n",
       "<tr>\n",
       "  <th>Skew:</th>          <td>-1.327</td> <th>  Prob(JB):          </th> <td>1.44e-33</td>\n",
       "</tr>\n",
       "<tr>\n",
       "  <th>Kurtosis:</th>      <td> 6.332</td> <th>  Cond. No.          </th> <td>    454.</td>\n",
       "</tr>\n",
       "</table><br/><br/>Notes:<br/>[1] Standard Errors assume that the covariance matrix of the errors is correctly specified."
      ],
      "text/latex": [
       "\\begin{center}\n",
       "\\begin{tabular}{lclc}\n",
       "\\toprule\n",
       "\\textbf{Dep. Variable:}    &      Sales       & \\textbf{  R-squared:         } &     0.897   \\\\\n",
       "\\textbf{Model:}            &       OLS        & \\textbf{  Adj. R-squared:    } &     0.896   \\\\\n",
       "\\textbf{Method:}           &  Least Squares   & \\textbf{  F-statistic:       } &     570.3   \\\\\n",
       "\\textbf{Date:}             & Sun, 27 Jul 2025 & \\textbf{  Prob (F-statistic):} &  1.58e-96   \\\\\n",
       "\\textbf{Time:}             &     23:36:06     & \\textbf{  Log-Likelihood:    } &   -386.18   \\\\\n",
       "\\textbf{No. Observations:} &         200      & \\textbf{  AIC:               } &     780.4   \\\\\n",
       "\\textbf{Df Residuals:}     &         196      & \\textbf{  BIC:               } &     793.6   \\\\\n",
       "\\textbf{Df Model:}         &           3      & \\textbf{                     } &             \\\\\n",
       "\\textbf{Covariance Type:}  &    nonrobust     & \\textbf{                     } &             \\\\\n",
       "\\bottomrule\n",
       "\\end{tabular}\n",
       "\\begin{tabular}{lcccccc}\n",
       "                   & \\textbf{coef} & \\textbf{std err} & \\textbf{t} & \\textbf{P$> |$t$|$} & \\textbf{[0.025} & \\textbf{0.975]}  \\\\\n",
       "\\midrule\n",
       "\\textbf{Intercept} &       2.9389  &        0.312     &     9.422  &         0.000        &        2.324    &        3.554     \\\\\n",
       "\\textbf{TV}        &       0.0458  &        0.001     &    32.809  &         0.000        &        0.043    &        0.049     \\\\\n",
       "\\textbf{Newspaper} &      -0.0010  &        0.006     &    -0.177  &         0.860        &       -0.013    &        0.011     \\\\\n",
       "\\textbf{Radio}     &       0.1885  &        0.009     &    21.893  &         0.000        &        0.172    &        0.206     \\\\\n",
       "\\bottomrule\n",
       "\\end{tabular}\n",
       "\\begin{tabular}{lclc}\n",
       "\\textbf{Omnibus:}       & 60.414 & \\textbf{  Durbin-Watson:     } &    2.084  \\\\\n",
       "\\textbf{Prob(Omnibus):} &  0.000 & \\textbf{  Jarque-Bera (JB):  } &  151.241  \\\\\n",
       "\\textbf{Skew:}          & -1.327 & \\textbf{  Prob(JB):          } & 1.44e-33  \\\\\n",
       "\\textbf{Kurtosis:}      &  6.332 & \\textbf{  Cond. No.          } &     454.  \\\\\n",
       "\\bottomrule\n",
       "\\end{tabular}\n",
       "%\\caption{OLS Regression Results}\n",
       "\\end{center}\n",
       "\n",
       "Notes: \\newline\n",
       " [1] Standard Errors assume that the covariance matrix of the errors is correctly specified."
      ],
      "text/plain": [
       "<class 'statsmodels.iolib.summary.Summary'>\n",
       "\"\"\"\n",
       "                            OLS Regression Results                            \n",
       "==============================================================================\n",
       "Dep. Variable:                  Sales   R-squared:                       0.897\n",
       "Model:                            OLS   Adj. R-squared:                  0.896\n",
       "Method:                 Least Squares   F-statistic:                     570.3\n",
       "Date:                Sun, 27 Jul 2025   Prob (F-statistic):           1.58e-96\n",
       "Time:                        23:36:06   Log-Likelihood:                -386.18\n",
       "No. Observations:                 200   AIC:                             780.4\n",
       "Df Residuals:                     196   BIC:                             793.6\n",
       "Df Model:                           3                                         \n",
       "Covariance Type:            nonrobust                                         \n",
       "==============================================================================\n",
       "                 coef    std err          t      P>|t|      [0.025      0.975]\n",
       "------------------------------------------------------------------------------\n",
       "Intercept      2.9389      0.312      9.422      0.000       2.324       3.554\n",
       "TV             0.0458      0.001     32.809      0.000       0.043       0.049\n",
       "Newspaper     -0.0010      0.006     -0.177      0.860      -0.013       0.011\n",
       "Radio          0.1885      0.009     21.893      0.000       0.172       0.206\n",
       "==============================================================================\n",
       "Omnibus:                       60.414   Durbin-Watson:                   2.084\n",
       "Prob(Omnibus):                  0.000   Jarque-Bera (JB):              151.241\n",
       "Skew:                          -1.327   Prob(JB):                     1.44e-33\n",
       "Kurtosis:                       6.332   Cond. No.                         454.\n",
       "==============================================================================\n",
       "\n",
       "Notes:\n",
       "[1] Standard Errors assume that the covariance matrix of the errors is correctly specified.\n",
       "\"\"\""
      ]
     },
     "execution_count": 54,
     "metadata": {},
     "output_type": "execute_result"
    }
   ],
   "source": [
    "lm = smf.ols(formula=\"Sales~TV+Newspaper+Radio\", data=df_advertising).fit()\n",
    "lm.summary()"
   ]
  },
  {
   "cell_type": "markdown",
   "metadata": {},
   "source": [
    "Si nos fijamos muy bien en el summary del modelo, podemos ver que los parámetros de ajuste, así como las métricas son básicamente las mismas. Sin embargo, una característica importante aquí son las pruebas de hipótesis que se aplica a cada factor $\\beta_i$. Por ejemplo, aquí observamos que el parámetro $\\beta$ asociado d la variable `Newspaper` tiene un p-valor de. 0.86, muy por encima de un nivel de significancia de 0.05, lo que significa que no hay razón estadística para decir que este factor es diferente de cero, algo que no queremos de un factor $\\beta$. Sólo es un recordatorio que una métrica por sí sola, no es suficiente para evaluar el rendimiento de un modelo, sino que se tienen que usar diferentes puntos de vista."
   ]
  },
  {
   "cell_type": "markdown",
   "metadata": {},
   "source": [
    "## Multicolinealidad\n",
    "Se hacen correlaciones entre variables predictoras del modelo. Aunque no lo queramos el periodico esta relacionado con la radio, e incrementan la variabilidad del coeficiente estimado para la variable predictora. Una interactúa negativamente con la otra. Vemos cual de las dos conviene mas incluir, pero no las dos. Es útil ver como afectan el modelo.\n",
    "\n",
    "## Factor de inflacion de la varianza\n",
    "Es una prueba para detectar la multicolinealidad a través de un estadístico. Cuantifica la aparacion de la variabilidad en un coeficiente estimado debida a la alta correlacion entre las variables predictoras. Lo mejor que puede pasar que que VIF = 1, en este caso las variables no tienen nada de correlacion,1-5 correlacion moderada pero pueden formar parte del modelo, >5 necesitan ser eliminadas del modelo."
   ]
  },
  {
   "cell_type": "code",
   "execution_count": 55,
   "metadata": {},
   "outputs": [
    {
     "data": {
      "text/plain": [
       "np.float64(1.1451873787239288)"
      ]
     },
     "execution_count": 55,
     "metadata": {},
     "output_type": "execute_result"
    }
   ],
   "source": [
    "# Periodico - TV + Radio nos da problema \n",
    "# Sacamos R2 , y lugo VIF = 1/(1-R^2)\n",
    "\n",
    "lm_n = smf.ols(formula=\"Newspaper~TV+Radio\",data=df_advertising).fit()\n",
    "\n",
    "rsquared_n = lm_n.rsquared\n",
    "VIF = 1 / (1-rsquared_n)\n",
    "VIF"
   ]
  },
  {
   "cell_type": "code",
   "execution_count": 56,
   "metadata": {},
   "outputs": [
    {
     "data": {
      "text/plain": [
       "np.float64(1.00461078493965)"
      ]
     },
     "execution_count": 56,
     "metadata": {},
     "output_type": "execute_result"
    }
   ],
   "source": [
    "# TV - Periodico + Radio nos da problema \n",
    "\n",
    "lm_tv = smf.ols(formula=\"TV~Newspaper+Radio\",data=df_advertising).fit()\n",
    "\n",
    "rsquared_tv = lm_tv.rsquared\n",
    "VIF = 1 / (1-rsquared_tv)\n",
    "VIF\n",
    "\n",
    "#vemos que la tele no esta correlacionada con nadie mas"
   ]
  },
  {
   "cell_type": "code",
   "execution_count": 57,
   "metadata": {},
   "outputs": [
    {
     "data": {
      "text/plain": [
       "np.float64(1.1449519171055353)"
      ]
     },
     "execution_count": 57,
     "metadata": {},
     "output_type": "execute_result"
    }
   ],
   "source": [
    "# Radio - TV + Periodico nos da problema \n",
    "\n",
    "lm_r = smf.ols(formula=\"Radio~TV+Newspaper\",data=df_advertising).fit()\n",
    "\n",
    "rsquared_r = lm_r.rsquared\n",
    "VIF = 1 / (1-rsquared_r)\n",
    "VIF"
   ]
  },
  {
   "cell_type": "markdown",
   "metadata": {},
   "source": [
    "La radio y el periodico tienen el casi el mismo VIF, y podemos decir que estan correlacionadas la una con la otra, pero no con la tele. Es de suponer que el indice VIF es más grande para estas dos variables. Decidimos quedarnos con la radio porque nos da una mejor predicción."
   ]
  },
  {
   "cell_type": "markdown",
   "metadata": {},
   "source": [
    "## Resumen del aprendizaje\n",
    "\n",
    "- Comprendimos la estructura y el propósito de un modelo de regresión lineal.\n",
    "- Calculamos manualmente los coeficientes óptimos, residuos y métricas de evaluación.\n",
    "- Aprendimos a utilizar `scikit-learn` para tareas de predicción rápida y `statsmodels` para análisis estadístico detallado.\n",
    "- Implementamos regresiones simples y múltiples, evaluando el impacto de distintas combinaciones de variables.\n",
    "- Reforzamos la importancia del análisis de residuos, el uso de $R^2$ ajustado, y el cuidado al incluir múltiples predictores.\n",
    "- Concluimos que un buen modelo no es necesariamente el más complejo, sino el que logra equilibrio entre **precisión, parsimonia e interpretabilidad**.\n",
    "\n",
    "\n",
    "## Conclusión\n",
    "\n",
    "A lo largo de este notebook, exploramos de manera progresiva los conceptos fundamentales de la **regresión lineal**, tanto en su forma simple como múltiple. Comenzamos generando un modelo con una sola variable predictora para comprender a detalle cómo se calculan manualmente los coeficientes, los residuos, el $R^2$, y el error estándar de los residuos. Posteriormente, utilizamos herramientas como `scikit-learn` y `statsmodels` para ajustar modelos de manera automatizada, comparando sus enfoques predictivo e inferencial. Finalmente, ampliamos el análisis al caso de regresión lineal múltiple, evaluando cómo el número y tipo de variables influyen en el ajuste del modelo y por qué incluir más variables no siempre es mejor. Esta experiencia práctica sienta las bases para abordar modelos más complejos, siempre con una comprensión crítica de su comportamiento, sus supuestos y sus implicaciones.\n",
    "\n",
    "\n"
   ]
  },
  {
   "cell_type": "code",
   "execution_count": null,
   "metadata": {},
   "outputs": [],
   "source": []
  }
 ],
 "metadata": {
  "kernelspec": {
   "display_name": "Python 3 (ipykernel)",
   "language": "python",
   "name": "python3"
  },
  "language_info": {
   "codemirror_mode": {
    "name": "ipython",
    "version": 3
   },
   "file_extension": ".py",
   "mimetype": "text/x-python",
   "name": "python",
   "nbconvert_exporter": "python",
   "pygments_lexer": "ipython3",
   "version": "3.10.16"
  }
 },
 "nbformat": 4,
 "nbformat_minor": 4
}
