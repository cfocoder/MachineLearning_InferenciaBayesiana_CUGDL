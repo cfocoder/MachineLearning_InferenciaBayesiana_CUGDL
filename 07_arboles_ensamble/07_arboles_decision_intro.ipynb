{
 "cells": [
  {
   "cell_type": "markdown",
   "id": "cc40761f-5e92-4206-bb98-96f23f9037b8",
   "metadata": {},
   "source": [
    "<center> <span style=\"color:indigo\">Machine Learning e Inferencia Bayesiana</span> </center> \n",
    "\n",
    "<div style=\"text-align: center;\">\n",
    "<img src=\"../Imagenes/CUGDL_logo.png\" alt=\"Drawing\" style=\"width: 800px;\"/>\n",
    "</div>\n",
    "\n",
    "<center> <span style=\"color:DarkBlue\">  Tema 7. Árboles de Decisión: Introducción </span>  </center>\n",
    "<center> <span style=\"color:Blue\"> Profesor: M. en C. Iván A. Toledano Juárez </span>  </center>"
   ]
  },
  {
   "cell_type": "code",
   "execution_count": 1,
   "id": "301b4493",
   "metadata": {},
   "outputs": [],
   "source": [
    "import numpy as np\n",
    "import matplotlib.pyplot as plt\n",
    "import pandas as pd\n",
    "import os\n",
    "\n",
    "%matplotlib inline"
   ]
  },
  {
   "cell_type": "code",
   "execution_count": 9,
   "id": "d19b26b8",
   "metadata": {},
   "outputs": [
    {
     "data": {
      "text/html": [
       "<div>\n",
       "<style scoped>\n",
       "    .dataframe tbody tr th:only-of-type {\n",
       "        vertical-align: middle;\n",
       "    }\n",
       "\n",
       "    .dataframe tbody tr th {\n",
       "        vertical-align: top;\n",
       "    }\n",
       "\n",
       "    .dataframe thead th {\n",
       "        text-align: right;\n",
       "    }\n",
       "</style>\n",
       "<table border=\"1\" class=\"dataframe\">\n",
       "  <thead>\n",
       "    <tr style=\"text-align: right;\">\n",
       "      <th></th>\n",
       "      <th>Lugar</th>\n",
       "      <th>Lluvia</th>\n",
       "      <th>Terreno</th>\n",
       "      <th>Fertilizantes</th>\n",
       "      <th>Agua_subterranea</th>\n",
       "      <th>Cosecha</th>\n",
       "    </tr>\n",
       "  </thead>\n",
       "  <tbody>\n",
       "    <tr>\n",
       "      <th>0</th>\n",
       "      <td>P1</td>\n",
       "      <td>Altas</td>\n",
       "      <td>Llanura</td>\n",
       "      <td>Si</td>\n",
       "      <td>Si</td>\n",
       "      <td>Optima</td>\n",
       "    </tr>\n",
       "    <tr>\n",
       "      <th>1</th>\n",
       "      <td>P2</td>\n",
       "      <td>Bajas</td>\n",
       "      <td>Colinas</td>\n",
       "      <td>No</td>\n",
       "      <td>Si</td>\n",
       "      <td>Pobre</td>\n",
       "    </tr>\n",
       "    <tr>\n",
       "      <th>2</th>\n",
       "      <td>P3</td>\n",
       "      <td>Bajas</td>\n",
       "      <td>Meseta</td>\n",
       "      <td>No</td>\n",
       "      <td>Si</td>\n",
       "      <td>Moderada</td>\n",
       "    </tr>\n",
       "    <tr>\n",
       "      <th>3</th>\n",
       "      <td>P4</td>\n",
       "      <td>Altas</td>\n",
       "      <td>Meseta</td>\n",
       "      <td>No</td>\n",
       "      <td>Si</td>\n",
       "      <td>Moderada</td>\n",
       "    </tr>\n",
       "    <tr>\n",
       "      <th>4</th>\n",
       "      <td>P5</td>\n",
       "      <td>Altas</td>\n",
       "      <td>Llanura</td>\n",
       "      <td>Si</td>\n",
       "      <td>No</td>\n",
       "      <td>Optima</td>\n",
       "    </tr>\n",
       "    <tr>\n",
       "      <th>5</th>\n",
       "      <td>P6</td>\n",
       "      <td>Bajas</td>\n",
       "      <td>Colinas</td>\n",
       "      <td>No</td>\n",
       "      <td>No</td>\n",
       "      <td>Pobre</td>\n",
       "    </tr>\n",
       "    <tr>\n",
       "      <th>6</th>\n",
       "      <td>P7</td>\n",
       "      <td>Bajas</td>\n",
       "      <td>Meseta</td>\n",
       "      <td>No</td>\n",
       "      <td>No</td>\n",
       "      <td>Pobre</td>\n",
       "    </tr>\n",
       "    <tr>\n",
       "      <th>7</th>\n",
       "      <td>P8</td>\n",
       "      <td>Medias</td>\n",
       "      <td>Meseta</td>\n",
       "      <td>No</td>\n",
       "      <td>No</td>\n",
       "      <td>Pobre</td>\n",
       "    </tr>\n",
       "    <tr>\n",
       "      <th>8</th>\n",
       "      <td>P9</td>\n",
       "      <td>Altas</td>\n",
       "      <td>Colinas</td>\n",
       "      <td>Si</td>\n",
       "      <td>Si</td>\n",
       "      <td>Moderada</td>\n",
       "    </tr>\n",
       "    <tr>\n",
       "      <th>9</th>\n",
       "      <td>P10</td>\n",
       "      <td>Medias</td>\n",
       "      <td>Meseta</td>\n",
       "      <td>Si</td>\n",
       "      <td>Si</td>\n",
       "      <td>Optima</td>\n",
       "    </tr>\n",
       "    <tr>\n",
       "      <th>10</th>\n",
       "      <td>P11</td>\n",
       "      <td>Altas</td>\n",
       "      <td>Meseta</td>\n",
       "      <td>Si</td>\n",
       "      <td>No</td>\n",
       "      <td>Optima</td>\n",
       "    </tr>\n",
       "    <tr>\n",
       "      <th>11</th>\n",
       "      <td>P12</td>\n",
       "      <td>Medias</td>\n",
       "      <td>Meseta</td>\n",
       "      <td>Si</td>\n",
       "      <td>No</td>\n",
       "      <td>Moderada</td>\n",
       "    </tr>\n",
       "    <tr>\n",
       "      <th>12</th>\n",
       "      <td>P13</td>\n",
       "      <td>Altas</td>\n",
       "      <td>Colinas</td>\n",
       "      <td>Si</td>\n",
       "      <td>No</td>\n",
       "      <td>Moderada</td>\n",
       "    </tr>\n",
       "    <tr>\n",
       "      <th>13</th>\n",
       "      <td>P14</td>\n",
       "      <td>Bajas</td>\n",
       "      <td>Llanura</td>\n",
       "      <td>Si</td>\n",
       "      <td>Si</td>\n",
       "      <td>Moderada</td>\n",
       "    </tr>\n",
       "    <tr>\n",
       "      <th>14</th>\n",
       "      <td>P15</td>\n",
       "      <td>Medias</td>\n",
       "      <td>Llanura</td>\n",
       "      <td>Si</td>\n",
       "      <td>No</td>\n",
       "      <td>Moderada</td>\n",
       "    </tr>\n",
       "    <tr>\n",
       "      <th>15</th>\n",
       "      <td>P16</td>\n",
       "      <td>Bajas</td>\n",
       "      <td>Llanura</td>\n",
       "      <td>No</td>\n",
       "      <td>No</td>\n",
       "      <td>Pobre</td>\n",
       "    </tr>\n",
       "    <tr>\n",
       "      <th>16</th>\n",
       "      <td>P17</td>\n",
       "      <td>Bajas</td>\n",
       "      <td>Colinas</td>\n",
       "      <td>Si</td>\n",
       "      <td>No</td>\n",
       "      <td>Pobre</td>\n",
       "    </tr>\n",
       "    <tr>\n",
       "      <th>17</th>\n",
       "      <td>P18</td>\n",
       "      <td>Medias</td>\n",
       "      <td>Meseta</td>\n",
       "      <td>No</td>\n",
       "      <td>No</td>\n",
       "      <td>Pobre</td>\n",
       "    </tr>\n",
       "    <tr>\n",
       "      <th>18</th>\n",
       "      <td>P19</td>\n",
       "      <td>Altas</td>\n",
       "      <td>Llanura</td>\n",
       "      <td>No</td>\n",
       "      <td>Si</td>\n",
       "      <td>Moderada</td>\n",
       "    </tr>\n",
       "    <tr>\n",
       "      <th>19</th>\n",
       "      <td>P20</td>\n",
       "      <td>Medias</td>\n",
       "      <td>Colinas</td>\n",
       "      <td>Si</td>\n",
       "      <td>Si</td>\n",
       "      <td>Moderada</td>\n",
       "    </tr>\n",
       "  </tbody>\n",
       "</table>\n",
       "</div>"
      ],
      "text/plain": [
       "   Lugar  Lluvia  Terreno Fertilizantes Agua_subterranea   Cosecha\n",
       "0     P1   Altas  Llanura            Si               Si    Optima\n",
       "1     P2   Bajas  Colinas            No               Si     Pobre\n",
       "2     P3   Bajas   Meseta            No               Si  Moderada\n",
       "3     P4   Altas   Meseta            No               Si  Moderada\n",
       "4     P5   Altas  Llanura            Si               No    Optima\n",
       "5     P6   Bajas  Colinas            No               No     Pobre\n",
       "6     P7   Bajas   Meseta            No               No     Pobre\n",
       "7     P8  Medias   Meseta            No               No     Pobre\n",
       "8     P9   Altas  Colinas            Si               Si  Moderada\n",
       "9    P10  Medias   Meseta            Si               Si    Optima\n",
       "10   P11   Altas   Meseta            Si               No    Optima\n",
       "11   P12  Medias   Meseta            Si               No  Moderada\n",
       "12   P13   Altas  Colinas            Si               No  Moderada\n",
       "13   P14   Bajas  Llanura            Si               Si  Moderada\n",
       "14   P15  Medias  Llanura            Si               No  Moderada\n",
       "15   P16   Bajas  Llanura            No               No     Pobre\n",
       "16   P17   Bajas  Colinas            Si               No     Pobre\n",
       "17   P18  Medias   Meseta            No               No     Pobre\n",
       "18   P19   Altas  Llanura            No               Si  Moderada\n",
       "19   P20  Medias  Colinas            Si               Si  Moderada"
      ]
     },
     "execution_count": 9,
     "metadata": {},
     "output_type": "execute_result"
    }
   ],
   "source": [
    "data = pd.read_csv('Datasets/Cosecha.csv')\n",
    "data"
   ]
  },
  {
   "cell_type": "code",
   "execution_count": 19,
   "id": "7ae0b23d",
   "metadata": {},
   "outputs": [
    {
     "data": {
      "image/png": "[encoded data removed]",
      "text/plain": [
       "<Figure size 432x288 with 1 Axes>"
      ]
     },
     "metadata": {
      "needs_background": "light"
     },
     "output_type": "display_data"
    }
   ],
   "source": [
    "data_cosecha = data['Cosecha'].value_counts().to_frame()\n",
    "data_cosecha['Cosecha'].plot(kind='bar')\n",
    "\n",
    "plt.title('Homogeneidad')\n",
    "plt.xlabel('Categorías')\n",
    "plt.ylabel('Frecuencia')\n",
    "\n",
    "plt.savefig('Plots/Homogeneidad.pdf', bbox_inches='tight')\n",
    "plt.show()"
   ]
  },
  {
   "cell_type": "code",
   "execution_count": 39,
   "id": "1ab44fc2",
   "metadata": {},
   "outputs": [
    {
     "data": {
      "text/html": [
       "<div>\n",
       "<style scoped>\n",
       "    .dataframe tbody tr th:only-of-type {\n",
       "        vertical-align: middle;\n",
       "    }\n",
       "\n",
       "    .dataframe tbody tr th {\n",
       "        vertical-align: top;\n",
       "    }\n",
       "\n",
       "    .dataframe thead th {\n",
       "        text-align: right;\n",
       "    }\n",
       "</style>\n",
       "<table border=\"1\" class=\"dataframe\">\n",
       "  <thead>\n",
       "    <tr style=\"text-align: right;\">\n",
       "      <th>Cosecha</th>\n",
       "      <th>Moderada</th>\n",
       "      <th>Optima</th>\n",
       "      <th>Pobre</th>\n",
       "    </tr>\n",
       "    <tr>\n",
       "      <th>Lluvia</th>\n",
       "      <th></th>\n",
       "      <th></th>\n",
       "      <th></th>\n",
       "    </tr>\n",
       "  </thead>\n",
       "  <tbody>\n",
       "    <tr>\n",
       "      <th>Altas</th>\n",
       "      <td>4</td>\n",
       "      <td>3</td>\n",
       "      <td>0</td>\n",
       "    </tr>\n",
       "    <tr>\n",
       "      <th>Bajas</th>\n",
       "      <td>2</td>\n",
       "      <td>0</td>\n",
       "      <td>5</td>\n",
       "    </tr>\n",
       "    <tr>\n",
       "      <th>Medias</th>\n",
       "      <td>3</td>\n",
       "      <td>1</td>\n",
       "      <td>2</td>\n",
       "    </tr>\n",
       "  </tbody>\n",
       "</table>\n",
       "</div>"
      ],
      "text/plain": [
       "Cosecha  Moderada  Optima  Pobre\n",
       "Lluvia                          \n",
       "Altas           4       3      0\n",
       "Bajas           2       0      5\n",
       "Medias          3       1      2"
      ]
     },
     "execution_count": 39,
     "metadata": {},
     "output_type": "execute_result"
    }
   ],
   "source": [
    "table_lluvia = pd.crosstab(data.Lluvia, data.Cosecha)\n",
    "table_lluvia"
   ]
  },
  {
   "cell_type": "code",
   "execution_count": 40,
   "id": "b8f45fb5",
   "metadata": {},
   "outputs": [
    {
     "data": {
      "text/html": [
       "<div>\n",
       "<style scoped>\n",
       "    .dataframe tbody tr th:only-of-type {\n",
       "        vertical-align: middle;\n",
       "    }\n",
       "\n",
       "    .dataframe tbody tr th {\n",
       "        vertical-align: top;\n",
       "    }\n",
       "\n",
       "    .dataframe thead th {\n",
       "        text-align: right;\n",
       "    }\n",
       "</style>\n",
       "<table border=\"1\" class=\"dataframe\">\n",
       "  <thead>\n",
       "    <tr style=\"text-align: right;\">\n",
       "      <th>Cosecha</th>\n",
       "      <th>Moderada</th>\n",
       "      <th>Optima</th>\n",
       "      <th>Pobre</th>\n",
       "    </tr>\n",
       "    <tr>\n",
       "      <th>Terreno</th>\n",
       "      <th></th>\n",
       "      <th></th>\n",
       "      <th></th>\n",
       "    </tr>\n",
       "  </thead>\n",
       "  <tbody>\n",
       "    <tr>\n",
       "      <th>Colinas</th>\n",
       "      <td>3</td>\n",
       "      <td>0</td>\n",
       "      <td>3</td>\n",
       "    </tr>\n",
       "    <tr>\n",
       "      <th>Llanura</th>\n",
       "      <td>3</td>\n",
       "      <td>2</td>\n",
       "      <td>1</td>\n",
       "    </tr>\n",
       "    <tr>\n",
       "      <th>Meseta</th>\n",
       "      <td>3</td>\n",
       "      <td>2</td>\n",
       "      <td>3</td>\n",
       "    </tr>\n",
       "  </tbody>\n",
       "</table>\n",
       "</div>"
      ],
      "text/plain": [
       "Cosecha  Moderada  Optima  Pobre\n",
       "Terreno                         \n",
       "Colinas         3       0      3\n",
       "Llanura         3       2      1\n",
       "Meseta          3       2      3"
      ]
     },
     "execution_count": 40,
     "metadata": {},
     "output_type": "execute_result"
    }
   ],
   "source": [
    "table_terreno = pd.crosstab(data.Terreno, data.Cosecha)\n",
    "table_terreno"
   ]
  },
  {
   "cell_type": "code",
   "execution_count": 41,
   "id": "7e16389e",
   "metadata": {},
   "outputs": [
    {
     "data": {
      "text/html": [
       "<div>\n",
       "<style scoped>\n",
       "    .dataframe tbody tr th:only-of-type {\n",
       "        vertical-align: middle;\n",
       "    }\n",
       "\n",
       "    .dataframe tbody tr th {\n",
       "        vertical-align: top;\n",
       "    }\n",
       "\n",
       "    .dataframe thead th {\n",
       "        text-align: right;\n",
       "    }\n",
       "</style>\n",
       "<table border=\"1\" class=\"dataframe\">\n",
       "  <thead>\n",
       "    <tr style=\"text-align: right;\">\n",
       "      <th>Cosecha</th>\n",
       "      <th>Moderada</th>\n",
       "      <th>Optima</th>\n",
       "      <th>Pobre</th>\n",
       "    </tr>\n",
       "    <tr>\n",
       "      <th>Fertilizantes</th>\n",
       "      <th></th>\n",
       "      <th></th>\n",
       "      <th></th>\n",
       "    </tr>\n",
       "  </thead>\n",
       "  <tbody>\n",
       "    <tr>\n",
       "      <th>No</th>\n",
       "      <td>3</td>\n",
       "      <td>0</td>\n",
       "      <td>6</td>\n",
       "    </tr>\n",
       "    <tr>\n",
       "      <th>Si</th>\n",
       "      <td>6</td>\n",
       "      <td>4</td>\n",
       "      <td>1</td>\n",
       "    </tr>\n",
       "  </tbody>\n",
       "</table>\n",
       "</div>"
      ],
      "text/plain": [
       "Cosecha        Moderada  Optima  Pobre\n",
       "Fertilizantes                         \n",
       "No                    3       0      6\n",
       "Si                    6       4      1"
      ]
     },
     "execution_count": 41,
     "metadata": {},
     "output_type": "execute_result"
    }
   ],
   "source": [
    "table_fertilizantes = pd.crosstab(data.Fertilizantes, data.Cosecha)\n",
    "table_fertilizantes"
   ]
  },
  {
   "cell_type": "code",
   "execution_count": 42,
   "id": "3a967216",
   "metadata": {},
   "outputs": [
    {
     "data": {
      "text/html": [
       "<div>\n",
       "<style scoped>\n",
       "    .dataframe tbody tr th:only-of-type {\n",
       "        vertical-align: middle;\n",
       "    }\n",
       "\n",
       "    .dataframe tbody tr th {\n",
       "        vertical-align: top;\n",
       "    }\n",
       "\n",
       "    .dataframe thead th {\n",
       "        text-align: right;\n",
       "    }\n",
       "</style>\n",
       "<table border=\"1\" class=\"dataframe\">\n",
       "  <thead>\n",
       "    <tr style=\"text-align: right;\">\n",
       "      <th>Cosecha</th>\n",
       "      <th>Moderada</th>\n",
       "      <th>Optima</th>\n",
       "      <th>Pobre</th>\n",
       "    </tr>\n",
       "    <tr>\n",
       "      <th>Agua_subterranea</th>\n",
       "      <th></th>\n",
       "      <th></th>\n",
       "      <th></th>\n",
       "    </tr>\n",
       "  </thead>\n",
       "  <tbody>\n",
       "    <tr>\n",
       "      <th>No</th>\n",
       "      <td>3</td>\n",
       "      <td>2</td>\n",
       "      <td>6</td>\n",
       "    </tr>\n",
       "    <tr>\n",
       "      <th>Si</th>\n",
       "      <td>6</td>\n",
       "      <td>2</td>\n",
       "      <td>1</td>\n",
       "    </tr>\n",
       "  </tbody>\n",
       "</table>\n",
       "</div>"
      ],
      "text/plain": [
       "Cosecha           Moderada  Optima  Pobre\n",
       "Agua_subterranea                         \n",
       "No                       3       2      6\n",
       "Si                       6       2      1"
      ]
     },
     "execution_count": 42,
     "metadata": {},
     "output_type": "execute_result"
    }
   ],
   "source": [
    "table_agua = pd.crosstab(data.Agua_subterranea, data.Cosecha)\n",
    "table_agua"
   ]
  },
  {
   "cell_type": "markdown",
   "id": "2df182d1",
   "metadata": {},
   "source": [
    "## Entropía"
   ]
  },
  {
   "cell_type": "code",
   "execution_count": 35,
   "id": "7e033982",
   "metadata": {},
   "outputs": [],
   "source": [
    "def entropy(n,pi):\n",
    "    sumatoria = 0\n",
    "    pi_list = []\n",
    "    pi_list.append(pi)\n",
    "    pi_list.append(1-pi)\n",
    "    for element in pi_list:\n",
    "        sumatoria += -element * np.log2(element)\n",
    "    return sumatoria"
   ]
  },
  {
   "cell_type": "code",
   "execution_count": 38,
   "id": "f0620fe7",
   "metadata": {},
   "outputs": [
    {
     "data": {
      "image/png": "[encoded data removed]",
      "text/plain": [
       "<Figure size 432x288 with 1 Axes>"
      ]
     },
     "metadata": {
      "needs_background": "light"
     },
     "output_type": "display_data"
    }
   ],
   "source": [
    "x = np.arange(0.01,0.99,0.02)\n",
    "plt.scatter(x,entropy(2,x))\n",
    "plt.title('Entropy')\n",
    "plt.savefig('Plots/Entropy.pdf', bbox_inches='tight')\n",
    "plt.show()"
   ]
  },
  {
   "cell_type": "code",
   "execution_count": 100,
   "id": "45f37205",
   "metadata": {},
   "outputs": [],
   "source": [
    "def H(p):\n",
    "    res = p * np.log2(p)\n",
    "    return res\n",
    "\n",
    "def entropia(table):\n",
    "    suma_total = 0\n",
    "    for index in table.index:\n",
    "        sumatoria = 0\n",
    "        for column in table.columns:\n",
    "            if table[column][index] == 0:\n",
    "                sumatoria += 0\n",
    "            else:\n",
    "                sumatoria += -H(table[column][index]/table.sum(axis=1)[index])\n",
    "        print('H(T=',index,') = ',sumatoria)\n",
    "        suma_total += (sumatoria*table.sum(axis=1)[index]/table.sum().sum())\n",
    "    print('total =',suma_total)\n",
    "    return suma_total"
   ]
  },
  {
   "cell_type": "code",
   "execution_count": 101,
   "id": "61aa9060",
   "metadata": {},
   "outputs": [
    {
     "name": "stdout",
     "output_type": "stream",
     "text": [
      "H(T= Colinas ) =  1.0\n",
      "H(T= Llanura ) =  1.4591479170272448\n",
      "H(T= Meseta ) =  1.561278124459133\n",
      "total = 1.3622556248918265\n"
     ]
    },
    {
     "data": {
      "text/plain": [
       "0.1377443751081735"
      ]
     },
     "execution_count": 101,
     "metadata": {},
     "output_type": "execute_result"
    }
   ],
   "source": [
    "1.5 - entropia(table_terreno)"
   ]
  },
  {
   "cell_type": "code",
   "execution_count": 103,
   "id": "d1a4f04c",
   "metadata": {},
   "outputs": [
    {
     "name": "stdout",
     "output_type": "stream",
     "text": [
      "H(T= No ) =  1.4353713907745331\n",
      "H(T= Si ) =  1.224394445405986\n",
      "total = 1.340431765358687\n"
     ]
    },
    {
     "data": {
      "text/plain": [
       "0.15956823464131298"
      ]
     },
     "execution_count": 103,
     "metadata": {},
     "output_type": "execute_result"
    }
   ],
   "source": [
    "1.5 - entropia(table_agua)"
   ]
  },
  {
   "cell_type": "code",
   "execution_count": 104,
   "id": "58491168",
   "metadata": {},
   "outputs": [
    {
     "name": "stdout",
     "output_type": "stream",
     "text": [
      "H(T= No ) =  0.9182958340544896\n",
      "H(T= Si ) =  1.3221793455166666\n",
      "total = 1.140431765358687\n"
     ]
    },
    {
     "data": {
      "text/plain": [
       "0.35956823464131293"
      ]
     },
     "execution_count": 104,
     "metadata": {},
     "output_type": "execute_result"
    }
   ],
   "source": [
    "1.5 - entropia(table_fertilizantes)"
   ]
  },
  {
   "cell_type": "code",
   "execution_count": 105,
   "id": "7d5ab420",
   "metadata": {},
   "outputs": [
    {
     "name": "stdout",
     "output_type": "stream",
     "text": [
      "H(T= Altas ) =  0.9852281360342515\n",
      "H(T= Bajas ) =  0.863120568566631\n",
      "H(T= Medias ) =  1.4591479170272446\n",
      "total = 1.0846664217184823\n"
     ]
    },
    {
     "data": {
      "text/plain": [
       "0.41533357828151773"
      ]
     },
     "execution_count": 105,
     "metadata": {},
     "output_type": "execute_result"
    }
   ],
   "source": [
    "1.5 - entropia(table_lluvia)"
   ]
  },
  {
   "cell_type": "code",
   "execution_count": null,
   "id": "34db51b2",
   "metadata": {},
   "outputs": [],
   "source": []
  }
 ],
 "metadata": {
  "kernelspec": {
   "display_name": "Python 3 (ipykernel)",
   "language": "python",
   "name": "python3"
  },
  "language_info": {
   "codemirror_mode": {
    "name": "ipython",
    "version": 3
   },
   "file_extension": ".py",
   "mimetype": "text/x-python",
   "name": "python",
   "nbconvert_exporter": "python",
   "pygments_lexer": "ipython3",
   "version": "3.10.16"
  }
 },
 "nbformat": 4,
 "nbformat_minor": 5
}
