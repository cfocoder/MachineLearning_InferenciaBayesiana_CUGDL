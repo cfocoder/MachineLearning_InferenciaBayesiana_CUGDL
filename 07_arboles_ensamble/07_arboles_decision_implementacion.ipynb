{
 "cells": [
  {
   "cell_type": "markdown",
   "id": "bc14e50f-86d6-4fa0-981d-81f7602d01a4",
   "metadata": {},
   "source": [
    "<center> <span style=\"color:indigo\">Machine Learning e Inferencia Bayesiana</span> </center> \n",
    "\n",
    "<div style=\"text-align: center;\">\n",
    "<img src=\"../Imagenes/CUGDL_logo.png\" alt=\"Drawing\" style=\"width: 800px;\"/>\n",
    "</div>\n",
    "\n",
    "<center> <span style=\"color:DarkBlue\">  Tema 7. Árboles de Decisión: Implementación</span>  </center>\n",
    "<center> <span style=\"color:Blue\"> Profesor: M. en C. Iván A. Toledano Juárez </span>  </center>\n",
    "\n",
    "## Árboles de decisión para clasificación\n",
    "\n",
    "Los árboles de decisión son uno de los modelos más intuitivos y visuales en *Machine Learning*. Se construyen haciendo preguntas secuenciales sobre las características de los datos, de forma que cada división o “rama” intenta separar las clases de la mejor manera posible. Por ejemplo, al clasificar flores *Iris*, el árbol podría comenzar preguntando: **\"¿el largo del pétalo es mayor a 2.5 cm?\"**. Según la respuesta (sí o no), el árbol divide el conjunto y continúa generando nuevas preguntas en cada nodo hasta llegar a una predicción.\n",
    "\n",
    "El objetivo del árbol es construir una estructura en la que las hojas (los nodos terminales) contengan observaciones lo más puras posible, es decir, que pertenezcan en su mayoría a una sola clase. Para decidir cómo dividir los datos en cada nodo, el algoritmo evalúa medidas de **impureza** o **desorden**.\n",
    "\n",
    "### Medidas de impureza: Gini y Entropía\n",
    "\n",
    "Dos de las medidas más comunes para cuantificar la impureza en clasificación son el **índice de Gini** y la **entropía**.\n",
    "\n",
    "- **Índice de Gini**: mide la probabilidad de clasificar incorrectamente un elemento si se asigna aleatoriamente según la distribución de clases en ese nodo. Se calcula como:\n",
    "\n",
    "\\begin{equation}\n",
    "G = 1 - \\sum_{k=1}^{K} p_k^2\n",
    "\\end{equation}\n",
    "\n",
    "donde $p_k$ es la proporción de ejemplos de la clase $k$ en el nodo. Un nodo es puro cuando $G = 0$.\n",
    "\n",
    "- **Entropía**: proviene de la teoría de la información y mide el nivel de incertidumbre o aleatoriedad. Es un poco más sensible a clases menos frecuentes. Se calcula como:\n",
    "\n",
    "\\begin{equation}\n",
    "H = - \\sum_{k=1}^{K} p_k \\log_2(p_k)\n",
    "\\end{equation}\n",
    "\n",
    "En ambos casos, el valor es mínimo cuando el nodo es puro (todas las observaciones pertenecen a una sola clase) y máximo cuando las clases están balanceadas. Durante el entrenamiento, el algoritmo evalúa todas las posibles divisiones y elige aquella que **maximiza la ganancia de información** o **reduce más la impureza total**.\n",
    "\n",
    "### ¿Por qué usar árboles?\n",
    "\n",
    "Los árboles de decisión son fáciles de visualizar, interpretar y explicar. Cada predicción puede trazarse como una secuencia de reglas lógicas. Sin embargo, pueden volverse muy complejos y sobreajustarse a los datos de entrenamiento si no se regulan adecuadamente. Para evitarlo, es común limitar la **profundidad del árbol**, el **número mínimo de muestras por división**, o usar técnicas de *poda* para simplificar su estructura.\n",
    "\n",
    "En este notebook entrenaremos un árbol de decisión con el dataset *Iris*, y exploraremos cómo toma decisiones, qué tan bien generaliza y cómo visualizar su estructura de manera gráfica.\n"
   ]
  },
  {
   "cell_type": "code",
   "execution_count": 1,
   "id": "fa97edf5",
   "metadata": {},
   "outputs": [],
   "source": [
    "# Importación de librerías\n",
    "import numpy as np\n",
    "import matplotlib.pyplot as plt\n",
    "import pandas as pd\n",
    "import os\n",
    "\n",
    "from sklearn.datasets import load_iris\n",
    "from sklearn.model_selection import train_test_split\n",
    "from sklearn.tree import DecisionTreeClassifier\n",
    "from sklearn.ensemble import RandomForestClassifier\n",
    "from sklearn.tree import export_graphviz\n",
    "from sklearn.metrics import confusion_matrix, classification_report, roc_curve, accuracy_score, roc_auc_score, ConfusionMatrixDisplay, RocCurveDisplay\n",
    "from sklearn.preprocessing import label_binarize\n",
    "from sklearn.model_selection import KFold, cross_val_score\n",
    "\n",
    "# Graphviz para visualizar el árbol\n",
    "from graphviz import Source"
   ]
  },
  {
   "cell_type": "markdown",
   "id": "1f5d1246-a565-413c-8cff-5401a7409c07",
   "metadata": {},
   "source": [
    "## Carga de datos"
   ]
  },
  {
   "cell_type": "code",
   "execution_count": 2,
   "id": "af5e3f59",
   "metadata": {},
   "outputs": [
    {
     "data": {
      "text/html": [
       "<div>\n",
       "<style scoped>\n",
       "    .dataframe tbody tr th:only-of-type {\n",
       "        vertical-align: middle;\n",
       "    }\n",
       "\n",
       "    .dataframe tbody tr th {\n",
       "        vertical-align: top;\n",
       "    }\n",
       "\n",
       "    .dataframe thead th {\n",
       "        text-align: right;\n",
       "    }\n",
       "</style>\n",
       "<table border=\"1\" class=\"dataframe\">\n",
       "  <thead>\n",
       "    <tr style=\"text-align: right;\">\n",
       "      <th></th>\n",
       "      <th>sepal length (cm)</th>\n",
       "      <th>sepal width (cm)</th>\n",
       "      <th>petal length (cm)</th>\n",
       "      <th>petal width (cm)</th>\n",
       "      <th>Species</th>\n",
       "    </tr>\n",
       "  </thead>\n",
       "  <tbody>\n",
       "    <tr>\n",
       "      <th>0</th>\n",
       "      <td>5.1</td>\n",
       "      <td>3.5</td>\n",
       "      <td>1.4</td>\n",
       "      <td>0.2</td>\n",
       "      <td>setosa</td>\n",
       "    </tr>\n",
       "    <tr>\n",
       "      <th>1</th>\n",
       "      <td>4.9</td>\n",
       "      <td>3.0</td>\n",
       "      <td>1.4</td>\n",
       "      <td>0.2</td>\n",
       "      <td>setosa</td>\n",
       "    </tr>\n",
       "    <tr>\n",
       "      <th>2</th>\n",
       "      <td>4.7</td>\n",
       "      <td>3.2</td>\n",
       "      <td>1.3</td>\n",
       "      <td>0.2</td>\n",
       "      <td>setosa</td>\n",
       "    </tr>\n",
       "    <tr>\n",
       "      <th>3</th>\n",
       "      <td>4.6</td>\n",
       "      <td>3.1</td>\n",
       "      <td>1.5</td>\n",
       "      <td>0.2</td>\n",
       "      <td>setosa</td>\n",
       "    </tr>\n",
       "    <tr>\n",
       "      <th>4</th>\n",
       "      <td>5.0</td>\n",
       "      <td>3.6</td>\n",
       "      <td>1.4</td>\n",
       "      <td>0.2</td>\n",
       "      <td>setosa</td>\n",
       "    </tr>\n",
       "  </tbody>\n",
       "</table>\n",
       "</div>"
      ],
      "text/plain": [
       "   sepal length (cm)  sepal width (cm)  petal length (cm)  petal width (cm)  \\\n",
       "0                5.1               3.5                1.4               0.2   \n",
       "1                4.9               3.0                1.4               0.2   \n",
       "2                4.7               3.2                1.3               0.2   \n",
       "3                4.6               3.1                1.5               0.2   \n",
       "4                5.0               3.6                1.4               0.2   \n",
       "\n",
       "  Species  \n",
       "0  setosa  \n",
       "1  setosa  \n",
       "2  setosa  \n",
       "3  setosa  \n",
       "4  setosa  "
      ]
     },
     "execution_count": 2,
     "metadata": {},
     "output_type": "execute_result"
    }
   ],
   "source": [
    "iris = load_iris() # Cargar el dataset, iris.data = Matriz de features, iris.target = clases objetivo (numericas), iris.target_names = clases objetivo (strings)\n",
    "df_iris = pd.DataFrame(data=iris.data, columns=iris.feature_names) # Convertirlo a DataFrame\n",
    "df_iris['Species'] = iris.target # Agregar la columna de la variable objetivo\n",
    "df_iris['Species'] = df_iris['Species'].map(dict(enumerate(iris.target_names))) # Para que las clases aparezcan como texto\n",
    "df_iris.head(5)"
   ]
  },
  {
   "cell_type": "code",
   "execution_count": 3,
   "id": "a1d9313d-6794-4f3d-846d-4337fbd255bd",
   "metadata": {},
   "outputs": [
    {
     "data": {
      "text/plain": [
       "array(['setosa', 'versicolor', 'virginica'], dtype='<U10')"
      ]
     },
     "execution_count": 3,
     "metadata": {},
     "output_type": "execute_result"
    }
   ],
   "source": [
    "# La lista de targets ya está precargada en los dataset de ejemplo de scikitlearn\n",
    "iris.target_names"
   ]
  },
  {
   "cell_type": "code",
   "execution_count": 4,
   "id": "5c65c7ec",
   "metadata": {},
   "outputs": [
    {
     "data": {
      "text/plain": [
       "(150, 5)"
      ]
     },
     "execution_count": 4,
     "metadata": {},
     "output_type": "execute_result"
    }
   ],
   "source": [
    "df_iris.shape"
   ]
  },
  {
   "cell_type": "code",
   "execution_count": 5,
   "id": "80f8a2e8",
   "metadata": {},
   "outputs": [
    {
     "data": {
      "image/png": "[encoded data removed]",
      "text/plain": [
       "<Figure size 640x480 with 1 Axes>"
      ]
     },
     "metadata": {},
     "output_type": "display_data"
    }
   ],
   "source": [
    "# Tenemos los mas homogeneo posible, pues todas las clases tienen la misma estadística\n",
    "plt.hist(df_iris['Species'])\n",
    "plt.ylabel('Count')\n",
    "plt.show()"
   ]
  },
  {
   "cell_type": "code",
   "execution_count": 6,
   "id": "6d09e8cd",
   "metadata": {},
   "outputs": [],
   "source": [
    "## Variables predictoras y objetivo\n",
    "col_names = df_iris.columns.values.tolist()\n",
    "\n",
    "X = df_iris[col_names[:4]]\n",
    "y = df_iris[col_names[4]]"
   ]
  },
  {
   "cell_type": "code",
   "execution_count": 7,
   "id": "62da6185",
   "metadata": {},
   "outputs": [
    {
     "data": {
      "text/html": [
       "<div>\n",
       "<style scoped>\n",
       "    .dataframe tbody tr th:only-of-type {\n",
       "        vertical-align: middle;\n",
       "    }\n",
       "\n",
       "    .dataframe tbody tr th {\n",
       "        vertical-align: top;\n",
       "    }\n",
       "\n",
       "    .dataframe thead th {\n",
       "        text-align: right;\n",
       "    }\n",
       "</style>\n",
       "<table border=\"1\" class=\"dataframe\">\n",
       "  <thead>\n",
       "    <tr style=\"text-align: right;\">\n",
       "      <th></th>\n",
       "      <th>sepal length (cm)</th>\n",
       "      <th>sepal width (cm)</th>\n",
       "      <th>petal length (cm)</th>\n",
       "      <th>petal width (cm)</th>\n",
       "    </tr>\n",
       "  </thead>\n",
       "  <tbody>\n",
       "    <tr>\n",
       "      <th>0</th>\n",
       "      <td>5.1</td>\n",
       "      <td>3.5</td>\n",
       "      <td>1.4</td>\n",
       "      <td>0.2</td>\n",
       "    </tr>\n",
       "    <tr>\n",
       "      <th>1</th>\n",
       "      <td>4.9</td>\n",
       "      <td>3.0</td>\n",
       "      <td>1.4</td>\n",
       "      <td>0.2</td>\n",
       "    </tr>\n",
       "    <tr>\n",
       "      <th>2</th>\n",
       "      <td>4.7</td>\n",
       "      <td>3.2</td>\n",
       "      <td>1.3</td>\n",
       "      <td>0.2</td>\n",
       "    </tr>\n",
       "    <tr>\n",
       "      <th>3</th>\n",
       "      <td>4.6</td>\n",
       "      <td>3.1</td>\n",
       "      <td>1.5</td>\n",
       "      <td>0.2</td>\n",
       "    </tr>\n",
       "    <tr>\n",
       "      <th>4</th>\n",
       "      <td>5.0</td>\n",
       "      <td>3.6</td>\n",
       "      <td>1.4</td>\n",
       "      <td>0.2</td>\n",
       "    </tr>\n",
       "    <tr>\n",
       "      <th>...</th>\n",
       "      <td>...</td>\n",
       "      <td>...</td>\n",
       "      <td>...</td>\n",
       "      <td>...</td>\n",
       "    </tr>\n",
       "    <tr>\n",
       "      <th>145</th>\n",
       "      <td>6.7</td>\n",
       "      <td>3.0</td>\n",
       "      <td>5.2</td>\n",
       "      <td>2.3</td>\n",
       "    </tr>\n",
       "    <tr>\n",
       "      <th>146</th>\n",
       "      <td>6.3</td>\n",
       "      <td>2.5</td>\n",
       "      <td>5.0</td>\n",
       "      <td>1.9</td>\n",
       "    </tr>\n",
       "    <tr>\n",
       "      <th>147</th>\n",
       "      <td>6.5</td>\n",
       "      <td>3.0</td>\n",
       "      <td>5.2</td>\n",
       "      <td>2.0</td>\n",
       "    </tr>\n",
       "    <tr>\n",
       "      <th>148</th>\n",
       "      <td>6.2</td>\n",
       "      <td>3.4</td>\n",
       "      <td>5.4</td>\n",
       "      <td>2.3</td>\n",
       "    </tr>\n",
       "    <tr>\n",
       "      <th>149</th>\n",
       "      <td>5.9</td>\n",
       "      <td>3.0</td>\n",
       "      <td>5.1</td>\n",
       "      <td>1.8</td>\n",
       "    </tr>\n",
       "  </tbody>\n",
       "</table>\n",
       "<p>150 rows × 4 columns</p>\n",
       "</div>"
      ],
      "text/plain": [
       "     sepal length (cm)  sepal width (cm)  petal length (cm)  petal width (cm)\n",
       "0                  5.1               3.5                1.4               0.2\n",
       "1                  4.9               3.0                1.4               0.2\n",
       "2                  4.7               3.2                1.3               0.2\n",
       "3                  4.6               3.1                1.5               0.2\n",
       "4                  5.0               3.6                1.4               0.2\n",
       "..                 ...               ...                ...               ...\n",
       "145                6.7               3.0                5.2               2.3\n",
       "146                6.3               2.5                5.0               1.9\n",
       "147                6.5               3.0                5.2               2.0\n",
       "148                6.2               3.4                5.4               2.3\n",
       "149                5.9               3.0                5.1               1.8\n",
       "\n",
       "[150 rows x 4 columns]"
      ]
     },
     "execution_count": 7,
     "metadata": {},
     "output_type": "execute_result"
    }
   ],
   "source": [
    "X"
   ]
  },
  {
   "cell_type": "code",
   "execution_count": 8,
   "id": "d3480d98",
   "metadata": {},
   "outputs": [
    {
     "data": {
      "text/plain": [
       "0         setosa\n",
       "1         setosa\n",
       "2         setosa\n",
       "3         setosa\n",
       "4         setosa\n",
       "         ...    \n",
       "145    virginica\n",
       "146    virginica\n",
       "147    virginica\n",
       "148    virginica\n",
       "149    virginica\n",
       "Name: Species, Length: 150, dtype: object"
      ]
     },
     "execution_count": 8,
     "metadata": {},
     "output_type": "execute_result"
    }
   ],
   "source": [
    "y"
   ]
  },
  {
   "cell_type": "markdown",
   "id": "9572eea9",
   "metadata": {},
   "source": [
    "## División de conjunto de entrenamiento y validacion"
   ]
  },
  {
   "cell_type": "code",
   "execution_count": 9,
   "id": "a325f645",
   "metadata": {},
   "outputs": [],
   "source": [
    "X_train, X_test, y_train, y_test = train_test_split(X,\n",
    "                                                    y,\n",
    "                                                    test_size=0.3,\n",
    "                                                    random_state=1)"
   ]
  },
  {
   "cell_type": "code",
   "execution_count": 10,
   "id": "90436188",
   "metadata": {},
   "outputs": [
    {
     "data": {
      "text/html": [
       "<div>\n",
       "<style scoped>\n",
       "    .dataframe tbody tr th:only-of-type {\n",
       "        vertical-align: middle;\n",
       "    }\n",
       "\n",
       "    .dataframe tbody tr th {\n",
       "        vertical-align: top;\n",
       "    }\n",
       "\n",
       "    .dataframe thead th {\n",
       "        text-align: right;\n",
       "    }\n",
       "</style>\n",
       "<table border=\"1\" class=\"dataframe\">\n",
       "  <thead>\n",
       "    <tr style=\"text-align: right;\">\n",
       "      <th></th>\n",
       "      <th>sepal length (cm)</th>\n",
       "      <th>sepal width (cm)</th>\n",
       "      <th>petal length (cm)</th>\n",
       "      <th>petal width (cm)</th>\n",
       "    </tr>\n",
       "  </thead>\n",
       "  <tbody>\n",
       "    <tr>\n",
       "      <th>118</th>\n",
       "      <td>7.7</td>\n",
       "      <td>2.6</td>\n",
       "      <td>6.9</td>\n",
       "      <td>2.3</td>\n",
       "    </tr>\n",
       "    <tr>\n",
       "      <th>18</th>\n",
       "      <td>5.7</td>\n",
       "      <td>3.8</td>\n",
       "      <td>1.7</td>\n",
       "      <td>0.3</td>\n",
       "    </tr>\n",
       "    <tr>\n",
       "      <th>4</th>\n",
       "      <td>5.0</td>\n",
       "      <td>3.6</td>\n",
       "      <td>1.4</td>\n",
       "      <td>0.2</td>\n",
       "    </tr>\n",
       "    <tr>\n",
       "      <th>45</th>\n",
       "      <td>4.8</td>\n",
       "      <td>3.0</td>\n",
       "      <td>1.4</td>\n",
       "      <td>0.3</td>\n",
       "    </tr>\n",
       "    <tr>\n",
       "      <th>59</th>\n",
       "      <td>5.2</td>\n",
       "      <td>2.7</td>\n",
       "      <td>3.9</td>\n",
       "      <td>1.4</td>\n",
       "    </tr>\n",
       "    <tr>\n",
       "      <th>...</th>\n",
       "      <td>...</td>\n",
       "      <td>...</td>\n",
       "      <td>...</td>\n",
       "      <td>...</td>\n",
       "    </tr>\n",
       "    <tr>\n",
       "      <th>133</th>\n",
       "      <td>6.3</td>\n",
       "      <td>2.8</td>\n",
       "      <td>5.1</td>\n",
       "      <td>1.5</td>\n",
       "    </tr>\n",
       "    <tr>\n",
       "      <th>137</th>\n",
       "      <td>6.4</td>\n",
       "      <td>3.1</td>\n",
       "      <td>5.5</td>\n",
       "      <td>1.8</td>\n",
       "    </tr>\n",
       "    <tr>\n",
       "      <th>72</th>\n",
       "      <td>6.3</td>\n",
       "      <td>2.5</td>\n",
       "      <td>4.9</td>\n",
       "      <td>1.5</td>\n",
       "    </tr>\n",
       "    <tr>\n",
       "      <th>140</th>\n",
       "      <td>6.7</td>\n",
       "      <td>3.1</td>\n",
       "      <td>5.6</td>\n",
       "      <td>2.4</td>\n",
       "    </tr>\n",
       "    <tr>\n",
       "      <th>37</th>\n",
       "      <td>4.9</td>\n",
       "      <td>3.6</td>\n",
       "      <td>1.4</td>\n",
       "      <td>0.1</td>\n",
       "    </tr>\n",
       "  </tbody>\n",
       "</table>\n",
       "<p>105 rows × 4 columns</p>\n",
       "</div>"
      ],
      "text/plain": [
       "     sepal length (cm)  sepal width (cm)  petal length (cm)  petal width (cm)\n",
       "118                7.7               2.6                6.9               2.3\n",
       "18                 5.7               3.8                1.7               0.3\n",
       "4                  5.0               3.6                1.4               0.2\n",
       "45                 4.8               3.0                1.4               0.3\n",
       "59                 5.2               2.7                3.9               1.4\n",
       "..                 ...               ...                ...               ...\n",
       "133                6.3               2.8                5.1               1.5\n",
       "137                6.4               3.1                5.5               1.8\n",
       "72                 6.3               2.5                4.9               1.5\n",
       "140                6.7               3.1                5.6               2.4\n",
       "37                 4.9               3.6                1.4               0.1\n",
       "\n",
       "[105 rows x 4 columns]"
      ]
     },
     "execution_count": 10,
     "metadata": {},
     "output_type": "execute_result"
    }
   ],
   "source": [
    "X_train"
   ]
  },
  {
   "cell_type": "code",
   "execution_count": 11,
   "id": "c975c837",
   "metadata": {},
   "outputs": [
    {
     "data": {
      "text/plain": [
       "118     virginica\n",
       "18         setosa\n",
       "4          setosa\n",
       "45         setosa\n",
       "59     versicolor\n",
       "          ...    \n",
       "133     virginica\n",
       "137     virginica\n",
       "72     versicolor\n",
       "140     virginica\n",
       "37         setosa\n",
       "Name: Species, Length: 105, dtype: object"
      ]
     },
     "execution_count": 11,
     "metadata": {},
     "output_type": "execute_result"
    }
   ],
   "source": [
    "y_train"
   ]
  },
  {
   "cell_type": "markdown",
   "id": "68207edd",
   "metadata": {},
   "source": [
    "## Implementacion con Python y Scikit-Learn\n",
    "\n",
    "Al igual que con la regresión logística, usaremos la biblioteca `scikit-learn` para entrenar y evaluar nuestro modelo. Esta biblioteca nos permite aplicar árboles de decisión de forma muy sencilla, con una interfaz consistente que ya conocemos: creamos un modelo, lo entrenamos con `.fit()`, predecimos con `.predict()` y evaluamos su desempeño con métricas como la exactitud o la matriz de confusión.\n",
    "\n",
    "En este caso, utilizaremos el clasificador `DecisionTreeClassifier`, que implementa el algoritmo de árboles de decisión para tareas de clasificación. A través de sus parámetros, podremos controlar aspectos como la profundidad máxima del árbol, el criterio de impureza (`gini` o `entropy`) o el número mínimo de muestras por nodo. Veremos que, aunque la estructura del código es parecida a la que usamos antes, el modelo que obtenemos se comporta de forma distinta y tiene ventajas y desventajas particulares que iremos analizando."
   ]
  },
  {
   "cell_type": "code",
   "execution_count": 12,
   "id": "bfc775e2",
   "metadata": {},
   "outputs": [
    {
     "name": "stdout",
     "output_type": "stream",
     "text": [
      "Accuracy: 0.9556\n",
      "=== Reporte modelo completo ===\n",
      "              precision    recall  f1-score   support\n",
      "\n",
      "      setosa       1.00      1.00      1.00        14\n",
      "  versicolor       0.94      0.94      0.94        18\n",
      "   virginica       0.92      0.92      0.92        13\n",
      "\n",
      "    accuracy                           0.96        45\n",
      "   macro avg       0.96      0.96      0.96        45\n",
      "weighted avg       0.96      0.96      0.96        45\n",
      "\n",
      "auc-score: 0.9665\n"
     ]
    }
   ],
   "source": [
    "# 1. Instanciamos el modelo y sus hiperparámetros\n",
    "## criterion='entropy' utiliza algoritmo ID3\n",
    "tree = DecisionTreeClassifier(criterion='entropy',\n",
    "                              min_samples_split=20,# numero minimo de elementos para llevar a cabo una division (default 2)\n",
    "                              random_state=1,\n",
    "                              min_samples_leaf=3) # numero de elementos para ser considerado hoja (default 1)\n",
    "\n",
    "# 2. Entrenamos con el conjunto de entrenamiento\n",
    "tree.fit(X_train, y_train)\n",
    "\n",
    "# 3. Predicciones de clases y evaluación básica\n",
    "y_pred = tree.predict(X_test)\n",
    "\n",
    "accuracy = accuracy_score(y_test, y_pred)\n",
    "\n",
    "print(f\"Accuracy: {accuracy:.4f}\")\n",
    "\n",
    "# 4. Predicciones con probabilidades predichas\n",
    "# Probabilidades para ROC y AUC\n",
    "y_prob = tree.predict_proba(X_test) # Aquí hacemos una modificación, incluimos las probabilidades de todas las clases\n",
    "\n",
    "# Matriz de confusión\n",
    "cm = confusion_matrix(y_test, y_pred)\n",
    "\n",
    "# Reportes detallados (incluye precisión, recall y F1)\n",
    "print(\"=== Reporte modelo completo ===\")\n",
    "print(classification_report(y_test, y_pred))\n",
    "\n",
    "# AUC\n",
    "auc = roc_auc_score(y_test, y_prob, multi_class='ovr') # multi_class = \"one vs rest\"\n",
    "print(f\"auc-score: {auc:.4f}\")"
   ]
  },
  {
   "cell_type": "code",
   "execution_count": 13,
   "id": "8ab1b72a-ad81-4bf4-bdd3-8178191108e6",
   "metadata": {},
   "outputs": [
    {
     "data": {
      "image/png": "[encoded data removed]",
      "text/plain": [
       "<Figure size 640x480 with 2 Axes>"
      ]
     },
     "metadata": {},
     "output_type": "display_data"
    }
   ],
   "source": [
    "# Visualización de matriz de confusión\n",
    "\n",
    "# Creamos el gráfico a partir de la matriz ya calculada\n",
    "disp = ConfusionMatrixDisplay(confusion_matrix=cm,\n",
    "                              display_labels=iris.target_names)\n",
    "\n",
    "# Dibujamos el gráfico\n",
    "disp.plot(cmap='Blues')  # Puedes cambiar el mapa de color si lo deseas\n",
    "\n",
    "plt.show()"
   ]
  },
  {
   "cell_type": "markdown",
   "id": "2c628d5d-eadc-4001-80ce-010ed9fb6c4d",
   "metadata": {},
   "source": [
    "#### ¿Por qué usamos la curva ROC en clasificación multiclase?\n",
    "\n",
    "La curva ROC (Receiver Operating Characteristic) es una herramienta clásica para evaluar modelos de clasificación **binaria**, ya que permite visualizar el compromiso entre la **tasa de verdaderos positivos** (TPR) y la **tasa de falsos positivos** (FPR) para diferentes umbrales de decisión.\n",
    "\n",
    "Sin embargo, en el caso de problemas de **clasificación multiclase**, como el dataset *Iris* que contiene tres especies diferentes, no es posible construir una única curva ROC directamente. Para resolver esto, aplicamos una estrategia conocida como **One-vs-Rest (OvR)**, donde consideramos cada clase por separado como la \"clase positiva\" y agrupamos las demás como \"clase negativa\". De este modo, generamos una curva ROC para cada clase de forma individual, lo que permite analizar cómo se comporta el modelo al distinguir cada una de ellas contra las demás.\n",
    "\n",
    "En `scikit-learn`, esta estrategia está incorporada y facilita la evaluación multiclase mediante curvas ROC por clase. Puedes consultar un ejemplo completo y oficial en la documentación de `scikit-learn`:  \n",
    "[https://scikit-learn.org/stable/auto_examples/model_selection/plot_roc.html](https://scikit-learn.org/stable/auto_examples/model_selection/plot_roc.html)"
   ]
  },
  {
   "cell_type": "code",
   "execution_count": 14,
   "id": "43cc2c08-195a-4be1-a434-be85e5697726",
   "metadata": {},
   "outputs": [
    {
     "data": {
      "image/png": "[encoded data removed]",
      "text/plain": [
       "<Figure size 800x600 with 1 Axes>"
      ]
     },
     "metadata": {},
     "output_type": "display_data"
    }
   ],
   "source": [
    "# Curva de ROC multiclase\n",
    "# Si binarizan las clases verdaderas con forma One-vs-Rest\n",
    "y_test_bin = label_binarize(y_test, classes=iris.target_names)\n",
    "\n",
    "# Número de clases\n",
    "n_classes = y_test_bin.shape[1]\n",
    "\n",
    "# Graficamos una curva ROC por cada clase\n",
    "plt.figure(figsize=(8, 6))\n",
    "\n",
    "for i in range(n_classes):\n",
    "    fpr, tpr, _ = roc_curve(y_test_bin[:, i], y_prob[:, i])\n",
    "    RocCurveDisplay(fpr=fpr, tpr=tpr, estimator_name=iris.target_names[i]).plot(ax=plt.gca())\n",
    "\n",
    "plt.plot([0, 1], [0, 1], 'k--')\n",
    "plt.title(\"Curvas ROC por clase (One-vs-Rest)\")\n",
    "plt.xlabel(\"Tasa de falsos positivos (FPR)\")\n",
    "plt.ylabel(\"Tasa de verdaderos positivos (TPR)\")\n",
    "plt.legend(loc=\"lower right\")\n",
    "plt.grid(True)\n",
    "plt.tight_layout()\n",
    "plt.show()\n"
   ]
  },
  {
   "cell_type": "markdown",
   "id": "04647af0",
   "metadata": {},
   "source": [
    "## Representación gráfica del árbol\n",
    "\n",
    "Una de las principales ventajas de los árboles de decisión es que pueden representarse de forma gráfica, lo que permite **visualizar cómo el modelo toma decisiones** a través de una secuencia de reglas. Para ello, podemos utilizar la función `export_graphviz` de `scikit-learn`, que genera un archivo en formato `.dot`, y posteriormente convertirlo a una imagen con la biblioteca `graphviz`. El objeto dot de Scikitlearn contiene la información de los nodos y ramas del árbol, y les recomiendo echarle un ojo a cómo está estructurado.\n",
    "\n",
    "Esta visualización muestra cada nodo con la condición utilizada para dividir los datos, el número de muestras que llegan a ese nodo, la distribución de clases y, finalmente, la clase asignada en las hojas. Es especialmente útil para interpretar el modelo y detectar posibles sobreajustes si el árbol crece demasiado.\n",
    "\n",
    "A continuación, exportaremos el árbol entrenado y lo visualizaremos como imagen. Es importante tener instalado el paquete `graphviz` de Python, que nos permitirá mostrar el árbol directamente dentro del notebook."
   ]
  },
  {
   "cell_type": "code",
   "execution_count": 15,
   "id": "c2c419a2",
   "metadata": {},
   "outputs": [],
   "source": [
    "# Sintaxis (file, tipo de apertura) \n",
    "# Si trabajas con un fichero, acordarse de cerrarlo\n",
    "\n",
    "with open(\"iris_dtree.dot\", 'w') as dotfile:\n",
    "    export_graphviz(tree, out_file=dotfile, feature_names=X_train.columns)\n",
    "    dotfile.close()"
   ]
  },
  {
   "cell_type": "code",
   "execution_count": 16,
   "id": "aaf9a4e1",
   "metadata": {},
   "outputs": [],
   "source": [
    "file = open(\"iris_dtree.dot\", \"r\")\n",
    "text = file.read()"
   ]
  },
  {
   "cell_type": "code",
   "execution_count": 17,
   "id": "c691fa21",
   "metadata": {},
   "outputs": [
    {
     "data": {
      "text/plain": [
       "'digraph Tree {\\nnode [shape=box, fontname=\"helvetica\"] ;\\nedge [fontname=\"helvetica\"] ;\\n0 [label=\"petal width (cm) <= 0.8\\\\nentropy = 1.582\\\\nsamples = 105\\\\nvalue = [36, 32, 37]\"] ;\\n1 [label=\"entropy = 0.0\\\\nsamples = 36\\\\nvalue = [36, 0, 0]\"] ;\\n0 -> 1 [labeldistance=2.5, labelangle=45, headlabel=\"True\"] ;\\n2 [label=\"petal width (cm) <= 1.65\\\\nentropy = 0.996\\\\nsamples = 69\\\\nvalue = [0, 32, 37]\"] ;\\n0 -> 2 [labeldistance=2.5, labelangle=-45, headlabel=\"False\"] ;\\n3 [label=\"petal length (cm) <= 5.0\\\\nentropy = 0.431\\\\nsamples = 34\\\\nvalue = [0, 31, 3]\"] ;\\n2 -> 3 ;\\n4 [label=\"entropy = 0.0\\\\nsamples = 30\\\\nvalue = [0, 30, 0]\"] ;\\n3 -> 4 ;\\n5 [label=\"entropy = 0.811\\\\nsamples = 4\\\\nvalue = [0, 1, 3]\"] ;\\n3 -> 5 ;\\n6 [label=\"petal length (cm) <= 4.85\\\\nentropy = 0.187\\\\nsamples = 35\\\\nvalue = [0, 1, 34]\"] ;\\n2 -> 6 ;\\n7 [label=\"entropy = 0.811\\\\nsamples = 4\\\\nvalue = [0, 1, 3]\"] ;\\n6 -> 7 ;\\n8 [label=\"entropy = 0.0\\\\nsamples = 31\\\\nvalue = [0, 0, 31]\"] ;\\n6 -> 8 ;\\n}'"
      ]
     },
     "execution_count": 17,
     "metadata": {},
     "output_type": "execute_result"
    }
   ],
   "source": [
    "# Se imprime el texto que contiene el archivo .dot que acabamos de generar\n",
    "text"
   ]
  },
  {
   "cell_type": "code",
   "execution_count": 18,
   "id": "ec0e33da",
   "metadata": {},
   "outputs": [
    {
     "data": {
      "image/svg+xml": [
       "<?xml version=\"1.0\" encoding=\"UTF-8\" standalone=\"no\"?>\n",
       "<!DOCTYPE svg PUBLIC \"-//W3C//DTD SVG 1.1//EN\"\n",
       " \"http://www.w3.org/Graphics/SVG/1.1/DTD/svg11.dtd\">\n",
       "<!-- Generated by graphviz version 12.0.0 (0)\n",
       " -->\n",
       "<!-- Title: Tree Pages: 1 -->\n",
       "<svg width=\"544pt\" height=\"373pt\"\n",
       " viewBox=\"0.00 0.00 543.50 373.00\" xmlns=\"http://www.w3.org/2000/svg\" xmlns:xlink=\"http://www.w3.org/1999/xlink\">\n",
       "<g id=\"graph0\" class=\"graph\" transform=\"scale(1 1) rotate(0) translate(4 369)\">\n",
       "<title>Tree</title>\n",
       "<polygon fill=\"white\" stroke=\"none\" points=\"-4,4 -4,-369 539.5,-369 539.5,4 -4,4\"/>\n",
       "<!-- 0 -->\n",
       "<g id=\"node1\" class=\"node\">\n",
       "<title>0</title>\n",
       "<polygon fill=\"none\" stroke=\"black\" points=\"265.62,-365 110.88,-365 110.88,-297 265.62,-297 265.62,-365\"/>\n",
       "<text text-anchor=\"middle\" x=\"188.25\" y=\"-347.7\" font-family=\"Helvetica,sans-Serif\" font-size=\"14.00\">petal width (cm) &lt;= 0.8</text>\n",
       "<text text-anchor=\"middle\" x=\"188.25\" y=\"-332.7\" font-family=\"Helvetica,sans-Serif\" font-size=\"14.00\">entropy = 1.582</text>\n",
       "<text text-anchor=\"middle\" x=\"188.25\" y=\"-317.7\" font-family=\"Helvetica,sans-Serif\" font-size=\"14.00\">samples = 105</text>\n",
       "<text text-anchor=\"middle\" x=\"188.25\" y=\"-302.7\" font-family=\"Helvetica,sans-Serif\" font-size=\"14.00\">value = [36, 32, 37]</text>\n",
       "</g>\n",
       "<!-- 1 -->\n",
       "<g id=\"node2\" class=\"node\">\n",
       "<title>1</title>\n",
       "<polygon fill=\"none\" stroke=\"black\" points=\"168.5,-253.5 52,-253.5 52,-200.5 168.5,-200.5 168.5,-253.5\"/>\n",
       "<text text-anchor=\"middle\" x=\"110.25\" y=\"-236.2\" font-family=\"Helvetica,sans-Serif\" font-size=\"14.00\">entropy = 0.0</text>\n",
       "<text text-anchor=\"middle\" x=\"110.25\" y=\"-221.2\" font-family=\"Helvetica,sans-Serif\" font-size=\"14.00\">samples = 36</text>\n",
       "<text text-anchor=\"middle\" x=\"110.25\" y=\"-206.2\" font-family=\"Helvetica,sans-Serif\" font-size=\"14.00\">value = [36, 0, 0]</text>\n",
       "</g>\n",
       "<!-- 0&#45;&gt;1 -->\n",
       "<g id=\"edge1\" class=\"edge\">\n",
       "<title>0&#45;&gt;1</title>\n",
       "<path fill=\"none\" stroke=\"black\" d=\"M162.71,-296.6C154.38,-285.71 145.11,-273.59 136.72,-262.61\"/>\n",
       "<polygon fill=\"black\" stroke=\"black\" points=\"139.68,-260.73 130.83,-254.91 134.12,-264.98 139.68,-260.73\"/>\n",
       "<text text-anchor=\"middle\" x=\"126.6\" y=\"-272.69\" font-family=\"Helvetica,sans-Serif\" font-size=\"14.00\">True</text>\n",
       "</g>\n",
       "<!-- 2 -->\n",
       "<g id=\"node3\" class=\"node\">\n",
       "<title>2</title>\n",
       "<polygon fill=\"none\" stroke=\"black\" points=\"348.38,-261 186.12,-261 186.12,-193 348.38,-193 348.38,-261\"/>\n",
       "<text text-anchor=\"middle\" x=\"267.25\" y=\"-243.7\" font-family=\"Helvetica,sans-Serif\" font-size=\"14.00\">petal width (cm) &lt;= 1.65</text>\n",
       "<text text-anchor=\"middle\" x=\"267.25\" y=\"-228.7\" font-family=\"Helvetica,sans-Serif\" font-size=\"14.00\">entropy = 0.996</text>\n",
       "<text text-anchor=\"middle\" x=\"267.25\" y=\"-213.7\" font-family=\"Helvetica,sans-Serif\" font-size=\"14.00\">samples = 69</text>\n",
       "<text text-anchor=\"middle\" x=\"267.25\" y=\"-198.7\" font-family=\"Helvetica,sans-Serif\" font-size=\"14.00\">value = [0, 32, 37]</text>\n",
       "</g>\n",
       "<!-- 0&#45;&gt;2 -->\n",
       "<g id=\"edge2\" class=\"edge\">\n",
       "<title>0&#45;&gt;2</title>\n",
       "<path fill=\"none\" stroke=\"black\" d=\"M214.12,-296.6C220.6,-288.24 227.63,-279.15 234.4,-270.41\"/>\n",
       "<polygon fill=\"black\" stroke=\"black\" points=\"237.04,-272.72 240.4,-262.67 231.51,-268.43 237.04,-272.72\"/>\n",
       "<text text-anchor=\"middle\" x=\"244.48\" y=\"-280.47\" font-family=\"Helvetica,sans-Serif\" font-size=\"14.00\">False</text>\n",
       "</g>\n",
       "<!-- 3 -->\n",
       "<g id=\"node4\" class=\"node\">\n",
       "<title>3</title>\n",
       "<polygon fill=\"none\" stroke=\"black\" points=\"256.25,-157 96.25,-157 96.25,-89 256.25,-89 256.25,-157\"/>\n",
       "<text text-anchor=\"middle\" x=\"176.25\" y=\"-139.7\" font-family=\"Helvetica,sans-Serif\" font-size=\"14.00\">petal length (cm) &lt;= 5.0</text>\n",
       "<text text-anchor=\"middle\" x=\"176.25\" y=\"-124.7\" font-family=\"Helvetica,sans-Serif\" font-size=\"14.00\">entropy = 0.431</text>\n",
       "<text text-anchor=\"middle\" x=\"176.25\" y=\"-109.7\" font-family=\"Helvetica,sans-Serif\" font-size=\"14.00\">samples = 34</text>\n",
       "<text text-anchor=\"middle\" x=\"176.25\" y=\"-94.7\" font-family=\"Helvetica,sans-Serif\" font-size=\"14.00\">value = [0, 31, 3]</text>\n",
       "</g>\n",
       "<!-- 2&#45;&gt;3 -->\n",
       "<g id=\"edge3\" class=\"edge\">\n",
       "<title>2&#45;&gt;3</title>\n",
       "<path fill=\"none\" stroke=\"black\" d=\"M237.45,-192.6C229.83,-184.06 221.54,-174.77 213.6,-165.86\"/>\n",
       "<polygon fill=\"black\" stroke=\"black\" points=\"216.39,-163.73 207.12,-158.6 211.17,-168.4 216.39,-163.73\"/>\n",
       "</g>\n",
       "<!-- 6 -->\n",
       "<g id=\"node7\" class=\"node\">\n",
       "<title>6</title>\n",
       "<polygon fill=\"none\" stroke=\"black\" points=\"442,-157 274.5,-157 274.5,-89 442,-89 442,-157\"/>\n",
       "<text text-anchor=\"middle\" x=\"358.25\" y=\"-139.7\" font-family=\"Helvetica,sans-Serif\" font-size=\"14.00\">petal length (cm) &lt;= 4.85</text>\n",
       "<text text-anchor=\"middle\" x=\"358.25\" y=\"-124.7\" font-family=\"Helvetica,sans-Serif\" font-size=\"14.00\">entropy = 0.187</text>\n",
       "<text text-anchor=\"middle\" x=\"358.25\" y=\"-109.7\" font-family=\"Helvetica,sans-Serif\" font-size=\"14.00\">samples = 35</text>\n",
       "<text text-anchor=\"middle\" x=\"358.25\" y=\"-94.7\" font-family=\"Helvetica,sans-Serif\" font-size=\"14.00\">value = [0, 1, 34]</text>\n",
       "</g>\n",
       "<!-- 2&#45;&gt;6 -->\n",
       "<g id=\"edge6\" class=\"edge\">\n",
       "<title>2&#45;&gt;6</title>\n",
       "<path fill=\"none\" stroke=\"black\" d=\"M297.05,-192.6C304.67,-184.06 312.96,-174.77 320.9,-165.86\"/>\n",
       "<polygon fill=\"black\" stroke=\"black\" points=\"323.33,-168.4 327.38,-158.6 318.11,-163.73 323.33,-168.4\"/>\n",
       "</g>\n",
       "<!-- 4 -->\n",
       "<g id=\"node5\" class=\"node\">\n",
       "<title>4</title>\n",
       "<polygon fill=\"none\" stroke=\"black\" points=\"116.5,-53 0,-53 0,0 116.5,0 116.5,-53\"/>\n",
       "<text text-anchor=\"middle\" x=\"58.25\" y=\"-35.7\" font-family=\"Helvetica,sans-Serif\" font-size=\"14.00\">entropy = 0.0</text>\n",
       "<text text-anchor=\"middle\" x=\"58.25\" y=\"-20.7\" font-family=\"Helvetica,sans-Serif\" font-size=\"14.00\">samples = 30</text>\n",
       "<text text-anchor=\"middle\" x=\"58.25\" y=\"-5.7\" font-family=\"Helvetica,sans-Serif\" font-size=\"14.00\">value = [0, 30, 0]</text>\n",
       "</g>\n",
       "<!-- 3&#45;&gt;4 -->\n",
       "<g id=\"edge4\" class=\"edge\">\n",
       "<title>3&#45;&gt;4</title>\n",
       "<path fill=\"none\" stroke=\"black\" d=\"M134.65,-88.68C123.23,-79.54 110.87,-69.64 99.47,-60.51\"/>\n",
       "<polygon fill=\"black\" stroke=\"black\" points=\"101.76,-57.86 91.76,-54.34 97.38,-63.32 101.76,-57.86\"/>\n",
       "</g>\n",
       "<!-- 5 -->\n",
       "<g id=\"node6\" class=\"node\">\n",
       "<title>5</title>\n",
       "<polygon fill=\"none\" stroke=\"black\" points=\"245.5,-53 135,-53 135,0 245.5,0 245.5,-53\"/>\n",
       "<text text-anchor=\"middle\" x=\"190.25\" y=\"-35.7\" font-family=\"Helvetica,sans-Serif\" font-size=\"14.00\">entropy = 0.811</text>\n",
       "<text text-anchor=\"middle\" x=\"190.25\" y=\"-20.7\" font-family=\"Helvetica,sans-Serif\" font-size=\"14.00\">samples = 4</text>\n",
       "<text text-anchor=\"middle\" x=\"190.25\" y=\"-5.7\" font-family=\"Helvetica,sans-Serif\" font-size=\"14.00\">value = [0, 1, 3]</text>\n",
       "</g>\n",
       "<!-- 3&#45;&gt;5 -->\n",
       "<g id=\"edge5\" class=\"edge\">\n",
       "<title>3&#45;&gt;5</title>\n",
       "<path fill=\"none\" stroke=\"black\" d=\"M181.19,-88.68C182.34,-80.9 183.57,-72.56 184.75,-64.63\"/>\n",
       "<polygon fill=\"black\" stroke=\"black\" points=\"188.19,-65.3 186.19,-54.89 181.26,-64.27 188.19,-65.3\"/>\n",
       "</g>\n",
       "<!-- 7 -->\n",
       "<g id=\"node8\" class=\"node\">\n",
       "<title>7</title>\n",
       "<polygon fill=\"none\" stroke=\"black\" points=\"400.5,-53 290,-53 290,0 400.5,0 400.5,-53\"/>\n",
       "<text text-anchor=\"middle\" x=\"345.25\" y=\"-35.7\" font-family=\"Helvetica,sans-Serif\" font-size=\"14.00\">entropy = 0.811</text>\n",
       "<text text-anchor=\"middle\" x=\"345.25\" y=\"-20.7\" font-family=\"Helvetica,sans-Serif\" font-size=\"14.00\">samples = 4</text>\n",
       "<text text-anchor=\"middle\" x=\"345.25\" y=\"-5.7\" font-family=\"Helvetica,sans-Serif\" font-size=\"14.00\">value = [0, 1, 3]</text>\n",
       "</g>\n",
       "<!-- 6&#45;&gt;7 -->\n",
       "<g id=\"edge7\" class=\"edge\">\n",
       "<title>6&#45;&gt;7</title>\n",
       "<path fill=\"none\" stroke=\"black\" d=\"M353.67,-88.68C352.6,-80.9 351.45,-72.56 350.36,-64.63\"/>\n",
       "<polygon fill=\"black\" stroke=\"black\" points=\"353.85,-64.32 349.02,-54.89 346.91,-65.28 353.85,-64.32\"/>\n",
       "</g>\n",
       "<!-- 8 -->\n",
       "<g id=\"node9\" class=\"node\">\n",
       "<title>8</title>\n",
       "<polygon fill=\"none\" stroke=\"black\" points=\"535.5,-53 419,-53 419,0 535.5,0 535.5,-53\"/>\n",
       "<text text-anchor=\"middle\" x=\"477.25\" y=\"-35.7\" font-family=\"Helvetica,sans-Serif\" font-size=\"14.00\">entropy = 0.0</text>\n",
       "<text text-anchor=\"middle\" x=\"477.25\" y=\"-20.7\" font-family=\"Helvetica,sans-Serif\" font-size=\"14.00\">samples = 31</text>\n",
       "<text text-anchor=\"middle\" x=\"477.25\" y=\"-5.7\" font-family=\"Helvetica,sans-Serif\" font-size=\"14.00\">value = [0, 0, 31]</text>\n",
       "</g>\n",
       "<!-- 6&#45;&gt;8 -->\n",
       "<g id=\"edge8\" class=\"edge\">\n",
       "<title>6&#45;&gt;8</title>\n",
       "<path fill=\"none\" stroke=\"black\" d=\"M400.2,-88.68C411.72,-79.54 424.19,-69.64 435.68,-60.51\"/>\n",
       "<polygon fill=\"black\" stroke=\"black\" points=\"437.8,-63.29 443.46,-54.34 433.45,-57.81 437.8,-63.29\"/>\n",
       "</g>\n",
       "</g>\n",
       "</svg>\n"
      ],
      "text/plain": [
       "<graphviz.sources.Source at 0x1668ab2e0>"
      ]
     },
     "execution_count": 18,
     "metadata": {},
     "output_type": "execute_result"
    }
   ],
   "source": [
    "Source(text)"
   ]
  },
  {
   "cell_type": "markdown",
   "id": "03fbb9bf",
   "metadata": {},
   "source": [
    "## Validación y poda del árbol de decisión\n",
    "\n",
    "Aunque los árboles de decisión son modelos muy interpretables, tienen una gran **tendencia al sobreajuste** (*overfitting*) si se les permite crecer sin restricciones. Un árbol muy profundo puede aprenderse de memoria el conjunto de entrenamiento, pero generalizar mal a nuevos datos. Por eso, es importante validar su desempeño utilizando un conjunto de prueba o técnicas como la **validación cruzada**, para detectar cuándo un árbol comienza a memorizar en lugar de aprender patrones generales.\n",
    "\n",
    "Una forma común de prevenir este sobreajuste es aplicar lo que se conoce como **poda** (*pruning*), que consiste en limitar o reducir el tamaño del árbol. Esto se puede hacer de manera preventiva (**poda previa**, *pre-pruning*) ajustando hiperparámetros como `max_depth`, `min_samples_split` o `min_samples_leaf`, que controlan cuán grande puede llegar a ser el árbol. También existe la **poda posterior** (*post-pruning*), en la que el árbol se entrena completamente y luego se eliminan ramas poco informativas con base en el rendimiento en validación.\n",
    "\n",
    "En esta sección, exploraremos cómo regular el tamaño del árbol mediante poda previa, y cómo evaluar el impacto de estas decisiones sobre el rendimiento del modelo."
   ]
  },
  {
   "cell_type": "code",
   "execution_count": 19,
   "id": "ae8512ce",
   "metadata": {},
   "outputs": [
    {
     "name": "stdout",
     "output_type": "stream",
     "text": [
      "score:  [1.         1.         1.         1.         1.         1.\n",
      " 1.         0.66666667 1.         1.         1.         1.\n",
      " 1.         1.         0.66666667 1.         1.         1.\n",
      " 1.         1.         1.         1.         1.         1.\n",
      " 1.         1.         1.         1.         0.66666667 1.\n",
      " 1.         1.         1.         1.         1.         1.\n",
      " 1.         1.         0.66666667 0.66666667 1.         1.\n",
      " 1.         1.         1.         1.         1.         0.33333333\n",
      " 1.         1.        ]\n"
     ]
    }
   ],
   "source": [
    "# Validacion cruzada \n",
    "\n",
    "# 1. se instancia la forma de validación (en este caso, validacion cruzada kfold)\n",
    "cv = KFold(n_splits=50, shuffle=True, random_state=1) # shuffle para que haga un muestreo aleatorio antes\n",
    "\n",
    "# 2. se aplica la validación\n",
    "# En este caso, utilizamos la métrica accuracy como referencia\n",
    "score = (cross_val_score(tree,X,y,scoring='accuracy', cv=cv, n_jobs=1))\n",
    "\n",
    "print('score: ', score)"
   ]
  },
  {
   "cell_type": "markdown",
   "id": "51cbf7aa-4221-4b9e-9a8d-13ae4a7761ba",
   "metadata": {},
   "source": [
    "Por la misma naturaleza de estos datos de ejemplo Iris, y por la forma en cómo está estructurada la información, vamos a tener mucho score=1.0 en la exactitud. Por lo mismo, en este caso, no te preocupes mucho en los casos donde el accuracy baja mucho.\n",
    "\n",
    "A continuación, vamos a explorar qué pasa si vamos cambiando uno de los hiperparámetros del modelo `max_depth` para la poda del árbol, y cómo éste afecta la métrica."
   ]
  },
  {
   "cell_type": "code",
   "execution_count": 20,
   "id": "ce9a58cc",
   "metadata": {},
   "outputs": [
    {
     "name": "stdout",
     "output_type": "stream",
     "text": [
      "Score para max depth = 1 = 0.5666666666666667\n",
      "Score para max depth = 2 = 0.9200000000000002\n",
      "Score para max depth = 3 = 0.9400000000000001\n",
      "Score para max depth = 4 = 0.9333333333333333\n",
      "Score para max depth = 5 = 0.9333333333333333\n",
      "Score para max depth = 6 = 0.9333333333333333\n",
      "Score para max depth = 7 = 0.9333333333333333\n",
      "Score para max depth = 8 = 0.9333333333333333\n",
      "Score para max depth = 9 = 0.9333333333333333\n",
      "Score para max depth = 10 = 0.9333333333333333\n"
     ]
    }
   ],
   "source": [
    "for i in range(1,11):\n",
    "\n",
    "    # Instanciamos modelo\n",
    "    tree = DecisionTreeClassifier(criterion='entropy',\n",
    "                              max_depth=i,\n",
    "                              min_samples_split=20,\n",
    "                              random_state=99)\n",
    "\n",
    "    # Entrenamiento con todos lo datos, para hacer validación cruzada\n",
    "    tree.fit(X,y)\n",
    "\n",
    "    # 3. Validación cruzada\n",
    "    cv = KFold(n_splits=10, shuffle=True, random_state=1)\n",
    "    scores = cross_val_score(tree,X,y,scoring='accuracy', cv=cv, n_jobs=1)\n",
    "    score = np.mean(scores)\n",
    "    \n",
    "    print('Score para max depth =', i, '=', score)"
   ]
  },
  {
   "cell_type": "markdown",
   "id": "ef44eeb4-30d5-4b32-ae11-2151c55ea0a6",
   "metadata": {},
   "source": [
    "Aquí, podemos observar que:\n",
    "\n",
    "- Con una profundidad muy baja (`max_depth = 1`), el modelo es **demasiado simple** y no captura bien la estructura del problema, lo que resulta en una precisión promedio baja (~56.7%). Esto es un claro caso de **subajuste** (*underfitting*).\n",
    "- Al aumentar la profundidad a 2 o 3, el modelo mejora notablemente su precisión, alcanzando un rendimiento óptimo cercano al 94%. A partir de `max_depth = 3`, la precisión **ya no mejora significativamente**, y se mantiene constante en torno al 93.3% para valores mayores.\n",
    "- Esto sugiere que a partir de cierto punto, aumentar la profundidad del árbol **no aporta beneficio adicional** y puede incluso aumentar el riesgo de sobreajuste sin mejorar la generalización.\n",
    "\n",
    "En resumen, este tipo de validación nos permite encontrar un **punto de equilibrio**: una profundidad suficientemente expresiva para aprender los patrones relevantes, pero no tan grande como para memorizar los datos. En este caso, una buena elección para `max_depth` parece ser 3, lo cual también nos ayuda a mantener el modelo más **compacto e interpretable**.\n"
   ]
  },
  {
   "cell_type": "markdown",
   "id": "13db1b95",
   "metadata": {},
   "source": [
    "## Rasgos de importancia\n",
    "\n",
    "Una ventaja interesante de los árboles de decisión es que no sólo realizan predicciones, sino que también nos permiten interpretar **qué variables son más relevantes** para el modelo. Durante el entrenamiento, el árbol decide en qué características dividir basándose en cuánto ayudan a reducir la impureza (ya sea por Gini o entropía). A partir de esta información, `scikit-learn` calcula automáticamente una medida de **importancia de características**, disponible a través del atributo `.feature_importances_` del modelo entrenado.\n",
    "\n",
    "Este atributo nos devuelve un arreglo con valores entre 0 y 1 que indican la contribución relativa de cada variable en el proceso de toma de decisiones del árbol. Cuanto mayor es la importancia de una característica, más veces se utilizó en nodos internos y mayor fue su impacto al dividir los datos y reducir la impureza.\n",
    "\n",
    "Esta información es especialmente útil para entender el modelo y para tareas de selección de variables. En datasets multivariados como el de *Iris*, podemos visualizar qué atributos (como el largo o ancho del pétalo o sépalo) fueron los más influyentes para separar las clases. A continuación, vamos a graficar estas importancias y analizarlas con más detalle."
   ]
  },
  {
   "cell_type": "code",
   "execution_count": 21,
   "id": "e04173e4-28bd-4e1f-8b59-fd5568861913",
   "metadata": {},
   "outputs": [
    {
     "name": "stdout",
     "output_type": "stream",
     "text": [
      "Accuracy: 0.9556\n"
     ]
    }
   ],
   "source": [
    "# Según el caso anterior, utilizamos un max_depth=3 para entrenar el modelo\n",
    "\n",
    "# 1. Instanciamos el modelo y sus hiperparámetros\n",
    "tree = DecisionTreeClassifier(criterion='entropy',\n",
    "                              min_samples_split=20,# numero minimo de elementos para llevar a cabo una division (default 2)\n",
    "                              random_state=99,\n",
    "                              max_depth=3,\n",
    "                              min_samples_leaf=20) # numero de elementos para ser considerado hoja (default 1)\n",
    "\n",
    "# 2. Entrenamos con el conjunto de entrenamiento\n",
    "tree.fit(X_train, y_train)\n",
    "\n",
    "# 3. Predicciones de clases y evaluación básica\n",
    "y_pred = tree.predict(X_test)\n",
    "\n",
    "accuracy = accuracy_score(y_test, y_pred)\n",
    "\n",
    "print(f\"Accuracy: {accuracy:.4f}\")"
   ]
  },
  {
   "cell_type": "code",
   "execution_count": 22,
   "id": "f28564c6",
   "metadata": {},
   "outputs": [
    {
     "data": {
      "text/plain": [
       "array([0.        , 0.        , 0.67194092, 0.32805908])"
      ]
     },
     "execution_count": 22,
     "metadata": {},
     "output_type": "execute_result"
    }
   ],
   "source": [
    "tree.feature_importances_"
   ]
  },
  {
   "cell_type": "code",
   "execution_count": 23,
   "id": "f8b7bd25",
   "metadata": {},
   "outputs": [
    {
     "data": {
      "text/plain": [
       "array(['sepal length (cm)', 'sepal width (cm)', 'petal length (cm)',\n",
       "       'petal width (cm)'], dtype=object)"
      ]
     },
     "execution_count": 23,
     "metadata": {},
     "output_type": "execute_result"
    }
   ],
   "source": [
    "tree.feature_names_in_"
   ]
  },
  {
   "cell_type": "code",
   "execution_count": 24,
   "id": "5008ae67",
   "metadata": {},
   "outputs": [
    {
     "data": {
      "image/png": "[encoded data removed]",
      "text/plain": [
       "<Figure size 600x600 with 1 Axes>"
      ]
     },
     "metadata": {},
     "output_type": "display_data"
    }
   ],
   "source": [
    "tree_importance = tree.feature_importances_\n",
    "tree_features = tree.feature_names_in_\n",
    "\n",
    "tree_frame = pd.Series(tree_importance, index=tree_features)\n",
    "\n",
    "fig, ax = plt.subplots(figsize=(6,6))\n",
    "tree_frame.plot.bar(ax=ax)\n",
    "ax.set_title(\"Feature importances using DecisionTreeClassifier\")\n",
    "ax.set_ylabel(\"Mean decrease in impurity\")\n",
    "fig.tight_layout()"
   ]
  },
  {
   "cell_type": "markdown",
   "id": "5c9196a4",
   "metadata": {},
   "source": [
    "## Implementación de Random Forest\n",
    "\n",
    "Un *Random Forest* es un modelo de ensamble basado en árboles de decisión que combina **muchos árboles individuales** para lograr una predicción más robusta y precisa. En lugar de entrenar un solo árbol, como hicimos anteriormente, este método entrena **un conjunto (o bosque) de árboles**, cada uno con una muestra aleatoria distinta del conjunto de datos original. La predicción final se obtiene por **votación mayoritaria** (en clasificación) o **promedio** (en regresión), lo que reduce el riesgo de sobreajuste de los árboles individuales.\n",
    "\n",
    "Este enfoque se conoce como **Bagging** (*Bootstrap Aggregating*), y se basa en dos ideas clave:\n",
    "1. Cada árbol se entrena con una **muestra aleatoria con reemplazo** (bootstrap sample) del conjunto de entrenamiento.\n",
    "2. En cada división del árbol, se considera **sólo un subconjunto aleatorio de características** (no todas), lo que introduce diversidad adicional entre los árboles.\n",
    "\n",
    "Gracias a esta combinación de aleatoriedad y votación, las *Random Forests* suelen generalizar mejor que un árbol individual, tienen menor varianza y suelen requerir menos ajuste de hiperparámetros.\n",
    "\n",
    "---\n",
    "\n",
    "### Validación con Out-of-Bag (OOB) samples\n",
    "\n",
    "Un aspecto muy útil de *Random Forest* es que permite realizar una especie de **validación cruzada automática** sin necesidad de separar un conjunto de validación. Esto se logra gracias a las **muestras OOB (Out-of-Bag)**: como cada árbol es entrenado con una muestra bootstrap (extraída con reemplazo), en promedio, alrededor del 37% de los datos **no** son seleccionados para entrenar ese árbol. Esos datos no utilizados pueden aprovecharse para evaluar el rendimiento del árbol de forma independiente.\n",
    "\n",
    "El atributo `oob_score_` de `RandomForestClassifier` nos permite obtener el **promedio de precisión del modelo usando sólo estas muestras OOB**. Es decir, es una estimación del rendimiento general sin necesidad de hacer una validación cruzada explícita.\n",
    "\n",
    "Además, con el método `oob_decision_function_`, se puede acceder a las **probabilidades predichas por el modelo para cada observación usando sólo los árboles que no la vieron durante el entrenamiento**. Esto nos da una forma confiable de estimar la distribución de clase para cada ejemplo, también de forma completamente *out-of-bag*.\n",
    "\n",
    "A continuación, implementamos un modelo Random Forest sobre el dataset *Iris* para observar cómo se comporta y qué mejoras ofrece respecto a un solo árbol de decisión.\n"
   ]
  },
  {
   "cell_type": "code",
   "execution_count": 27,
   "id": "9d83e093",
   "metadata": {},
   "outputs": [
    {
     "name": "stdout",
     "output_type": "stream",
     "text": [
      "OOB Score (estimación de exactitud fuera de muestra): 0.9667\n"
     ]
    }
   ],
   "source": [
    "# 1. Instanciamos el modelo y sus hiperparámetros\n",
    "forest = RandomForestClassifier(n_jobs=1, # parámetro utilizado en paralelización\n",
    "                                oob_score=True,\n",
    "                                n_estimators=50, # Número de árboles\n",
    "                                random_state=42) \n",
    "\n",
    "# 2. Entrenamos con todos los datos para usar oob_score\n",
    "forest.fit(X,y)\n",
    "\n",
    "# 3. Métricas con validación OOB\n",
    "print(f\"OOB Score (estimación de exactitud fuera de muestra): {forest.oob_score_:.4f}\")\n",
    "\n",
    "# 4. Predicción para evaluación estándar (usamos mismo conjunto para consistencia)\n",
    "y_pred_forest = forest.predict(X)"
   ]
  },
  {
   "cell_type": "code",
   "execution_count": 84,
   "id": "0ad1ccb2",
   "metadata": {},
   "outputs": [
    {
     "data": {
      "text/plain": [
       "array([[1.        , 0.        , 0.        ],\n",
       "       [1.        , 0.        , 0.        ],\n",
       "       [1.        , 0.        , 0.        ],\n",
       "       [1.        , 0.        , 0.        ],\n",
       "       [1.        , 0.        , 0.        ],\n",
       "       [1.        , 0.        , 0.        ],\n",
       "       [1.        , 0.        , 0.        ],\n",
       "       [1.        , 0.        , 0.        ],\n",
       "       [1.        , 0.        , 0.        ],\n",
       "       [1.        , 0.        , 0.        ],\n",
       "       [1.        , 0.        , 0.        ],\n",
       "       [1.        , 0.        , 0.        ],\n",
       "       [1.        , 0.        , 0.        ],\n",
       "       [1.        , 0.        , 0.        ],\n",
       "       [1.        , 0.        , 0.        ],\n",
       "       [1.        , 0.        , 0.        ],\n",
       "       [1.        , 0.        , 0.        ],\n",
       "       [1.        , 0.        , 0.        ],\n",
       "       [1.        , 0.        , 0.        ],\n",
       "       [1.        , 0.        , 0.        ],\n",
       "       [1.        , 0.        , 0.        ],\n",
       "       [1.        , 0.        , 0.        ],\n",
       "       [1.        , 0.        , 0.        ],\n",
       "       [1.        , 0.        , 0.        ],\n",
       "       [1.        , 0.        , 0.        ],\n",
       "       [1.        , 0.        , 0.        ],\n",
       "       [1.        , 0.        , 0.        ],\n",
       "       [1.        , 0.        , 0.        ],\n",
       "       [1.        , 0.        , 0.        ],\n",
       "       [1.        , 0.        , 0.        ],\n",
       "       [1.        , 0.        , 0.        ],\n",
       "       [1.        , 0.        , 0.        ],\n",
       "       [1.        , 0.        , 0.        ],\n",
       "       [1.        , 0.        , 0.        ],\n",
       "       [1.        , 0.        , 0.        ],\n",
       "       [1.        , 0.        , 0.        ],\n",
       "       [1.        , 0.        , 0.        ],\n",
       "       [1.        , 0.        , 0.        ],\n",
       "       [1.        , 0.        , 0.        ],\n",
       "       [1.        , 0.        , 0.        ],\n",
       "       [1.        , 0.        , 0.        ],\n",
       "       [1.        , 0.        , 0.        ],\n",
       "       [1.        , 0.        , 0.        ],\n",
       "       [1.        , 0.        , 0.        ],\n",
       "       [1.        , 0.        , 0.        ],\n",
       "       [1.        , 0.        , 0.        ],\n",
       "       [1.        , 0.        , 0.        ],\n",
       "       [1.        , 0.        , 0.        ],\n",
       "       [1.        , 0.        , 0.        ],\n",
       "       [1.        , 0.        , 0.        ],\n",
       "       [0.        , 1.        , 0.        ],\n",
       "       [0.        , 1.        , 0.        ],\n",
       "       [0.        , 1.        , 0.        ],\n",
       "       [0.        , 1.        , 0.        ],\n",
       "       [0.        , 0.83333333, 0.16666667],\n",
       "       [0.        , 1.        , 0.        ],\n",
       "       [0.        , 1.        , 0.        ],\n",
       "       [0.        , 0.7       , 0.3       ],\n",
       "       [0.        , 1.        , 0.        ],\n",
       "       [0.        , 1.        , 0.        ],\n",
       "       [0.        , 1.        , 0.        ],\n",
       "       [0.        , 1.        , 0.        ],\n",
       "       [0.        , 1.        , 0.        ],\n",
       "       [0.        , 1.        , 0.        ],\n",
       "       [0.        , 1.        , 0.        ],\n",
       "       [0.        , 1.        , 0.        ],\n",
       "       [0.        , 1.        , 0.        ],\n",
       "       [0.        , 1.        , 0.        ],\n",
       "       [0.        , 0.85714286, 0.14285714],\n",
       "       [0.        , 1.        , 0.        ],\n",
       "       [0.        , 0.        , 1.        ],\n",
       "       [0.        , 1.        , 0.        ],\n",
       "       [0.        , 0.66666667, 0.33333333],\n",
       "       [0.        , 1.        , 0.        ],\n",
       "       [0.        , 1.        , 0.        ],\n",
       "       [0.        , 1.        , 0.        ],\n",
       "       [0.        , 0.8       , 0.2       ],\n",
       "       [0.        , 0.        , 1.        ],\n",
       "       [0.        , 1.        , 0.        ],\n",
       "       [0.        , 1.        , 0.        ],\n",
       "       [0.        , 1.        , 0.        ],\n",
       "       [0.        , 1.        , 0.        ],\n",
       "       [0.        , 1.        , 0.        ],\n",
       "       [0.        , 0.14285714, 0.85714286],\n",
       "       [0.        , 1.        , 0.        ],\n",
       "       [0.        , 1.        , 0.        ],\n",
       "       [0.        , 1.        , 0.        ],\n",
       "       [0.        , 1.        , 0.        ],\n",
       "       [0.        , 1.        , 0.        ],\n",
       "       [0.        , 1.        , 0.        ],\n",
       "       [0.        , 1.        , 0.        ],\n",
       "       [0.        , 1.        , 0.        ],\n",
       "       [0.        , 1.        , 0.        ],\n",
       "       [0.        , 1.        , 0.        ],\n",
       "       [0.        , 1.        , 0.        ],\n",
       "       [0.        , 1.        , 0.        ],\n",
       "       [0.        , 1.        , 0.        ],\n",
       "       [0.        , 1.        , 0.        ],\n",
       "       [0.        , 1.        , 0.        ],\n",
       "       [0.        , 1.        , 0.        ],\n",
       "       [0.        , 0.        , 1.        ],\n",
       "       [0.        , 0.        , 1.        ],\n",
       "       [0.        , 0.        , 1.        ],\n",
       "       [0.        , 0.        , 1.        ],\n",
       "       [0.        , 0.        , 1.        ],\n",
       "       [0.        , 0.        , 1.        ],\n",
       "       [0.        , 1.        , 0.        ],\n",
       "       [0.        , 0.        , 1.        ],\n",
       "       [0.        , 0.        , 1.        ],\n",
       "       [0.        , 0.        , 1.        ],\n",
       "       [0.        , 0.        , 1.        ],\n",
       "       [0.        , 0.        , 1.        ],\n",
       "       [0.        , 0.        , 1.        ],\n",
       "       [0.        , 0.        , 1.        ],\n",
       "       [0.        , 0.        , 1.        ],\n",
       "       [0.        , 0.        , 1.        ],\n",
       "       [0.        , 0.        , 1.        ],\n",
       "       [0.        , 0.        , 1.        ],\n",
       "       [0.        , 0.        , 1.        ],\n",
       "       [0.        , 0.81818182, 0.18181818],\n",
       "       [0.        , 0.        , 1.        ],\n",
       "       [0.        , 0.        , 1.        ],\n",
       "       [0.        , 0.        , 1.        ],\n",
       "       [0.        , 0.1       , 0.9       ],\n",
       "       [0.        , 0.        , 1.        ],\n",
       "       [0.        , 0.        , 1.        ],\n",
       "       [0.        , 0.25      , 0.75      ],\n",
       "       [0.        , 0.        , 1.        ],\n",
       "       [0.        , 0.        , 1.        ],\n",
       "       [0.        , 0.72727273, 0.27272727],\n",
       "       [0.        , 0.        , 1.        ],\n",
       "       [0.        , 0.        , 1.        ],\n",
       "       [0.        , 0.        , 1.        ],\n",
       "       [0.        , 0.75      , 0.25      ],\n",
       "       [0.        , 0.6       , 0.4       ],\n",
       "       [0.        , 0.        , 1.        ],\n",
       "       [0.        , 0.        , 1.        ],\n",
       "       [0.        , 0.        , 1.        ],\n",
       "       [0.        , 0.375     , 0.625     ],\n",
       "       [0.        , 0.        , 1.        ],\n",
       "       [0.        , 0.        , 1.        ],\n",
       "       [0.        , 0.07692308, 0.92307692],\n",
       "       [0.        , 0.        , 1.        ],\n",
       "       [0.        , 0.        , 1.        ],\n",
       "       [0.        , 0.        , 1.        ],\n",
       "       [0.        , 0.16666667, 0.83333333],\n",
       "       [0.        , 0.        , 1.        ],\n",
       "       [0.        , 0.        , 1.        ],\n",
       "       [0.        , 0.        , 1.        ],\n",
       "       [0.        , 0.1       , 0.9       ]])"
      ]
     },
     "execution_count": 84,
     "metadata": {},
     "output_type": "execute_result"
    }
   ],
   "source": [
    "forest.oob_decision_function_ \n",
    "## La mayoría de clase por modelo\n",
    "## es la mayoría de clases para hacer la clasificacion final"
   ]
  },
  {
   "cell_type": "code",
   "execution_count": 30,
   "id": "ca0cb4d4",
   "metadata": {
    "scrolled": true
   },
   "outputs": [
    {
     "name": "stdout",
     "output_type": "stream",
     "text": [
      "\n",
      "=== Evaluación con todo el dataset ===\n",
      "Accuracy: 1.0000\n",
      "Matriz de confusión:\n"
     ]
    },
    {
     "data": {
      "image/png": "[encoded data removed]",
      "text/plain": [
       "<Figure size 640x480 with 2 Axes>"
      ]
     },
     "metadata": {},
     "output_type": "display_data"
    },
    {
     "name": "stdout",
     "output_type": "stream",
     "text": [
      "\n",
      "Reporte de clasificación:\n",
      "              precision    recall  f1-score   support\n",
      "\n",
      "      setosa       1.00      1.00      1.00        50\n",
      "  versicolor       1.00      1.00      1.00        50\n",
      "   virginica       1.00      1.00      1.00        50\n",
      "\n",
      "    accuracy                           1.00       150\n",
      "   macro avg       1.00      1.00      1.00       150\n",
      "weighted avg       1.00      1.00      1.00       150\n",
      "\n"
     ]
    }
   ],
   "source": [
    "# 5. Evaluación del rendimiento\n",
    "print(\"\\n=== Evaluación con todo el dataset ===\")\n",
    "print(f\"Accuracy: {accuracy_score(y, y_pred_forest):.4f}\")\n",
    "print(\"Matriz de confusión:\")\n",
    "ConfusionMatrixDisplay.from_estimator(forest, X, y, display_labels=iris.target_names, cmap='Blues')\n",
    "plt.grid(False)\n",
    "plt.title(\"Matriz de confusión - Random Forest\")\n",
    "plt.show()\n",
    "\n",
    "print(\"\\nReporte de clasificación:\")\n",
    "print(classification_report(y, y_pred_forest, target_names=iris.target_names))"
   ]
  },
  {
   "cell_type": "code",
   "execution_count": 34,
   "id": "db3f2f31-2933-449d-bb74-7f2aa270f188",
   "metadata": {},
   "outputs": [
    {
     "data": {
      "image/png": "[encoded data removed]",
      "text/plain": [
       "<Figure size 800x500 with 1 Axes>"
      ]
     },
     "metadata": {},
     "output_type": "display_data"
    }
   ],
   "source": [
    "# 6. Importancia de características\n",
    "importances = forest.feature_importances_\n",
    "feature_names = forest.feature_names_in_\n",
    "\n",
    "# Crear DataFrame para ordenar y visualizar\n",
    "df_importance = pd.DataFrame({'feature': feature_names, 'importance': importances})\n",
    "df_importance = df_importance.sort_values(by='importance', ascending=False)\n",
    "\n",
    "# Visualización\n",
    "plt.figure(figsize=(8,5))\n",
    "plt.barh(df_importance['feature'], df_importance['importance'], color='lightblue')\n",
    "plt.xlabel(\"Importancia\")\n",
    "plt.title(\"Importancia de características - Random Forest\")\n",
    "plt.gca().invert_yaxis()\n",
    "plt.tight_layout()\n",
    "plt.show()"
   ]
  },
  {
   "cell_type": "markdown",
   "id": "39fe0c6f-1e90-4cc4-8da1-60acfa17df59",
   "metadata": {},
   "source": [
    "## Resumen y conclusiones\n",
    "\n",
    "En este notebook exploramos a fondo los árboles de decisión como modelo base para tareas de clasificación, aplicándolos al dataset *Iris*. Aprendimos cómo funcionan internamente, cómo toman decisiones mediante divisiones jerárquicas, y cómo evaluar su desempeño utilizando métricas como la exactitud, la matriz de confusión y la curva ROC. Vimos que, aunque los árboles individuales son interpretables y rápidos de entrenar, también pueden ser propensos al sobreajuste si no se controlan adecuadamente. Por ello, analizamos estrategias como la **poda** y la validación cruzada para ajustar su complejidad.\n",
    "\n",
    "Posteriormente, introdujimos el modelo de **Random Forest**, que combina múltiples árboles entrenados sobre subconjuntos aleatorios de datos y características. Observamos que este enfoque reduce la varianza, mejora la generalización y permite además realizar una validación interna a través de las **muestras out-of-bag (OOB)**. Esta validación automática aporta una estimación del rendimiento sin necesidad de usar un conjunto de prueba separado, lo que lo hace especialmente útil en contextos con pocos datos.\n",
    "\n",
    "En conclusión, los árboles de decisión son una excelente herramienta de aprendizaje automático supervisado, y el modelo Random Forest representa una evolución natural que mejora su estabilidad y precisión sin perder interpretabilidad. Ambos modelos nos brindan, además, información valiosa sobre la importancia relativa de las variables, lo que facilita su análisis y comprensión."
   ]
  },
  {
   "cell_type": "code",
   "execution_count": null,
   "id": "15f5bf1b-7117-4d4f-891c-7213bcaeaeba",
   "metadata": {},
   "outputs": [],
   "source": []
  }
 ],
 "metadata": {
  "kernelspec": {
   "display_name": "Python 3 (ipykernel)",
   "language": "python",
   "name": "python3"
  },
  "language_info": {
   "codemirror_mode": {
    "name": "ipython",
    "version": 3
   },
   "file_extension": ".py",
   "mimetype": "text/x-python",
   "name": "python",
   "nbconvert_exporter": "python",
   "pygments_lexer": "ipython3",
   "version": "3.10.16"
  }
 },
 "nbformat": 4,
 "nbformat_minor": 5
}
